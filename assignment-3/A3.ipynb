{
 "cells": [
  {
   "cell_type": "markdown",
   "metadata": {},
   "source": [
    "# A3: Visualization for Exploratory Data Analysis"
   ]
  },
  {
   "cell_type": "markdown",
   "metadata": {},
   "source": [
    "* [Part 1: EDA](#Part-1.-EDA)\n",
    "* [Part 2: Data Analysis](#Part-2:-Data-analysis-with-Matplotlib)\n",
    "* [Submission](#Submission)\n",
    "* [Lab environment](#Lab-environment-for-the-assignment)"
   ]
  },
  {
   "cell_type": "markdown",
   "metadata": {},
   "source": [
    "## Objective"
   ]
  },
  {
   "cell_type": "markdown",
   "metadata": {},
   "source": [
    "The main focus of [our course](https://courses.cs.sfu.ca/2020sp-cmpt-733-g1) is on data analytics. In fact, however, there are many other exciting topics about Big Data, which we cannot cover due to time constraints. [Lecture 3](https://sfu-db.github.io/bigdata-cmpt733/Lectures/lec3.pdf) gave you a brief overview of Visualization. Assignment 3 is designed to deepen your understanding. After completing this assignment, you should be able to answer the following questions:"
   ]
  },
  {
   "cell_type": "markdown",
   "metadata": {},
   "source": [
    "1. How to perform visual data analysis using Python?\n",
    "2. How to study the behaviour of a machine learning algorithm using visualization?"
   ]
  },
  {
   "cell_type": "markdown",
   "metadata": {},
   "source": [
    "As a motivating example of how visualization can bring data to life and clear up misconceptions, consider to watch [Hans Rosling's famous TED talks](https://www.ted.com/playlists/474/the_best_hans_rosling_talks_yo), e.g. \"The best stat's you've ever seen\" from 2006."
   ]
  },
  {
   "cell_type": "markdown",
   "metadata": {},
   "source": [
    "## Part 1. EDA"
   ]
  },
  {
   "cell_type": "markdown",
   "metadata": {},
   "source": [
    "**Real estate data**\n",
    "\n",
    "Imagine you are data scientist working at a real-estate company. In this week, you job is to analyze the Vancouver's housing price. You first download a dataset from [property_tax_report_2019.zip](property_tax_report_2019.zip). The dataset contains information on properties from BC Assessment (BCA) and City sources in 2019.  You can find the schema information of the dataset from this [webpage](http://data.vancouver.ca/datacatalogue/propertyTaxAttributes.htm). But this is not enough. You still know little about the data. That's why you need to do EDA in order to get a better and deeper understanding of the data."
   ]
  },
  {
   "cell_type": "markdown",
   "metadata": {},
   "source": [
    "We first load the data as a DataFrame. To make this analysis more interesting, I added two new columns to the data: `CURRENT_PRICE` represents the property price in 2019; `PREVIOUS_PRICE` represents the property price in 2018. "
   ]
  },
  {
   "cell_type": "code",
   "execution_count": 1,
   "metadata": {},
   "outputs": [],
   "source": [
    "import pandas as pd\n",
    "\n",
    "# before running this, unzip the provided data\n",
    "df = pd.read_csv(\"data/property_tax_report_2019.csv\")\n",
    "\n",
    "df['CURRENT_PRICE'] = df.apply(lambda x: x['CURRENT_LAND_VALUE']+x['CURRENT_IMPROVEMENT_VALUE'], axis = 1)\n",
    "\n",
    "df['PREVIOUS_PRICE'] = df.apply(lambda x: x['PREVIOUS_LAND_VALUE']+x['PREVIOUS_IMPROVEMENT_VALUE'], axis = 1)"
   ]
  },
  {
   "cell_type": "markdown",
   "metadata": {},
   "source": [
    "Now let's start the EDA process. \n",
    "\n",
    "**Hint.** For some of the following questions, we provided an example plot (see [link](https://rawgit.com/sfu-db/bigdata-cmpt733/master/Assignments/A3/A3-plots.html)). But note that you do not have to use the same plot design. In fact, we didn't do a good job to follow the *Principles of Visualization Design* in the second half of the slides of [Lecture 3](https://sfu-db.github.io/bigdata-cmpt733/Lectures/lec3.pdf), please review this part by yourself.\n",
    "You should think about how to correct the bad designs in my plots."
   ]
  },
  {
   "cell_type": "markdown",
   "metadata": {},
   "source": [
    "### Question 1. Look at some example rows\n",
    "Print the first five rows of the data:"
   ]
  },
  {
   "cell_type": "code",
   "execution_count": 2,
   "metadata": {},
   "outputs": [
    {
     "data": {
      "text/html": [
       "<div>\n",
       "<style scoped>\n",
       "    .dataframe tbody tr th:only-of-type {\n",
       "        vertical-align: middle;\n",
       "    }\n",
       "\n",
       "    .dataframe tbody tr th {\n",
       "        vertical-align: top;\n",
       "    }\n",
       "\n",
       "    .dataframe thead th {\n",
       "        text-align: right;\n",
       "    }\n",
       "</style>\n",
       "<table border=\"1\" class=\"dataframe\">\n",
       "  <thead>\n",
       "    <tr style=\"text-align: right;\">\n",
       "      <th></th>\n",
       "      <th>PID</th>\n",
       "      <th>LEGAL_TYPE</th>\n",
       "      <th>FOLIO</th>\n",
       "      <th>LAND_COORDINATE</th>\n",
       "      <th>ZONE_NAME</th>\n",
       "      <th>ZONE_CATEGORY</th>\n",
       "      <th>LOT</th>\n",
       "      <th>BLOCK</th>\n",
       "      <th>PLAN</th>\n",
       "      <th>DISTRICT_LOT</th>\n",
       "      <th>...</th>\n",
       "      <th>CURRENT_IMPROVEMENT_VALUE</th>\n",
       "      <th>TAX_ASSESSMENT_YEAR</th>\n",
       "      <th>PREVIOUS_LAND_VALUE</th>\n",
       "      <th>PREVIOUS_IMPROVEMENT_VALUE</th>\n",
       "      <th>YEAR_BUILT</th>\n",
       "      <th>BIG_IMPROVEMENT_YEAR</th>\n",
       "      <th>TAX_LEVY</th>\n",
       "      <th>NEIGHBOURHOOD_CODE</th>\n",
       "      <th>CURRENT_PRICE</th>\n",
       "      <th>PREVIOUS_PRICE</th>\n",
       "    </tr>\n",
       "  </thead>\n",
       "  <tbody>\n",
       "    <tr>\n",
       "      <th>0</th>\n",
       "      <td>010-543-490</td>\n",
       "      <td>LAND</td>\n",
       "      <td>638035310000</td>\n",
       "      <td>63803531</td>\n",
       "      <td>RS-1</td>\n",
       "      <td>One Family Dwelling</td>\n",
       "      <td>17</td>\n",
       "      <td>C</td>\n",
       "      <td>VAP7743</td>\n",
       "      <td>538</td>\n",
       "      <td>...</td>\n",
       "      <td>40900.0</td>\n",
       "      <td>2020.0</td>\n",
       "      <td>3663000.0</td>\n",
       "      <td>36100.0</td>\n",
       "      <td>1948.0</td>\n",
       "      <td>1958.0</td>\n",
       "      <td>NaN</td>\n",
       "      <td>1</td>\n",
       "      <td>3157900.0</td>\n",
       "      <td>3699100.0</td>\n",
       "    </tr>\n",
       "    <tr>\n",
       "      <th>1</th>\n",
       "      <td>010-868-810</td>\n",
       "      <td>LAND</td>\n",
       "      <td>643019250000</td>\n",
       "      <td>64301925</td>\n",
       "      <td>RS-1</td>\n",
       "      <td>One Family Dwelling</td>\n",
       "      <td>3</td>\n",
       "      <td>7</td>\n",
       "      <td>VAP6583</td>\n",
       "      <td>140</td>\n",
       "      <td>...</td>\n",
       "      <td>5943000.0</td>\n",
       "      <td>2020.0</td>\n",
       "      <td>7373000.0</td>\n",
       "      <td>6278000.0</td>\n",
       "      <td>2013.0</td>\n",
       "      <td>2015.0</td>\n",
       "      <td>NaN</td>\n",
       "      <td>1</td>\n",
       "      <td>11950000.0</td>\n",
       "      <td>13651000.0</td>\n",
       "    </tr>\n",
       "    <tr>\n",
       "      <th>2</th>\n",
       "      <td>007-944-055</td>\n",
       "      <td>LAND</td>\n",
       "      <td>23637870000</td>\n",
       "      <td>2363787</td>\n",
       "      <td>RS-1</td>\n",
       "      <td>One Family Dwelling</td>\n",
       "      <td>7</td>\n",
       "      <td>137</td>\n",
       "      <td>VAP6064</td>\n",
       "      <td>540</td>\n",
       "      <td>...</td>\n",
       "      <td>1417000.0</td>\n",
       "      <td>2020.0</td>\n",
       "      <td>4108000.0</td>\n",
       "      <td>1421000.0</td>\n",
       "      <td>2010.0</td>\n",
       "      <td>2011.0</td>\n",
       "      <td>NaN</td>\n",
       "      <td>1</td>\n",
       "      <td>4817000.0</td>\n",
       "      <td>5529000.0</td>\n",
       "    </tr>\n",
       "    <tr>\n",
       "      <th>3</th>\n",
       "      <td>007-284-250</td>\n",
       "      <td>LAND</td>\n",
       "      <td>24630040000</td>\n",
       "      <td>2463004</td>\n",
       "      <td>RS-1</td>\n",
       "      <td>One Family Dwelling</td>\n",
       "      <td>E</td>\n",
       "      <td>130</td>\n",
       "      <td>VAP17355</td>\n",
       "      <td>540</td>\n",
       "      <td>...</td>\n",
       "      <td>186000.0</td>\n",
       "      <td>2020.0</td>\n",
       "      <td>4813000.0</td>\n",
       "      <td>189000.0</td>\n",
       "      <td>1980.0</td>\n",
       "      <td>1980.0</td>\n",
       "      <td>NaN</td>\n",
       "      <td>1</td>\n",
       "      <td>4177000.0</td>\n",
       "      <td>5002000.0</td>\n",
       "    </tr>\n",
       "    <tr>\n",
       "      <th>4</th>\n",
       "      <td>005-264-642</td>\n",
       "      <td>STRATA</td>\n",
       "      <td>24637320005</td>\n",
       "      <td>2463732</td>\n",
       "      <td>CD-1 (123)</td>\n",
       "      <td>Comprehensive Development</td>\n",
       "      <td>5</td>\n",
       "      <td>NaN</td>\n",
       "      <td>VAS506</td>\n",
       "      <td>540</td>\n",
       "      <td>...</td>\n",
       "      <td>222000.0</td>\n",
       "      <td>2020.0</td>\n",
       "      <td>3281000.0</td>\n",
       "      <td>241000.0</td>\n",
       "      <td>1978.0</td>\n",
       "      <td>1978.0</td>\n",
       "      <td>NaN</td>\n",
       "      <td>1</td>\n",
       "      <td>2892000.0</td>\n",
       "      <td>3522000.0</td>\n",
       "    </tr>\n",
       "  </tbody>\n",
       "</table>\n",
       "<p>5 rows × 30 columns</p>\n",
       "</div>"
      ],
      "text/plain": [
       "           PID LEGAL_TYPE         FOLIO  LAND_COORDINATE   ZONE_NAME  \\\n",
       "0  010-543-490       LAND  638035310000         63803531        RS-1   \n",
       "1  010-868-810       LAND  643019250000         64301925        RS-1   \n",
       "2  007-944-055       LAND   23637870000          2363787        RS-1   \n",
       "3  007-284-250       LAND   24630040000          2463004        RS-1   \n",
       "4  005-264-642     STRATA   24637320005          2463732  CD-1 (123)   \n",
       "\n",
       "               ZONE_CATEGORY LOT BLOCK      PLAN DISTRICT_LOT  ...  \\\n",
       "0        One Family Dwelling  17     C   VAP7743          538  ...   \n",
       "1        One Family Dwelling   3     7   VAP6583          140  ...   \n",
       "2        One Family Dwelling   7   137   VAP6064          540  ...   \n",
       "3        One Family Dwelling   E   130  VAP17355          540  ...   \n",
       "4  Comprehensive Development   5   NaN    VAS506          540  ...   \n",
       "\n",
       "  CURRENT_IMPROVEMENT_VALUE  TAX_ASSESSMENT_YEAR PREVIOUS_LAND_VALUE  \\\n",
       "0                   40900.0               2020.0           3663000.0   \n",
       "1                 5943000.0               2020.0           7373000.0   \n",
       "2                 1417000.0               2020.0           4108000.0   \n",
       "3                  186000.0               2020.0           4813000.0   \n",
       "4                  222000.0               2020.0           3281000.0   \n",
       "\n",
       "  PREVIOUS_IMPROVEMENT_VALUE YEAR_BUILT BIG_IMPROVEMENT_YEAR TAX_LEVY  \\\n",
       "0                    36100.0     1948.0               1958.0      NaN   \n",
       "1                  6278000.0     2013.0               2015.0      NaN   \n",
       "2                  1421000.0     2010.0               2011.0      NaN   \n",
       "3                   189000.0     1980.0               1980.0      NaN   \n",
       "4                   241000.0     1978.0               1978.0      NaN   \n",
       "\n",
       "  NEIGHBOURHOOD_CODE CURRENT_PRICE  PREVIOUS_PRICE  \n",
       "0                  1     3157900.0       3699100.0  \n",
       "1                  1    11950000.0      13651000.0  \n",
       "2                  1     4817000.0       5529000.0  \n",
       "3                  1     4177000.0       5002000.0  \n",
       "4                  1     2892000.0       3522000.0  \n",
       "\n",
       "[5 rows x 30 columns]"
      ]
     },
     "execution_count": 2,
     "metadata": {},
     "output_type": "execute_result"
    }
   ],
   "source": [
    "# --- Write your code below ---\n",
    "df.head(5)"
   ]
  },
  {
   "cell_type": "markdown",
   "metadata": {},
   "source": [
    "### Question 2. Get summary statistics"
   ]
  },
  {
   "cell_type": "markdown",
   "metadata": {},
   "source": [
    "From the above output, you will know that the data has 28 columns. Please use the describe() function to get the summary statistics of each column."
   ]
  },
  {
   "cell_type": "code",
   "execution_count": 3,
   "metadata": {},
   "outputs": [
    {
     "data": {
      "text/html": [
       "<div>\n",
       "<style scoped>\n",
       "    .dataframe tbody tr th:only-of-type {\n",
       "        vertical-align: middle;\n",
       "    }\n",
       "\n",
       "    .dataframe tbody tr th {\n",
       "        vertical-align: top;\n",
       "    }\n",
       "\n",
       "    .dataframe thead th {\n",
       "        text-align: right;\n",
       "    }\n",
       "</style>\n",
       "<table border=\"1\" class=\"dataframe\">\n",
       "  <thead>\n",
       "    <tr style=\"text-align: right;\">\n",
       "      <th></th>\n",
       "      <th>FOLIO</th>\n",
       "      <th>LAND_COORDINATE</th>\n",
       "      <th>TO_CIVIC_NUMBER</th>\n",
       "      <th>CURRENT_LAND_VALUE</th>\n",
       "      <th>CURRENT_IMPROVEMENT_VALUE</th>\n",
       "      <th>TAX_ASSESSMENT_YEAR</th>\n",
       "      <th>PREVIOUS_LAND_VALUE</th>\n",
       "      <th>PREVIOUS_IMPROVEMENT_VALUE</th>\n",
       "      <th>YEAR_BUILT</th>\n",
       "      <th>BIG_IMPROVEMENT_YEAR</th>\n",
       "      <th>TAX_LEVY</th>\n",
       "      <th>NEIGHBOURHOOD_CODE</th>\n",
       "      <th>CURRENT_PRICE</th>\n",
       "      <th>PREVIOUS_PRICE</th>\n",
       "    </tr>\n",
       "  </thead>\n",
       "  <tbody>\n",
       "    <tr>\n",
       "      <th>count</th>\n",
       "      <td>2.131730e+05</td>\n",
       "      <td>2.131730e+05</td>\n",
       "      <td>212614.000000</td>\n",
       "      <td>2.116890e+05</td>\n",
       "      <td>2.116890e+05</td>\n",
       "      <td>211689.0</td>\n",
       "      <td>2.094580e+05</td>\n",
       "      <td>2.094580e+05</td>\n",
       "      <td>207947.000000</td>\n",
       "      <td>207947.000000</td>\n",
       "      <td>0.0</td>\n",
       "      <td>213173.000000</td>\n",
       "      <td>2.116890e+05</td>\n",
       "      <td>2.094580e+05</td>\n",
       "    </tr>\n",
       "    <tr>\n",
       "      <th>mean</th>\n",
       "      <td>4.990187e+11</td>\n",
       "      <td>4.990187e+07</td>\n",
       "      <td>2367.091217</td>\n",
       "      <td>1.650511e+06</td>\n",
       "      <td>4.173165e+05</td>\n",
       "      <td>2020.0</td>\n",
       "      <td>1.861022e+06</td>\n",
       "      <td>3.985750e+05</td>\n",
       "      <td>1983.303712</td>\n",
       "      <td>1990.890366</td>\n",
       "      <td>NaN</td>\n",
       "      <td>16.509023</td>\n",
       "      <td>2.067827e+06</td>\n",
       "      <td>2.259597e+06</td>\n",
       "    </tr>\n",
       "    <tr>\n",
       "      <th>std</th>\n",
       "      <td>2.484478e+11</td>\n",
       "      <td>2.484478e+07</td>\n",
       "      <td>1974.417146</td>\n",
       "      <td>9.498832e+06</td>\n",
       "      <td>4.355459e+06</td>\n",
       "      <td>0.0</td>\n",
       "      <td>1.062555e+07</td>\n",
       "      <td>4.073771e+06</td>\n",
       "      <td>29.639154</td>\n",
       "      <td>19.504433</td>\n",
       "      <td>NaN</td>\n",
       "      <td>8.975789</td>\n",
       "      <td>1.182037e+07</td>\n",
       "      <td>1.265086e+07</td>\n",
       "    </tr>\n",
       "    <tr>\n",
       "      <th>min</th>\n",
       "      <td>1.963206e+10</td>\n",
       "      <td>1.963206e+06</td>\n",
       "      <td>1.000000</td>\n",
       "      <td>0.000000e+00</td>\n",
       "      <td>0.000000e+00</td>\n",
       "      <td>2020.0</td>\n",
       "      <td>0.000000e+00</td>\n",
       "      <td>0.000000e+00</td>\n",
       "      <td>1800.000000</td>\n",
       "      <td>200.000000</td>\n",
       "      <td>NaN</td>\n",
       "      <td>1.000000</td>\n",
       "      <td>1.000000e+00</td>\n",
       "      <td>0.000000e+00</td>\n",
       "    </tr>\n",
       "    <tr>\n",
       "      <th>25%</th>\n",
       "      <td>2.107441e+11</td>\n",
       "      <td>2.107441e+07</td>\n",
       "      <td>939.000000</td>\n",
       "      <td>4.590000e+05</td>\n",
       "      <td>9.710000e+04</td>\n",
       "      <td>2020.0</td>\n",
       "      <td>5.040000e+05</td>\n",
       "      <td>9.570000e+04</td>\n",
       "      <td>1972.000000</td>\n",
       "      <td>1979.000000</td>\n",
       "      <td>NaN</td>\n",
       "      <td>9.000000</td>\n",
       "      <td>6.403000e+05</td>\n",
       "      <td>6.900000e+05</td>\n",
       "    </tr>\n",
       "    <tr>\n",
       "      <th>50%</th>\n",
       "      <td>6.122714e+11</td>\n",
       "      <td>6.122714e+07</td>\n",
       "      <td>1775.000000</td>\n",
       "      <td>9.230000e+05</td>\n",
       "      <td>1.860000e+05</td>\n",
       "      <td>2020.0</td>\n",
       "      <td>1.045000e+06</td>\n",
       "      <td>1.840000e+05</td>\n",
       "      <td>1993.000000</td>\n",
       "      <td>1994.000000</td>\n",
       "      <td>NaN</td>\n",
       "      <td>16.000000</td>\n",
       "      <td>1.119000e+06</td>\n",
       "      <td>1.253000e+06</td>\n",
       "    </tr>\n",
       "    <tr>\n",
       "      <th>75%</th>\n",
       "      <td>6.891993e+11</td>\n",
       "      <td>6.891993e+07</td>\n",
       "      <td>3319.000000</td>\n",
       "      <td>1.400000e+06</td>\n",
       "      <td>3.040000e+05</td>\n",
       "      <td>2020.0</td>\n",
       "      <td>1.611000e+06</td>\n",
       "      <td>2.980000e+05</td>\n",
       "      <td>2005.000000</td>\n",
       "      <td>2005.000000</td>\n",
       "      <td>NaN</td>\n",
       "      <td>25.000000</td>\n",
       "      <td>1.698200e+06</td>\n",
       "      <td>1.898000e+06</td>\n",
       "    </tr>\n",
       "    <tr>\n",
       "      <th>max</th>\n",
       "      <td>8.453134e+11</td>\n",
       "      <td>8.453134e+07</td>\n",
       "      <td>9295.000000</td>\n",
       "      <td>2.759584e+09</td>\n",
       "      <td>6.934260e+08</td>\n",
       "      <td>2020.0</td>\n",
       "      <td>3.165054e+09</td>\n",
       "      <td>6.228440e+08</td>\n",
       "      <td>2019.000000</td>\n",
       "      <td>2019.000000</td>\n",
       "      <td>NaN</td>\n",
       "      <td>30.000000</td>\n",
       "      <td>2.767385e+09</td>\n",
       "      <td>3.172855e+09</td>\n",
       "    </tr>\n",
       "  </tbody>\n",
       "</table>\n",
       "</div>"
      ],
      "text/plain": [
       "              FOLIO  LAND_COORDINATE  TO_CIVIC_NUMBER  CURRENT_LAND_VALUE  \\\n",
       "count  2.131730e+05     2.131730e+05    212614.000000        2.116890e+05   \n",
       "mean   4.990187e+11     4.990187e+07      2367.091217        1.650511e+06   \n",
       "std    2.484478e+11     2.484478e+07      1974.417146        9.498832e+06   \n",
       "min    1.963206e+10     1.963206e+06         1.000000        0.000000e+00   \n",
       "25%    2.107441e+11     2.107441e+07       939.000000        4.590000e+05   \n",
       "50%    6.122714e+11     6.122714e+07      1775.000000        9.230000e+05   \n",
       "75%    6.891993e+11     6.891993e+07      3319.000000        1.400000e+06   \n",
       "max    8.453134e+11     8.453134e+07      9295.000000        2.759584e+09   \n",
       "\n",
       "       CURRENT_IMPROVEMENT_VALUE  TAX_ASSESSMENT_YEAR  PREVIOUS_LAND_VALUE  \\\n",
       "count               2.116890e+05             211689.0         2.094580e+05   \n",
       "mean                4.173165e+05               2020.0         1.861022e+06   \n",
       "std                 4.355459e+06                  0.0         1.062555e+07   \n",
       "min                 0.000000e+00               2020.0         0.000000e+00   \n",
       "25%                 9.710000e+04               2020.0         5.040000e+05   \n",
       "50%                 1.860000e+05               2020.0         1.045000e+06   \n",
       "75%                 3.040000e+05               2020.0         1.611000e+06   \n",
       "max                 6.934260e+08               2020.0         3.165054e+09   \n",
       "\n",
       "       PREVIOUS_IMPROVEMENT_VALUE     YEAR_BUILT  BIG_IMPROVEMENT_YEAR  \\\n",
       "count                2.094580e+05  207947.000000         207947.000000   \n",
       "mean                 3.985750e+05    1983.303712           1990.890366   \n",
       "std                  4.073771e+06      29.639154             19.504433   \n",
       "min                  0.000000e+00    1800.000000            200.000000   \n",
       "25%                  9.570000e+04    1972.000000           1979.000000   \n",
       "50%                  1.840000e+05    1993.000000           1994.000000   \n",
       "75%                  2.980000e+05    2005.000000           2005.000000   \n",
       "max                  6.228440e+08    2019.000000           2019.000000   \n",
       "\n",
       "       TAX_LEVY  NEIGHBOURHOOD_CODE  CURRENT_PRICE  PREVIOUS_PRICE  \n",
       "count       0.0       213173.000000   2.116890e+05    2.094580e+05  \n",
       "mean        NaN           16.509023   2.067827e+06    2.259597e+06  \n",
       "std         NaN            8.975789   1.182037e+07    1.265086e+07  \n",
       "min         NaN            1.000000   1.000000e+00    0.000000e+00  \n",
       "25%         NaN            9.000000   6.403000e+05    6.900000e+05  \n",
       "50%         NaN           16.000000   1.119000e+06    1.253000e+06  \n",
       "75%         NaN           25.000000   1.698200e+06    1.898000e+06  \n",
       "max         NaN           30.000000   2.767385e+09    3.172855e+09  "
      ]
     },
     "execution_count": 3,
     "metadata": {},
     "output_type": "execute_result"
    }
   ],
   "source": [
    "# --- Write your code below ---\n",
    "df.describe()"
   ]
  },
  {
   "cell_type": "markdown",
   "metadata": {},
   "source": [
    "Please look at the above output carefully, and make sure that you understand the meanings of each row (e.g., std, 25% percentile)."
   ]
  },
  {
   "cell_type": "markdown",
   "metadata": {},
   "source": [
    "### Question 3. Examine missing values"
   ]
  },
  {
   "cell_type": "markdown",
   "metadata": {},
   "source": [
    "Now we are going to perform EDA on a single column (i.e., univariate analysis). We chose `YEAR_BUILT`, which represents in which year a property was built.  We first check whether the column has any missing value. "
   ]
  },
  {
   "cell_type": "code",
   "execution_count": 4,
   "metadata": {
    "scrolled": true
   },
   "outputs": [
    {
     "name": "stdout",
     "output_type": "stream",
     "text": [
      "2.45%\n"
     ]
    }
   ],
   "source": [
    "# --- Write your code below ---\n",
    "# Print the percentage of the rows whose YEAR_BUILT is missing.\n",
    "def get_percentage(df, column_name):\n",
    "    total_count = len(df)\n",
    "    null_count = len(df[pd.isnull(df[column_name])])\n",
    "    \n",
    "    return ((null_count * 100) / total_count)\n",
    "    \n",
    "print(\"%2.2f%%\" % get_percentage(df, 'YEAR_BUILT'))"
   ]
  },
  {
   "cell_type": "markdown",
   "metadata": {},
   "source": [
    "Missing values are very common in real-world datasets. In practice, you should always be aware of the impact of the missing values on your downstream analysis results."
   ]
  },
  {
   "cell_type": "markdown",
   "metadata": {},
   "source": [
    "### Question 4.  Plot a line chart"
   ]
  },
  {
   "cell_type": "markdown",
   "metadata": {},
   "source": [
    "We now start investigating the values in the `YEAR_BUILT` column.  Suppose we want to know: \"How many properties were built in each year (from 1990 to 2018)?\" Please plot a line chart to answer the question."
   ]
  },
  {
   "cell_type": "code",
   "execution_count": 6,
   "metadata": {
    "scrolled": true
   },
   "outputs": [
    {
     "data": {
      "image/png": "[encoded data removed]",
      "text/plain": [
       "<Figure size 720x216 with 1 Axes>"
      ]
     },
     "metadata": {
      "needs_background": "light"
     },
     "output_type": "display_data"
    }
   ],
   "source": [
    "# --- Write your code below ---\n",
    "import seaborn as sns\n",
    "import matplotlib.pyplot as plt\n",
    "\n",
    "def draw_line_chart(start_year, end_year):\n",
    "    min_year = start_year\n",
    "    max_year = end_year\n",
    "\n",
    "    df_filter = df.loc[(df['YEAR_BUILT'] >= min_year) & (df['YEAR_BUILT'] <= max_year)]\n",
    "\n",
    "    df_result = df_filter.groupby('YEAR_BUILT', as_index=False).count()\n",
    "\n",
    "    plt.figure(figsize=(10,3))\n",
    "    sns.set_style('whitegrid')\n",
    "    ax = sns.lineplot(x = 'YEAR_BUILT', y = 'PID', data=df_result)\n",
    "    ax.set(xlabel='Year Built', ylabel='# of Properties')\n",
    "    ax.set(xlim=(min_year, max_year))\n",
    "    plt.show()\n",
    "    \n",
    "draw_line_chart(1990, 2018)"
   ]
  },
  {
   "cell_type": "markdown",
   "metadata": {},
   "source": [
    "Please write down the **two** most interesting findings that you draw from the plot. For example, you can say: <font color='blue'>\"Vancouver has about 6300 properties built in 1996 alone, which is more than any other year\"</font>.\n",
    "\n",
    "**Findings**\n",
    "1. <font color='red'>Number of properties builts in the year 2001 has dropped to the lowest value of around 1400 compared with other years.</font>\n",
    "2. <font color='red'>Although there are fluctuations between years 1994 and 2018, we can see a downward trend in the number of properties built during this period.</font>"
   ]
  },
  {
   "cell_type": "markdown",
   "metadata": {},
   "source": [
    "### Question 5. Plot a bar chart"
   ]
  },
  {
   "cell_type": "markdown",
   "metadata": {},
   "source": [
    "Next, we want to find that, between 1900 and 2018, which years have the most number of properties been built? Plot a bar chart to show the top 20 years. "
   ]
  },
  {
   "cell_type": "code",
   "execution_count": 9,
   "metadata": {
    "scrolled": true
   },
   "outputs": [
    {
     "data": {
      "image/png": "[encoded data removed]",
      "text/plain": [
       "<Figure size 720x216 with 1 Axes>"
      ]
     },
     "metadata": {},
     "output_type": "display_data"
    }
   ],
   "source": [
    "# --- Write your code below ---\n",
    "df_filter = df.loc[df['YEAR_BUILT'] >= 1900]\n",
    "\n",
    "df_grouped = df_filter.groupby('YEAR_BUILT').count()\n",
    "\n",
    "df_sorted = df_grouped.sort_values(['PID'], ascending=False).head(20).reset_index()\n",
    "df_sorted['YEAR_BUILT'] = df_sorted['YEAR_BUILT'].apply(lambda x: int(x))\n",
    "\n",
    "plt.figure(figsize=(10, 3))\n",
    "ax = sns.barplot(x = 'YEAR_BUILT', y='PID', data=df_sorted, order=df_sorted['YEAR_BUILT'])\n",
    "ax.set(xlabel='Year Built', ylabel='# of Properties')\n",
    "plt.show()"
   ]
  },
  {
   "cell_type": "markdown",
   "metadata": {},
   "source": [
    "Please write down the **two** most interesting findings that you draw from the plot. \n",
    "\n",
    "**Findings**\n",
    "1. <font color='red'>90 percent of our top 20 list dedicate to years after 1992. There are only two years between 1900 and 1992 (a period of 92 years) in the top 20 list including years 1912 and 1989.</font>\n",
    "2. <font color='red'>8 consecutive years from 1993 to 2000 has shown to be in our list of top 20.</font> "
   ]
  },
  {
   "cell_type": "markdown",
   "metadata": {},
   "source": [
    "### Question 6. Plot a histogram"
   ]
  },
  {
   "cell_type": "markdown",
   "metadata": {},
   "source": [
    "What's the distribution of the number of properties built between 1990 and 2018? Please plot a histogram to answer this question."
   ]
  },
  {
   "cell_type": "code",
   "execution_count": 10,
   "metadata": {},
   "outputs": [
    {
     "data": {
      "image/png": "[encoded data removed]",
      "text/plain": [
       "<Figure size 432x288 with 1 Axes>"
      ]
     },
     "metadata": {},
     "output_type": "display_data"
    }
   ],
   "source": [
    "df_filter = df.loc[(df['YEAR_BUILT'] >= 1900) & (df['YEAR_BUILT'] <= 2018)]\n",
    "\n",
    "df_grouped = df_filter.groupby('YEAR_BUILT', as_index=False).count()['PID']\n",
    "\n",
    "sns.set_style('white')\n",
    "ax = sns.distplot(df_grouped, bins=30, kde=False, color='navy')\n",
    "ax.set(xlabel = '# of Properties', ylabel = 'Frequency')\n",
    "ax.set(xlim=(0));"
   ]
  },
  {
   "cell_type": "markdown",
   "metadata": {},
   "source": [
    "Please write down the **two** most interesting findings that you draw from the plot. \n",
    "\n",
    "**Findings**\n",
    "1. <font color='red'>Number of properties built per year is skewed toward 1000. By changing bins value, we can see that the constructions of range 0 and 1000 has the highest distribution.</font>\n",
    "2. <font color='red'>There are only a few years that has more than 5000 properties built per year.</font>"
   ]
  },
  {
   "cell_type": "markdown",
   "metadata": {},
   "source": [
    "### Question 7. Make a scatter plot"
   ]
  },
  {
   "cell_type": "markdown",
   "metadata": {},
   "source": [
    "Suppose we are interested in those years which built more than 2000 properties. Make a scatter plot to examine whether there is a relationship between the number of built properties and the year?"
   ]
  },
  {
   "cell_type": "code",
   "execution_count": 13,
   "metadata": {},
   "outputs": [
    {
     "data": {
      "image/png": "[encoded data removed]",
      "text/plain": [
       "<Figure size 432x288 with 1 Axes>"
      ]
     },
     "metadata": {},
     "output_type": "display_data"
    }
   ],
   "source": [
    "# --- Write your code below ---\n",
    "df_filter = df.loc[(df['YEAR_BUILT'] >= 1900) & (df['YEAR_BUILT'] <= 2018)]\n",
    "\n",
    "df_grouped = df_filter.groupby('YEAR_BUILT', as_index=False).count()[['YEAR_BUILT','PID']]\n",
    "\n",
    "df_result = df_grouped.loc[df_grouped['PID'] >= 2000]\n",
    "\n",
    "sns.set_style('white')\n",
    "ax = sns.scatterplot(x = 'YEAR_BUILT', y='PID', data=df_result)\n",
    "ax.set(ylabel = '# of Properties', xlabel = 'Year Built');"
   ]
  },
  {
   "cell_type": "markdown",
   "metadata": {},
   "source": [
    "Please write down the **two** most interesting findings that you draw from the plot. \n",
    "\n",
    "**Findings**\n",
    "1. <font color='red'>Building of 2000 and more properties has almost happened years after 1970.</font>\n",
    "2. <font color='red'>It seems that number of properties built before 1920 is an outlier in this figure.</font>"
   ]
  },
  {
   "cell_type": "markdown",
   "metadata": {},
   "source": [
    "## Part 2: Data and Model Visualization"
   ]
  },
  {
   "cell_type": "markdown",
   "metadata": {},
   "source": [
    "Revisit [Assignment 9 from CMPT 732 - Weather prediction](https://coursys.sfu.ca/2018fa-cmpt-732-g1/pages/Assign9#h-predicting-the-weather-how-hard-can-it) and show a deeper analysis of the same temperature data utilizing a simplified version of the model you already have.\n",
    "\n",
    "**Data**\n",
    "\n",
    "The weather data on HDFS `/courses/732/tmax-{1,2,3,4}` spans a large time period and covers many stations around the globe. There are many possible questions to study. Use a python plotting library of your choice, such as matplotlib.\n",
    "\n",
    "**Model**\n",
    "\n",
    "The model from A9 of CMPT 732 was using `'latitude', 'longitude', 'elevation', 'yesterday_tmax', 'day_of_year'` as input features to predict `t_max`. Please retrain your model to only use `'latitude', 'longitude', 'elevation', 'day_of_year'` before proceeding with task (b) below, and include this re-trained `weather-model` in your submission."
   ]
  },
  {
   "cell_type": "markdown",
   "metadata": {},
   "source": [
    "**Tasks**\n",
    "\n",
    "**a)** Produce **one or more figures** that illustrate the **daily max. temperature distribution over the entire globe** and enable **a comparison of different, non-overlapping time periods**, e.g. to reveal temporal trends over longer time periods or recurring seasons.\n",
    "\n",
    "Only show temperatures where you have data available. Take care to handle overplotting of multiple different values into the same point on the figure, which might happen when you have multiple measurements for the same station in a chosen period. By *handle* overplotting we mean, for instance, to aggregate your data to have a clear meaning for the value that is displayed for a particular station, such as max. or average within the period.\n",
    "\n",
    "Here is an example from the web:\n",
    "<img src=\"http://c3headlines.typepad.com/.a/6a010536b58035970c013486e5c5e6970c-pi\"/>\n",
    "\n",
    "**b)** Produce two or more figures that show the result of your re-trained regression model from CMPT 732-A9, i.e. a version of the model that does not use `yesterday_tmax` as extra input feature:\n",
    "\n",
    "**(b1)** Evaluate your model at a grid of latitude, longitude positions around the globe spanning across oceans and continents, leading to a dense plot of temperatures. This could, for instance, look something like the following:\n",
    "<img src=\"http://www.physicalgeography.net/fundamentals/images/jan_temp.gif\"/>\n",
    "You can use a fixed `day_of_year` of your choice. Also, see further hints about `elevation` below.\n",
    "\n",
    "**(b2)** In a separate plot show the regression error of your model predictions against test data. In this case only use locations where data is given, i.e. you may reuse your plotting method from Part 2 (a)."
   ]
  },
  {
   "cell_type": "markdown",
   "metadata": {},
   "source": [
    "**Comments and Hints**\n",
    "\n",
    "Any imperfections of your trained model that show up in the visualization are fine. In fact, in this example it is a sign of a good visualization, if it enables us to understand shortcomings of the model. You are not marked for the performance of your model from 732-A9 again, but rather for the methods you create here to investigate it. \n",
    "\n",
    "Please attempt to make continent or country borders visible on your map. You can do that either by using library function or by using enough data points, such that the shape of some continents roughly emerges from the data distribution. Out of the different datasets please use one with at least 100k rows.\n",
    "\n",
    "For (b1) you will need elevation information for the points you produce. Have a look at [`elevation_grid.py`](https://github.com/sfu-db/bigdata-cmpt733/blob/master/Assignments/A3/elevation_grid.py) for a possible way to add this info to your choice of coordinates. If you place the accompanying [elevation data](https://github.com/sfu-db/bigdata-cmpt733/blob/master/Assignments/A3/elevations_latlon.npy.gz) in the same folder as the script you can import the module and see `help(evaluation_grid)` for example usage.\n",
    "![](img/elevations.png)\n",
    "`elevation_grid.py` internally stores elevation data as an array at 5 times the resolution of the figure shown here, use the `get_elevations` function to access it."
   ]
  },
  {
   "cell_type": "markdown",
   "metadata": {},
   "source": [
    "**Submission of Part 2** \n",
    "\n",
    "Please prepare the following components (each has one or two files):\n",
    "\n",
    "1. *Report:* Combine the plots into a PDF document `weather_report.pdf` along with brief captions explaining and discussing the figures. If you decide to produce the PDF using a Jupyter notebook that contains the markdown to render and discuss the figures saved by `weather_plot.py` you can submit it as `weather_report.ipynb`. Submitting the notebook is optional.\n",
    "2. *Code:* Please provide your code to produce the figures in a script `weather_plot.py`, which could be based on the [`weather_test.py`](https://coursys.sfu.ca/2018fa-cmpt-732-g1/pages/Assign9_Hint) from 732-A9. Since you may want to separate the spark code to run on the cluster from the plotting code, you can provide that in an optional script called `weather_spark.py`.\n",
    "Please ensure that all visualization code relevant for marking is in these python scripts.\n",
    "3. Submit the weather model that you are using.\n",
    "\n"
   ]
  },
  {
   "cell_type": "markdown",
   "metadata": {},
   "source": [
    "## Submission"
   ]
  },
  {
   "cell_type": "markdown",
   "metadata": {},
   "source": [
    "In summary, you need to complete the first part by filling out the first half of this notebook and the second part by following the submission instructions above. Overall, please submit <font color=\"blue\">A3.ipynb</font>, <font color=\"blue\">weather_plot.py</font>, <font color=\"blue\">weather_spark.py</font>, <font color=\"blue\">weather_report.{pdf|ipynb}</font>, and <font color=\"blue\">weather-model</font> to the CourSys activity [Assignment 3](https://courses.cs.sfu.ca/2020sp-cmpt-733-g1/+a3/)."
   ]
  },
  {
   "cell_type": "markdown",
   "metadata": {},
   "source": [
    "### Lab environment for the assignment\n",
    "\n",
    "**Scratch space**\n",
    "\n",
    "Your scratch space allows you to store larger files outside of your home folder, not counting them towards your limited disk quota. To make that space available via a link from your home folder use:\n",
    "```\n",
    "ln -s /usr/shared/CMPT/scratch/<username> ~/scratch\n",
    "```\n",
    "Similar to HDFS on gateway, please treat this space as a shared resource, i.e. remove large temporary files when you're done working with them.\n",
    "\n",
    "**Conda**\n",
    "\n",
    "For the big data lab setup, we have put a few useful python modules, such as `basemap` or `geoviews`, into a shared conda environment. To use the environment call\n",
    "```\n",
    "source activate /usr/shared/CMPT/big-data/condaenv/py36\n",
    "```\n",
    "or prepare once with\n",
    "```\n",
    "mkdir -p ~/.conda/envs\n",
    "ln -s /usr/shared/CMPT/big-data/condaenv/py36 ~/.conda/envs/\n",
    "```\n",
    "and from thereon simply activate using `source activate py36` and, for instance, work with `pyspark` on your local lab machine.\n",
    "\n",
    "**Pip**\n",
    "\n",
    "As alternative to conda you can also just use pip.\n",
    "\n",
    "For instance, create a pip environment called `myenv` in the scratch space (see above)\n",
    "```\n",
    "python -m venv ~/scratch/myenv\n",
    "```\n",
    "Activate: `source ~/scratch/myenv/bin/activate`\n"
   ]
  },
  {
   "cell_type": "code",
   "execution_count": null,
   "metadata": {},
   "outputs": [],
   "source": []
  }
 ],
 "metadata": {
  "kernelspec": {
   "display_name": "Python 3",
   "language": "python",
   "name": "python3"
  },
  "language_info": {
   "codemirror_mode": {
    "name": "ipython",
    "version": 3
   },
   "file_extension": ".py",
   "mimetype": "text/x-python",
   "name": "python",
   "nbconvert_exporter": "python",
   "pygments_lexer": "ipython3",
   "version": "3.7.4"
  }
 },
 "nbformat": 4,
 "nbformat_minor": 4
}
