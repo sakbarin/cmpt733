{
 "cells": [
  {
   "cell_type": "code",
   "execution_count": 1,
   "metadata": {},
   "outputs": [],
   "source": [
    "import pandas as pd\n",
    "import numpy as np\n",
    "from sklearn.model_selection import train_test_split\n",
    "from sklearn.metrics import mean_squared_error\n",
    "from sklearn.ensemble import RandomForestRegressor"
   ]
  },
  {
   "cell_type": "code",
   "execution_count": 2,
   "metadata": {},
   "outputs": [],
   "source": [
    "df = pd.read_csv('ch6_cell28_dev_feat1_filtered.tsv.gz', compression='gzip', sep='\\t')"
   ]
  },
  {
   "cell_type": "code",
   "execution_count": 3,
   "metadata": {},
   "outputs": [
    {
     "data": {
      "text/html": [
       "<div>\n",
       "<style scoped>\n",
       "    .dataframe tbody tr th:only-of-type {\n",
       "        vertical-align: middle;\n",
       "    }\n",
       "\n",
       "    .dataframe tbody tr th {\n",
       "        vertical-align: top;\n",
       "    }\n",
       "\n",
       "    .dataframe thead th {\n",
       "        text-align: right;\n",
       "    }\n",
       "</style>\n",
       "<table border=\"1\" class=\"dataframe\">\n",
       "  <thead>\n",
       "    <tr style=\"text-align: right;\">\n",
       "      <th></th>\n",
       "      <th>name</th>\n",
       "      <th>rel#count</th>\n",
       "      <th>http://dbpedia.org/ontology/area#1</th>\n",
       "      <th>http://dbpedia.org/ontology/areaCode#count</th>\n",
       "      <th>http://dbpedia.org/ontology/areaLand#count</th>\n",
       "      <th>http://dbpedia.org/ontology/areaLand#1</th>\n",
       "      <th>http://dbpedia.org/ontology/areaLand#2</th>\n",
       "      <th>http://dbpedia.org/ontology/areaTotal#count</th>\n",
       "      <th>http://dbpedia.org/ontology/areaTotal#1</th>\n",
       "      <th>http://dbpedia.org/ontology/areaWater#count</th>\n",
       "      <th>...</th>\n",
       "      <th>http://www.w3.org/2000/01/rdf-schema#seeAlso#3@&lt;http://dbpedia.org/resource/History_of_Hamburg&gt;</th>\n",
       "      <th>http://www.w3.org/2000/01/rdf-schema#seeAlso#3@&lt;http://dbpedia.org/resource/List_of_people_from_Bolton&gt;</th>\n",
       "      <th>http://www.w3.org/2000/01/rdf-schema#seeAlso#3@&lt;http://dbpedia.org/resource/List_of_educational_institutions&gt;</th>\n",
       "      <th>http://www.w3.org/2000/01/rdf-schema#seeAlso#3@&lt;http://dbpedia.org/resource/History_of_local_government&gt;</th>\n",
       "      <th>http://www.w3.org/2000/01/rdf-schema#seeAlso#3@&lt;http://dbpedia.org/resource/Hainan&gt;</th>\n",
       "      <th>http://www.w3.org/2000/01/rdf-schema#seeAlso#3@OTHER</th>\n",
       "      <th>http://xmlns.com/foaf/0.1/homepage#count</th>\n",
       "      <th>http://xmlns.com/foaf/0.1/name#count</th>\n",
       "      <th>http://xmlns.com/foaf/0.1/nick#count</th>\n",
       "      <th>population</th>\n",
       "    </tr>\n",
       "  </thead>\n",
       "  <tbody>\n",
       "    <tr>\n",
       "      <td>0</td>\n",
       "      <td>&lt;http://dbpedia.org/resource/Ankara&gt;</td>\n",
       "      <td>2.856124</td>\n",
       "      <td>0.0</td>\n",
       "      <td>0.30103</td>\n",
       "      <td>0.000000</td>\n",
       "      <td>0.0</td>\n",
       "      <td>0.000000e+00</td>\n",
       "      <td>0.301030</td>\n",
       "      <td>2.452100e+10</td>\n",
       "      <td>0.000000</td>\n",
       "      <td>...</td>\n",
       "      <td>0.0</td>\n",
       "      <td>0.0</td>\n",
       "      <td>0.0</td>\n",
       "      <td>0.0</td>\n",
       "      <td>0.0</td>\n",
       "      <td>0.0</td>\n",
       "      <td>0.477121</td>\n",
       "      <td>0.30103</td>\n",
       "      <td>0.30103</td>\n",
       "      <td>6.661582</td>\n",
       "    </tr>\n",
       "    <tr>\n",
       "      <td>1</td>\n",
       "      <td>&lt;http://dbpedia.org/resource/Amsterdam&gt;</td>\n",
       "      <td>3.358316</td>\n",
       "      <td>0.0</td>\n",
       "      <td>0.30103</td>\n",
       "      <td>0.301030</td>\n",
       "      <td>165760000.0</td>\n",
       "      <td>0.000000e+00</td>\n",
       "      <td>0.301030</td>\n",
       "      <td>2.193200e+08</td>\n",
       "      <td>0.301030</td>\n",
       "      <td>...</td>\n",
       "      <td>0.0</td>\n",
       "      <td>0.0</td>\n",
       "      <td>0.0</td>\n",
       "      <td>0.0</td>\n",
       "      <td>0.0</td>\n",
       "      <td>1.0</td>\n",
       "      <td>0.301030</td>\n",
       "      <td>0.30103</td>\n",
       "      <td>0.30103</td>\n",
       "      <td>5.925489</td>\n",
       "    </tr>\n",
       "    <tr>\n",
       "      <td>2</td>\n",
       "      <td>&lt;http://dbpedia.org/resource/Aarhus&gt;</td>\n",
       "      <td>2.561101</td>\n",
       "      <td>0.0</td>\n",
       "      <td>0.30103</td>\n",
       "      <td>0.000000</td>\n",
       "      <td>0.0</td>\n",
       "      <td>0.000000e+00</td>\n",
       "      <td>0.000000</td>\n",
       "      <td>0.000000e+00</td>\n",
       "      <td>0.000000</td>\n",
       "      <td>...</td>\n",
       "      <td>0.0</td>\n",
       "      <td>0.0</td>\n",
       "      <td>0.0</td>\n",
       "      <td>0.0</td>\n",
       "      <td>0.0</td>\n",
       "      <td>0.0</td>\n",
       "      <td>0.301030</td>\n",
       "      <td>0.30103</td>\n",
       "      <td>0.00000</td>\n",
       "      <td>5.422780</td>\n",
       "    </tr>\n",
       "    <tr>\n",
       "      <td>3</td>\n",
       "      <td>&lt;http://dbpedia.org/resource/Adelaide&gt;</td>\n",
       "      <td>2.955207</td>\n",
       "      <td>0.0</td>\n",
       "      <td>0.00000</td>\n",
       "      <td>0.000000</td>\n",
       "      <td>0.0</td>\n",
       "      <td>0.000000e+00</td>\n",
       "      <td>0.000000</td>\n",
       "      <td>0.000000e+00</td>\n",
       "      <td>0.000000</td>\n",
       "      <td>...</td>\n",
       "      <td>0.0</td>\n",
       "      <td>0.0</td>\n",
       "      <td>0.0</td>\n",
       "      <td>0.0</td>\n",
       "      <td>0.0</td>\n",
       "      <td>1.0</td>\n",
       "      <td>0.000000</td>\n",
       "      <td>0.30103</td>\n",
       "      <td>0.00000</td>\n",
       "      <td>6.119513</td>\n",
       "    </tr>\n",
       "    <tr>\n",
       "      <td>4</td>\n",
       "      <td>&lt;http://dbpedia.org/resource/Ames,_Iowa&gt;</td>\n",
       "      <td>2.082785</td>\n",
       "      <td>0.0</td>\n",
       "      <td>0.00000</td>\n",
       "      <td>0.477121</td>\n",
       "      <td>62700000.0</td>\n",
       "      <td>6.270361e+07</td>\n",
       "      <td>0.477121</td>\n",
       "      <td>6.286000e+07</td>\n",
       "      <td>0.477121</td>\n",
       "      <td>...</td>\n",
       "      <td>0.0</td>\n",
       "      <td>0.0</td>\n",
       "      <td>0.0</td>\n",
       "      <td>0.0</td>\n",
       "      <td>0.0</td>\n",
       "      <td>1.0</td>\n",
       "      <td>0.301030</td>\n",
       "      <td>0.30103</td>\n",
       "      <td>0.00000</td>\n",
       "      <td>4.770594</td>\n",
       "    </tr>\n",
       "  </tbody>\n",
       "</table>\n",
       "<p>5 rows × 381 columns</p>\n",
       "</div>"
      ],
      "text/plain": [
       "                                       name  rel#count  \\\n",
       "0      <http://dbpedia.org/resource/Ankara>   2.856124   \n",
       "1   <http://dbpedia.org/resource/Amsterdam>   3.358316   \n",
       "2      <http://dbpedia.org/resource/Aarhus>   2.561101   \n",
       "3    <http://dbpedia.org/resource/Adelaide>   2.955207   \n",
       "4  <http://dbpedia.org/resource/Ames,_Iowa>   2.082785   \n",
       "\n",
       "   http://dbpedia.org/ontology/area#1  \\\n",
       "0                                 0.0   \n",
       "1                                 0.0   \n",
       "2                                 0.0   \n",
       "3                                 0.0   \n",
       "4                                 0.0   \n",
       "\n",
       "   http://dbpedia.org/ontology/areaCode#count  \\\n",
       "0                                     0.30103   \n",
       "1                                     0.30103   \n",
       "2                                     0.30103   \n",
       "3                                     0.00000   \n",
       "4                                     0.00000   \n",
       "\n",
       "   http://dbpedia.org/ontology/areaLand#count  \\\n",
       "0                                    0.000000   \n",
       "1                                    0.301030   \n",
       "2                                    0.000000   \n",
       "3                                    0.000000   \n",
       "4                                    0.477121   \n",
       "\n",
       "   http://dbpedia.org/ontology/areaLand#1  \\\n",
       "0                                     0.0   \n",
       "1                             165760000.0   \n",
       "2                                     0.0   \n",
       "3                                     0.0   \n",
       "4                              62700000.0   \n",
       "\n",
       "   http://dbpedia.org/ontology/areaLand#2  \\\n",
       "0                            0.000000e+00   \n",
       "1                            0.000000e+00   \n",
       "2                            0.000000e+00   \n",
       "3                            0.000000e+00   \n",
       "4                            6.270361e+07   \n",
       "\n",
       "   http://dbpedia.org/ontology/areaTotal#count  \\\n",
       "0                                     0.301030   \n",
       "1                                     0.301030   \n",
       "2                                     0.000000   \n",
       "3                                     0.000000   \n",
       "4                                     0.477121   \n",
       "\n",
       "   http://dbpedia.org/ontology/areaTotal#1  \\\n",
       "0                             2.452100e+10   \n",
       "1                             2.193200e+08   \n",
       "2                             0.000000e+00   \n",
       "3                             0.000000e+00   \n",
       "4                             6.286000e+07   \n",
       "\n",
       "   http://dbpedia.org/ontology/areaWater#count  ...  \\\n",
       "0                                     0.000000  ...   \n",
       "1                                     0.301030  ...   \n",
       "2                                     0.000000  ...   \n",
       "3                                     0.000000  ...   \n",
       "4                                     0.477121  ...   \n",
       "\n",
       "   http://www.w3.org/2000/01/rdf-schema#seeAlso#3@<http://dbpedia.org/resource/History_of_Hamburg>  \\\n",
       "0                                                0.0                                                 \n",
       "1                                                0.0                                                 \n",
       "2                                                0.0                                                 \n",
       "3                                                0.0                                                 \n",
       "4                                                0.0                                                 \n",
       "\n",
       "   http://www.w3.org/2000/01/rdf-schema#seeAlso#3@<http://dbpedia.org/resource/List_of_people_from_Bolton>  \\\n",
       "0                                                0.0                                                         \n",
       "1                                                0.0                                                         \n",
       "2                                                0.0                                                         \n",
       "3                                                0.0                                                         \n",
       "4                                                0.0                                                         \n",
       "\n",
       "   http://www.w3.org/2000/01/rdf-schema#seeAlso#3@<http://dbpedia.org/resource/List_of_educational_institutions>  \\\n",
       "0                                                0.0                                                               \n",
       "1                                                0.0                                                               \n",
       "2                                                0.0                                                               \n",
       "3                                                0.0                                                               \n",
       "4                                                0.0                                                               \n",
       "\n",
       "   http://www.w3.org/2000/01/rdf-schema#seeAlso#3@<http://dbpedia.org/resource/History_of_local_government>  \\\n",
       "0                                                0.0                                                          \n",
       "1                                                0.0                                                          \n",
       "2                                                0.0                                                          \n",
       "3                                                0.0                                                          \n",
       "4                                                0.0                                                          \n",
       "\n",
       "   http://www.w3.org/2000/01/rdf-schema#seeAlso#3@<http://dbpedia.org/resource/Hainan>  \\\n",
       "0                                                0.0                                     \n",
       "1                                                0.0                                     \n",
       "2                                                0.0                                     \n",
       "3                                                0.0                                     \n",
       "4                                                0.0                                     \n",
       "\n",
       "   http://www.w3.org/2000/01/rdf-schema#seeAlso#3@OTHER  \\\n",
       "0                                                0.0      \n",
       "1                                                1.0      \n",
       "2                                                0.0      \n",
       "3                                                1.0      \n",
       "4                                                1.0      \n",
       "\n",
       "   http://xmlns.com/foaf/0.1/homepage#count  \\\n",
       "0                                  0.477121   \n",
       "1                                  0.301030   \n",
       "2                                  0.301030   \n",
       "3                                  0.000000   \n",
       "4                                  0.301030   \n",
       "\n",
       "   http://xmlns.com/foaf/0.1/name#count  http://xmlns.com/foaf/0.1/nick#count  \\\n",
       "0                               0.30103                               0.30103   \n",
       "1                               0.30103                               0.30103   \n",
       "2                               0.30103                               0.00000   \n",
       "3                               0.30103                               0.00000   \n",
       "4                               0.30103                               0.00000   \n",
       "\n",
       "   population  \n",
       "0    6.661582  \n",
       "1    5.925489  \n",
       "2    5.422780  \n",
       "3    6.119513  \n",
       "4    4.770594  \n",
       "\n",
       "[5 rows x 381 columns]"
      ]
     },
     "execution_count": 3,
     "metadata": {},
     "output_type": "execute_result"
    }
   ],
   "source": [
    "df.head(5)"
   ]
  },
  {
   "cell_type": "markdown",
   "metadata": {},
   "source": [
    "### Feature Importances"
   ]
  },
  {
   "cell_type": "code",
   "execution_count": 4,
   "metadata": {},
   "outputs": [],
   "source": [
    "# create a random forest regressor\n",
    "rf = RandomForestRegressor(n_estimators=10,\n",
    "                           min_samples_leaf=1,\n",
    "                           n_jobs=-1)"
   ]
  },
  {
   "cell_type": "code",
   "execution_count": 5,
   "metadata": {},
   "outputs": [],
   "source": [
    "X = df.iloc[:,1:-1]\n",
    "y = df.iloc[:,-1]\n",
    "\n",
    "X['random'] = np.random.random(size=len(X))"
   ]
  },
  {
   "cell_type": "code",
   "execution_count": 6,
   "metadata": {},
   "outputs": [],
   "source": [
    "rf = rf.fit(X, y)"
   ]
  },
  {
   "cell_type": "code",
   "execution_count": 7,
   "metadata": {},
   "outputs": [],
   "source": [
    "columns = np.array(X.columns)\n",
    "\n",
    "top_features = list(np.argsort(rf.feature_importances_)[-11:])[-1: 0: -1]\n",
    "top_features_val = list(np.sort(rf.feature_importances_)[-11:])[-1: 0: -1]\n",
    "\n",
    "feature_names = columns[top_features]"
   ]
  },
  {
   "cell_type": "code",
   "execution_count": 9,
   "metadata": {},
   "outputs": [
    {
     "data": {
      "image/png": "[encoded data removed]",
      "text/plain": [
       "<Figure size 432x288 with 1 Axes>"
      ]
     },
     "metadata": {
      "needs_background": "light"
     },
     "output_type": "display_data"
    }
   ],
   "source": [
    "import seaborn as sns\n",
    "chart = sns.barplot(top_features_val, feature_names, orient='h', palette='Blues_d')"
   ]
  },
  {
   "cell_type": "markdown",
   "metadata": {},
   "source": [
    "The chart above shows that <font color='red'>'random'</font> feature stands at rank 6. The results show that <font color='red'>'random'</font> feature is more predictive of the output than <font color='red'>'populationDensity#1'</font>, <font color='red'>'rel#count'</font>, <font color='red'>'elevation#1'</font>, and <font color='red'>utcOffset#count</font> which doesn't make sense. So, we can understand that there might be something wrong with the results."
   ]
  },
  {
   "cell_type": "markdown",
   "metadata": {},
   "source": [
    "### Drop column importance"
   ]
  },
  {
   "cell_type": "markdown",
   "metadata": {},
   "source": [
    "Because of strange results of previous step, I decided to perform a drop-column importance to get the most important features of the dataset on a portion of the dataset (0.2 of dataset) to decrease training time."
   ]
  },
  {
   "cell_type": "code",
   "execution_count": 11,
   "metadata": {},
   "outputs": [
    {
     "name": "stdout",
     "output_type": "stream",
     "text": [
      "feature#378\n",
      "feature name: http://xmlns.com/foaf/0.1/nick#count\n",
      "model score: 0.9449727260992956\n"
     ]
    }
   ],
   "source": [
    "from IPython.display import clear_output\n",
    "from sklearn.base import clone\n",
    "\n",
    "X = df.iloc[:,1:-1]\n",
    "y = df.iloc[:,-1]\n",
    "\n",
    "X_train, X_test, y_train, y_test = train_test_split(X, y, test_size=0.7)\n",
    "\n",
    "scores = np.empty(shape=(0,1))\n",
    "\n",
    "rf_ = clone(rf)\n",
    "rf_.random_state = 999\n",
    "rf_ = rf_.fit(X_train, y_train)\n",
    "base_score = rf_.score(X_train, y_train)\n",
    "print('model base score: ' + str(base_score))\n",
    "\n",
    "\n",
    "for i in range(len(X_train.columns)):\n",
    "    X_dropped = X_train.drop(X_train.columns[i], axis=1)\n",
    "\n",
    "    rf_ = clone(rf)\n",
    "    rf_.random_state = 999\n",
    "    rf_ = rf_.fit(X_dropped, y_train)\n",
    "    dropped_score = rf_.score(X_dropped, y_train)\n",
    "    \n",
    "    importance = np.array([[base_score - dropped_score]])\n",
    "    scores = np.append(scores, importance, axis=0)\n",
    "    \n",
    "    clear_output(wait=True)\n",
    "    print('feature#' + str(i))\n",
    "    print('feature name: ' + columns[i])\n",
    "    print('model score: ' + str(dropped_score))"
   ]
  },
  {
   "cell_type": "code",
   "execution_count": 12,
   "metadata": {},
   "outputs": [
    {
     "data": {
      "text/html": [
       "<div>\n",
       "<style scoped>\n",
       "    .dataframe tbody tr th:only-of-type {\n",
       "        vertical-align: middle;\n",
       "    }\n",
       "\n",
       "    .dataframe tbody tr th {\n",
       "        vertical-align: top;\n",
       "    }\n",
       "\n",
       "    .dataframe thead th {\n",
       "        text-align: right;\n",
       "    }\n",
       "</style>\n",
       "<table border=\"1\" class=\"dataframe\">\n",
       "  <thead>\n",
       "    <tr style=\"text-align: right;\">\n",
       "      <th></th>\n",
       "      <th>Feature</th>\n",
       "      <th>Importance</th>\n",
       "    </tr>\n",
       "  </thead>\n",
       "  <tbody>\n",
       "    <tr>\n",
       "      <td>0</td>\n",
       "      <td>rel#count</td>\n",
       "      <td>0.000542</td>\n",
       "    </tr>\n",
       "    <tr>\n",
       "      <td>1</td>\n",
       "      <td>http://dbpedia.org/ontology/area#1</td>\n",
       "      <td>0.000088</td>\n",
       "    </tr>\n",
       "    <tr>\n",
       "      <td>2</td>\n",
       "      <td>http://dbpedia.org/ontology/areaCode#count</td>\n",
       "      <td>0.000635</td>\n",
       "    </tr>\n",
       "    <tr>\n",
       "      <td>3</td>\n",
       "      <td>http://dbpedia.org/ontology/areaLand#count</td>\n",
       "      <td>-0.000260</td>\n",
       "    </tr>\n",
       "    <tr>\n",
       "      <td>4</td>\n",
       "      <td>http://dbpedia.org/ontology/areaLand#1</td>\n",
       "      <td>-0.000009</td>\n",
       "    </tr>\n",
       "    <tr>\n",
       "      <td>...</td>\n",
       "      <td>...</td>\n",
       "      <td>...</td>\n",
       "    </tr>\n",
       "    <tr>\n",
       "      <td>374</td>\n",
       "      <td>http://www.w3.org/2000/01/rdf-schema#seeAlso#3...</td>\n",
       "      <td>0.000185</td>\n",
       "    </tr>\n",
       "    <tr>\n",
       "      <td>375</td>\n",
       "      <td>http://www.w3.org/2000/01/rdf-schema#seeAlso#3...</td>\n",
       "      <td>0.000001</td>\n",
       "    </tr>\n",
       "    <tr>\n",
       "      <td>376</td>\n",
       "      <td>http://xmlns.com/foaf/0.1/homepage#count</td>\n",
       "      <td>-0.000011</td>\n",
       "    </tr>\n",
       "    <tr>\n",
       "      <td>377</td>\n",
       "      <td>http://xmlns.com/foaf/0.1/name#count</td>\n",
       "      <td>0.000287</td>\n",
       "    </tr>\n",
       "    <tr>\n",
       "      <td>378</td>\n",
       "      <td>http://xmlns.com/foaf/0.1/nick#count</td>\n",
       "      <td>0.000018</td>\n",
       "    </tr>\n",
       "  </tbody>\n",
       "</table>\n",
       "<p>379 rows × 2 columns</p>\n",
       "</div>"
      ],
      "text/plain": [
       "                                               Feature  Importance\n",
       "0                                            rel#count    0.000542\n",
       "1                   http://dbpedia.org/ontology/area#1    0.000088\n",
       "2           http://dbpedia.org/ontology/areaCode#count    0.000635\n",
       "3           http://dbpedia.org/ontology/areaLand#count   -0.000260\n",
       "4               http://dbpedia.org/ontology/areaLand#1   -0.000009\n",
       "..                                                 ...         ...\n",
       "374  http://www.w3.org/2000/01/rdf-schema#seeAlso#3...    0.000185\n",
       "375  http://www.w3.org/2000/01/rdf-schema#seeAlso#3...    0.000001\n",
       "376           http://xmlns.com/foaf/0.1/homepage#count   -0.000011\n",
       "377               http://xmlns.com/foaf/0.1/name#count    0.000287\n",
       "378               http://xmlns.com/foaf/0.1/nick#count    0.000018\n",
       "\n",
       "[379 rows x 2 columns]"
      ]
     },
     "execution_count": 12,
     "metadata": {},
     "output_type": "execute_result"
    }
   ],
   "source": [
    "df_imp = pd.DataFrame({'Feature': X_train.columns, \n",
    "                       'Importance': list(scores.reshape(len(scores),))})\n",
    "\n",
    "df_imp"
   ]
  },
  {
   "cell_type": "code",
   "execution_count": 13,
   "metadata": {},
   "outputs": [
    {
     "data": {
      "text/html": [
       "<div>\n",
       "<style scoped>\n",
       "    .dataframe tbody tr th:only-of-type {\n",
       "        vertical-align: middle;\n",
       "    }\n",
       "\n",
       "    .dataframe tbody tr th {\n",
       "        vertical-align: top;\n",
       "    }\n",
       "\n",
       "    .dataframe thead th {\n",
       "        text-align: right;\n",
       "    }\n",
       "</style>\n",
       "<table border=\"1\" class=\"dataframe\">\n",
       "  <thead>\n",
       "    <tr style=\"text-align: right;\">\n",
       "      <th></th>\n",
       "      <th>Feature</th>\n",
       "      <th>Importance</th>\n",
       "    </tr>\n",
       "  </thead>\n",
       "  <tbody>\n",
       "    <tr>\n",
       "      <td>133</td>\n",
       "      <td>http://dbpedia.org/ontology/populationDensity#1</td>\n",
       "      <td>0.005508</td>\n",
       "    </tr>\n",
       "    <tr>\n",
       "      <td>7</td>\n",
       "      <td>http://dbpedia.org/ontology/areaTotal#1</td>\n",
       "      <td>0.004504</td>\n",
       "    </tr>\n",
       "    <tr>\n",
       "      <td>96</td>\n",
       "      <td>http://dbpedia.org/ontology/elevation#1</td>\n",
       "      <td>0.003516</td>\n",
       "    </tr>\n",
       "    <tr>\n",
       "      <td>102</td>\n",
       "      <td>http://dbpedia.org/ontology/isPartOf?inv#count</td>\n",
       "      <td>0.000670</td>\n",
       "    </tr>\n",
       "    <tr>\n",
       "      <td>33</td>\n",
       "      <td>http://dbpedia.org/ontology/country#1@OTHER</td>\n",
       "      <td>0.000666</td>\n",
       "    </tr>\n",
       "    <tr>\n",
       "      <td>2</td>\n",
       "      <td>http://dbpedia.org/ontology/areaCode#count</td>\n",
       "      <td>0.000635</td>\n",
       "    </tr>\n",
       "    <tr>\n",
       "      <td>0</td>\n",
       "      <td>rel#count</td>\n",
       "      <td>0.000542</td>\n",
       "    </tr>\n",
       "    <tr>\n",
       "      <td>11</td>\n",
       "      <td>http://dbpedia.org/ontology/city?inv#count</td>\n",
       "      <td>0.000501</td>\n",
       "    </tr>\n",
       "    <tr>\n",
       "      <td>140</td>\n",
       "      <td>http://dbpedia.org/ontology/region#1@&lt;http://d...</td>\n",
       "      <td>0.000489</td>\n",
       "    </tr>\n",
       "    <tr>\n",
       "      <td>355</td>\n",
       "      <td>http://www.w3.org/2000/01/rdf-schema#seeAlso#3...</td>\n",
       "      <td>0.000450</td>\n",
       "    </tr>\n",
       "  </tbody>\n",
       "</table>\n",
       "</div>"
      ],
      "text/plain": [
       "                                               Feature  Importance\n",
       "133    http://dbpedia.org/ontology/populationDensity#1    0.005508\n",
       "7              http://dbpedia.org/ontology/areaTotal#1    0.004504\n",
       "96             http://dbpedia.org/ontology/elevation#1    0.003516\n",
       "102     http://dbpedia.org/ontology/isPartOf?inv#count    0.000670\n",
       "33         http://dbpedia.org/ontology/country#1@OTHER    0.000666\n",
       "2           http://dbpedia.org/ontology/areaCode#count    0.000635\n",
       "0                                            rel#count    0.000542\n",
       "11          http://dbpedia.org/ontology/city?inv#count    0.000501\n",
       "140  http://dbpedia.org/ontology/region#1@<http://d...    0.000489\n",
       "355  http://www.w3.org/2000/01/rdf-schema#seeAlso#3...    0.000450"
      ]
     },
     "execution_count": 13,
     "metadata": {},
     "output_type": "execute_result"
    }
   ],
   "source": [
    "df_top_features = df_imp.sort_values(by='Importance', ascending=False).head(10)\n",
    "\n",
    "df_top_features"
   ]
  },
  {
   "cell_type": "code",
   "execution_count": 14,
   "metadata": {},
   "outputs": [
    {
     "data": {
      "image/png": "[encoded data removed]",
      "text/plain": [
       "<Figure size 432x288 with 1 Axes>"
      ]
     },
     "metadata": {
      "needs_background": "light"
     },
     "output_type": "display_data"
    }
   ],
   "source": [
    "chart = sns.barplot(df_top_features['Importance'], df_top_features['Feature'], orient='h', palette='Blues_d')"
   ]
  },
  {
   "cell_type": "markdown",
   "metadata": {},
   "source": [
    "We see that 'populationDensity#1' seems to be the most important feature in the dataset to predict population. So, we select to continue with this feature."
   ]
  },
  {
   "cell_type": "code",
   "execution_count": 15,
   "metadata": {},
   "outputs": [],
   "source": [
    "F = 'http://dbpedia.org/ontology/populationDensity#1'"
   ]
  },
  {
   "cell_type": "markdown",
   "metadata": {},
   "source": [
    "### Train model using the original data [without random] and get MSE value"
   ]
  },
  {
   "cell_type": "code",
   "execution_count": 150,
   "metadata": {},
   "outputs": [],
   "source": [
    "X = df.iloc[:,1:-1]\n",
    "y = df.iloc[:,-1]"
   ]
  },
  {
   "cell_type": "code",
   "execution_count": 146,
   "metadata": {},
   "outputs": [],
   "source": [
    "rf = rf.fit(X, y)"
   ]
  },
  {
   "cell_type": "code",
   "execution_count": 149,
   "metadata": {},
   "outputs": [
    {
     "name": "stdout",
     "output_type": "stream",
     "text": [
      "Model Score - base model: 94.689\n"
     ]
    }
   ],
   "source": [
    "base_model_score = (100 * rf.score(X, y))\n",
    "print('Model Score - base model: %2.3f' % (base_model_score))"
   ]
  },
  {
   "cell_type": "markdown",
   "metadata": {},
   "source": [
    "### Generate F' feature"
   ]
  },
  {
   "cell_type": "code",
   "execution_count": 152,
   "metadata": {},
   "outputs": [
    {
     "name": "stdout",
     "output_type": "stream",
     "text": [
      "8042\n",
      "36917\n"
     ]
    }
   ],
   "source": [
    "F_prime = F + '_prime'\n",
    "\n",
    "df_copy = df.copy()\n",
    "\n",
    "df_copy[F_prime] = df_copy[F]\n",
    "df_copy.loc[df_copy[F] >= df_copy[F].mean(), F_prime] = 1\n",
    "df_copy.loc[df_copy[F] <  df_copy[F].mean(), F_prime] = 0\n",
    "\n",
    "print(len(df_copy.loc[df_copy[F_prime] == 1]))\n",
    "print(len(df_copy.loc[df_copy[F_prime] == 0]))"
   ]
  },
  {
   "cell_type": "markdown",
   "metadata": {},
   "source": [
    "### Train and evaluate model with F' feature included as an additional feature"
   ]
  },
  {
   "cell_type": "code",
   "execution_count": 153,
   "metadata": {},
   "outputs": [],
   "source": [
    "columns = list(df_copy.columns)\n",
    "\n",
    "X = df_copy[columns[1:-2] + columns[-1:]]\n",
    "y = df_copy.loc[:,'population']"
   ]
  },
  {
   "cell_type": "code",
   "execution_count": 156,
   "metadata": {},
   "outputs": [],
   "source": [
    "rf = rf.fit(X, y)"
   ]
  },
  {
   "cell_type": "code",
   "execution_count": 157,
   "metadata": {},
   "outputs": [
    {
     "name": "stdout",
     "output_type": "stream",
     "text": [
      "Model Score - F' added: 94.661\n"
     ]
    }
   ],
   "source": [
    "fprime_added_model_score = (100 * rf.score(X, y))\n",
    "print('Model Score - F\\' added: %2.3f' % (fprime_added_model_score))"
   ]
  },
  {
   "cell_type": "markdown",
   "metadata": {},
   "source": [
    "### Train and evalute model with F' feature replaced with F feature"
   ]
  },
  {
   "cell_type": "code",
   "execution_count": 158,
   "metadata": {},
   "outputs": [],
   "source": [
    "if (F_prime in df_copy.columns):\n",
    "    df_copy[F] = df_copy[F_prime]\n",
    "    df_copy.drop(F_prime, inplace=True, axis=1)\n",
    "    \n",
    "columns = list(df_copy.columns)\n",
    "\n",
    "X = df_copy[columns[1:-1]]\n",
    "y = df_copy[columns[-1]]"
   ]
  },
  {
   "cell_type": "code",
   "execution_count": 159,
   "metadata": {},
   "outputs": [],
   "source": [
    "rf = rf.fit(X, y)"
   ]
  },
  {
   "cell_type": "code",
   "execution_count": 160,
   "metadata": {},
   "outputs": [
    {
     "name": "stdout",
     "output_type": "stream",
     "text": [
      "Model Score - F' replaced: 94.308\n"
     ]
    }
   ],
   "source": [
    "fprime_replaced_model_score = (100 * rf.score(X, y))\n",
    "print('Model Score - F\\' replaced: %2.3f' % (fprime_replaced_model_score))"
   ]
  },
  {
   "cell_type": "markdown",
   "metadata": {},
   "source": [
    "### Compare model scores"
   ]
  },
  {
   "cell_type": "code",
   "execution_count": 161,
   "metadata": {},
   "outputs": [
    {
     "name": "stdout",
     "output_type": "stream",
     "text": [
      "Model Score - base model: 94.689\n",
      "Model Score - F' added: 94.661\n",
      "Model Score - F' replaced: 94.308\n"
     ]
    }
   ],
   "source": [
    "print('Model Score - base model: %2.3f' % (base_model_score))\n",
    "print('Model Score - F\\' added: %2.3f' % (fprime_added_model_score))\n",
    "print('Model Score - F\\' replaced: %2.3f' % (fprime_replaced_model_score))"
   ]
  }
 ],
 "metadata": {
  "kernelspec": {
   "display_name": "Python 3",
   "language": "python",
   "name": "python3"
  },
  "language_info": {
   "codemirror_mode": {
    "name": "ipython",
    "version": 3
   },
   "file_extension": ".py",
   "mimetype": "text/x-python",
   "name": "python",
   "nbconvert_exporter": "python",
   "pygments_lexer": "ipython3",
   "version": "3.7.4"
  }
 },
 "nbformat": 4,
 "nbformat_minor": 2
}
