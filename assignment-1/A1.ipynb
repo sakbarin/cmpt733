{
 "cells": [
  {
   "cell_type": "markdown",
   "metadata": {},
   "source": [
    "# Assignment 1: Web Scraping"
   ]
  },
  {
   "cell_type": "markdown",
   "metadata": {},
   "source": [
    "## Objective"
   ]
  },
  {
   "cell_type": "markdown",
   "metadata": {},
   "source": [
    "Data scientists often need to crawl data from websites and turn the crawled data (HTML pages) to structured data (tables). Thus, web scraping is an essential skill that every data scientist should master. In this assignment, you will learn the followings:\n",
    "\n",
    "\n",
    "* How to download HTML pages from a website?\n",
    "* How to extract relevant content from an HTML page? \n",
    "\n",
    "Furthermore, you will gain a deeper understanding of the data science lifecycle.\n",
    "\n",
    "**Requirements:**\n",
    "\n",
    "1. Please use [pandas.DataFrame](http://pandas.pydata.org/pandas-docs/stable/generated/pandas.DataFrame.html) rather than spark.DataFrame to manipulate data.\n",
    "\n",
    "2. Please use [BeautifulSoup](https://www.crummy.com/software/BeautifulSoup/) rather than [lxml](http://lxml.de/) to parse an HTML page and extract data from the page.\n",
    "\n",
    "3. Please follow python code style (https://www.python.org/dev/peps/pep-0008/). If TA finds your code hard to read, you will lose points. This requirement will stay for the whole semester."
   ]
  },
  {
   "cell_type": "markdown",
   "metadata": {},
   "source": [
    "## Preliminary"
   ]
  },
  {
   "cell_type": "markdown",
   "metadata": {},
   "source": [
    "If this is your first time to write a web scraper, you need to learn some basic knowledge of this topic. I found that this is a good resource: [Tutorial: Web Scraping and BeautifulSoup](https://www.dataquest.io/blog/web-scraping-beautifulsoup/). \n",
    "\n",
    "Please let me know if you find a better resource. I'll share it with the other students."
   ]
  },
  {
   "cell_type": "markdown",
   "metadata": {},
   "source": [
    "## Overview"
   ]
  },
  {
   "cell_type": "markdown",
   "metadata": {},
   "source": [
    "Imagine you are a data scientist working at SFU. Your job is to extract insights from SFU data to answer questions. \n",
    "\n",
    "In this assignment, you will do two tasks. Please recall the high-level data science lifecycle below. I suggest that when doing this assignment, please remind yourself of what data you collected and what questions you tried to answer.\n",
    "\n",
    "\n",
    "<img src=\"lifecycle.png\" width=\"500\">\n",
    "<center><h4>Figure 1. Data Science Lifecycle</h4></center>"
   ]
  },
  {
   "cell_type": "markdown",
   "metadata": {},
   "source": [
    "## Task 1: SFU CS Faculty Members"
   ]
  },
  {
   "cell_type": "markdown",
   "metadata": {},
   "source": [
    "Sometimes you don't know what questions to ask. No worries. Start collecting data first. \n",
    "\n",
    "In Task 1, your job is to write a web scraper to extract the faculty information from this page: [https://www.sfu.ca/computing/people/faculty.html](https://www.sfu.ca/computing/people/faculty.html).\n",
    "\n",
    "\n"
   ]
  },
  {
   "cell_type": "markdown",
   "metadata": {},
   "source": [
    "### (a) Crawl Web Page"
   ]
  },
  {
   "cell_type": "markdown",
   "metadata": {},
   "source": [
    "A web page is essentially a file stored in a remote machine (called web server). Please write code to download the HTML page and save it as a text file (\"csfaculty.html\")."
   ]
  },
  {
   "cell_type": "code",
   "execution_count": 1,
   "metadata": {},
   "outputs": [],
   "source": [
    "from requests import get\n",
    "\n",
    "url = 'https://www.sfu.ca/computing/people/faculty.html'\n",
    "response = get(url)\n",
    "\n",
    "def write_to_file(response_text, file_name):\n",
    "    output_file = open(file_name, 'w')\n",
    "    output_file.write(response_text)\n",
    "    \n",
    "write_to_file(response.text, 'csfaculty.html')"
   ]
  },
  {
   "cell_type": "markdown",
   "metadata": {},
   "source": [
    "### (b) Extract Structured Data"
   ]
  },
  {
   "cell_type": "markdown",
   "metadata": {},
   "source": [
    "Please write code to extract relevant content (name, rank, area, profile, homepage) from \"csfaculty.html\" and save them as a CSV file (like [faculty_table.csv](./faculty_table.csv)). "
   ]
  },
  {
   "cell_type": "code",
   "execution_count": 2,
   "metadata": {},
   "outputs": [
    {
     "name": "stdout",
     "output_type": "stream",
     "text": [
      "faculty_table.csv saved successfully.\n"
     ]
    }
   ],
   "source": [
    "from bs4 import BeautifulSoup\n",
    "import pandas as pd\n",
    "\n",
    "file = open('csfaculty.html', 'r')\n",
    "file_content = file.read()\n",
    "\n",
    "html_soup = BeautifulSoup(file_content, 'html.parser')\n",
    "faculty_container = html_soup.find_all('div', class_ = 'textimage section')\n",
    "\n",
    "faculty_names = []\n",
    "faculty_ranks = []\n",
    "faculty_areas = []\n",
    "faculty_profiles = []\n",
    "faculty_homepages = []\n",
    "\n",
    "def prep_string(input_string):\n",
    "    return (\"_\".join(input_string.split())).upper()\n",
    "    \n",
    "for faculty in faculty_container:\n",
    "    # get faculty name and rank\n",
    "    name_and_rank = faculty.h4.text\n",
    "    \n",
    "    # split name and rank\n",
    "    name_and_rank = str.replace(name_and_rank, '\\n', ',')\n",
    "    split_name_and_rank = name_and_rank.split(',')\n",
    "    \n",
    "    # get faculty name\n",
    "    faculty_name = split_name_and_rank[0]\n",
    "    faculty_names.append(faculty_name.title())\n",
    "    \n",
    "    # get faculty rank\n",
    "    faculty_rank = str.strip(split_name_and_rank[1])\n",
    "    faculty_ranks.append(faculty_rank.title())\n",
    "\n",
    "    # get areas\n",
    "    area = ''\n",
    "    area_paragraph = faculty.p\n",
    "    if (type(area_paragraph) != type(None)):\n",
    "        area = area_paragraph.text.title().replace('Area:', '').strip()\n",
    "    area = area.replace(';', ',')\n",
    "    faculty_areas.append(area)\n",
    "    \n",
    "    # get contact information and home page links\n",
    "    links = faculty.find_all('a', class_ = '')\n",
    "    \n",
    "    profile_link = ''\n",
    "    homepage_link = ''\n",
    "    \n",
    "    # iterate through links [because they don't have any specific html attribute]\n",
    "    for link in links:\n",
    "        \n",
    "        # check if href attribute is avaialable \n",
    "        if (link.has_attr('href')):\n",
    "            \n",
    "            # check if it's contact information <a> \n",
    "            if (prep_string(link.text) == 'PROFILE_&_CONTACT_INFORMATION'):\n",
    "                profile_link = link['href']\n",
    "                \n",
    "                # add http://www.sfu.ca to start of relative paths\n",
    "                if (profile_link.startswith('http://www.sfu.ca/') == False):\n",
    "                    profile_link = 'http://www.sfu.ca' + profile_link\n",
    "                    \n",
    "            # check if it's home page <a>\n",
    "            elif (prep_string(link.text) == 'HOME_PAGE'):\n",
    "                homepage_link = link['href']\n",
    "\n",
    "    faculty_profiles.append(profile_link)\n",
    "    faculty_homepages.append(homepage_link)\n",
    "\n",
    "\n",
    "df_faculty = pd.DataFrame({'name': faculty_names, \n",
    "                           'rank': faculty_ranks,\n",
    "                           'areas': faculty_areas,\n",
    "                           'profile': faculty_profiles,\n",
    "                           'homepage': faculty_homepages\n",
    "                         })\n",
    "\n",
    "df_faculty.to_csv('faculty_table.csv', index=False)\n",
    "\n",
    "print('faculty_table.csv saved successfully.')"
   ]
  },
  {
   "cell_type": "markdown",
   "metadata": {},
   "source": [
    "### (c) Interesting Finding"
   ]
  },
  {
   "cell_type": "markdown",
   "metadata": {},
   "source": [
    "Note that you don't need to do anything for Task 1(c). The purpose of this part is to give you some sense about how to leverage exploratory data analysis (EDA) to come up with interesting questions about the data. EDA is an important topic in data science; you will  learn it soon from this course. \n",
    "\n",
    "\n",
    "First, please install [dataprep](http://dataprep.ai).\n",
    "Then, run the cell below. \n",
    "It shows a bar chart for every column. What intersting findings can you get from these visualizations? "
   ]
  },
  {
   "cell_type": "code",
   "execution_count": 3,
   "metadata": {},
   "outputs": [
    {
     "data": {
      "application/javascript": [
       "\n",
       "(function(root) {\n",
       "  function now() {\n",
       "    return new Date();\n",
       "  }\n",
       "\n",
       "  var force = true;\n",
       "\n",
       "  if (typeof root._bokeh_onload_callbacks === \"undefined\" || force === true) {\n",
       "    root._bokeh_onload_callbacks = [];\n",
       "    root._bokeh_is_loading = undefined;\n",
       "  }\n",
       "\n",
       "  var JS_MIME_TYPE = 'application/javascript';\n",
       "  var HTML_MIME_TYPE = 'text/html';\n",
       "  var EXEC_MIME_TYPE = 'application/vnd.bokehjs_exec.v0+json';\n",
       "  var CLASS_NAME = 'output_bokeh rendered_html';\n",
       "\n",
       "  /**\n",
       "   * Render data to the DOM node\n",
       "   */\n",
       "  function render(props, node) {\n",
       "    var script = document.createElement(\"script\");\n",
       "    node.appendChild(script);\n",
       "  }\n",
       "\n",
       "  /**\n",
       "   * Handle when an output is cleared or removed\n",
       "   */\n",
       "  function handleClearOutput(event, handle) {\n",
       "    var cell = handle.cell;\n",
       "\n",
       "    var id = cell.output_area._bokeh_element_id;\n",
       "    var server_id = cell.output_area._bokeh_server_id;\n",
       "    // Clean up Bokeh references\n",
       "    if (id != null && id in Bokeh.index) {\n",
       "      Bokeh.index[id].model.document.clear();\n",
       "      delete Bokeh.index[id];\n",
       "    }\n",
       "\n",
       "    if (server_id !== undefined) {\n",
       "      // Clean up Bokeh references\n",
       "      var cmd = \"from bokeh.io.state import curstate; print(curstate().uuid_to_server['\" + server_id + \"'].get_sessions()[0].document.roots[0]._id)\";\n",
       "      cell.notebook.kernel.execute(cmd, {\n",
       "        iopub: {\n",
       "          output: function(msg) {\n",
       "            var id = msg.content.text.trim();\n",
       "            if (id in Bokeh.index) {\n",
       "              Bokeh.index[id].model.document.clear();\n",
       "              delete Bokeh.index[id];\n",
       "            }\n",
       "          }\n",
       "        }\n",
       "      });\n",
       "      // Destroy server and session\n",
       "      var cmd = \"import bokeh.io.notebook as ion; ion.destroy_server('\" + server_id + \"')\";\n",
       "      cell.notebook.kernel.execute(cmd);\n",
       "    }\n",
       "  }\n",
       "\n",
       "  /**\n",
       "   * Handle when a new output is added\n",
       "   */\n",
       "  function handleAddOutput(event, handle) {\n",
       "    var output_area = handle.output_area;\n",
       "    var output = handle.output;\n",
       "\n",
       "    // limit handleAddOutput to display_data with EXEC_MIME_TYPE content only\n",
       "    if ((output.output_type != \"display_data\") || (!output.data.hasOwnProperty(EXEC_MIME_TYPE))) {\n",
       "      return\n",
       "    }\n",
       "\n",
       "    var toinsert = output_area.element.find(\".\" + CLASS_NAME.split(' ')[0]);\n",
       "\n",
       "    if (output.metadata[EXEC_MIME_TYPE][\"id\"] !== undefined) {\n",
       "      toinsert[toinsert.length - 1].firstChild.textContent = output.data[JS_MIME_TYPE];\n",
       "      // store reference to embed id on output_area\n",
       "      output_area._bokeh_element_id = output.metadata[EXEC_MIME_TYPE][\"id\"];\n",
       "    }\n",
       "    if (output.metadata[EXEC_MIME_TYPE][\"server_id\"] !== undefined) {\n",
       "      var bk_div = document.createElement(\"div\");\n",
       "      bk_div.innerHTML = output.data[HTML_MIME_TYPE];\n",
       "      var script_attrs = bk_div.children[0].attributes;\n",
       "      for (var i = 0; i < script_attrs.length; i++) {\n",
       "        toinsert[toinsert.length - 1].firstChild.setAttribute(script_attrs[i].name, script_attrs[i].value);\n",
       "      }\n",
       "      // store reference to server id on output_area\n",
       "      output_area._bokeh_server_id = output.metadata[EXEC_MIME_TYPE][\"server_id\"];\n",
       "    }\n",
       "  }\n",
       "\n",
       "  function register_renderer(events, OutputArea) {\n",
       "\n",
       "    function append_mime(data, metadata, element) {\n",
       "      // create a DOM node to render to\n",
       "      var toinsert = this.create_output_subarea(\n",
       "        metadata,\n",
       "        CLASS_NAME,\n",
       "        EXEC_MIME_TYPE\n",
       "      );\n",
       "      this.keyboard_manager.register_events(toinsert);\n",
       "      // Render to node\n",
       "      var props = {data: data, metadata: metadata[EXEC_MIME_TYPE]};\n",
       "      render(props, toinsert[toinsert.length - 1]);\n",
       "      element.append(toinsert);\n",
       "      return toinsert\n",
       "    }\n",
       "\n",
       "    /* Handle when an output is cleared or removed */\n",
       "    events.on('clear_output.CodeCell', handleClearOutput);\n",
       "    events.on('delete.Cell', handleClearOutput);\n",
       "\n",
       "    /* Handle when a new output is added */\n",
       "    events.on('output_added.OutputArea', handleAddOutput);\n",
       "\n",
       "    /**\n",
       "     * Register the mime type and append_mime function with output_area\n",
       "     */\n",
       "    OutputArea.prototype.register_mime_type(EXEC_MIME_TYPE, append_mime, {\n",
       "      /* Is output safe? */\n",
       "      safe: true,\n",
       "      /* Index of renderer in `output_area.display_order` */\n",
       "      index: 0\n",
       "    });\n",
       "  }\n",
       "\n",
       "  // register the mime type if in Jupyter Notebook environment and previously unregistered\n",
       "  if (root.Jupyter !== undefined) {\n",
       "    var events = require('base/js/events');\n",
       "    var OutputArea = require('notebook/js/outputarea').OutputArea;\n",
       "\n",
       "    if (OutputArea.prototype.mime_types().indexOf(EXEC_MIME_TYPE) == -1) {\n",
       "      register_renderer(events, OutputArea);\n",
       "    }\n",
       "  }\n",
       "\n",
       "  \n",
       "  if (typeof (root._bokeh_timeout) === \"undefined\" || force === true) {\n",
       "    root._bokeh_timeout = Date.now() + 5000;\n",
       "    root._bokeh_failed_load = false;\n",
       "  }\n",
       "\n",
       "  var NB_LOAD_WARNING = {'data': {'text/html':\n",
       "     \"<div style='background-color: #fdd'>\\n\"+\n",
       "     \"<p>\\n\"+\n",
       "     \"BokehJS does not appear to have successfully loaded. If loading BokehJS from CDN, this \\n\"+\n",
       "     \"may be due to a slow or bad network connection. Possible fixes:\\n\"+\n",
       "     \"</p>\\n\"+\n",
       "     \"<ul>\\n\"+\n",
       "     \"<li>re-rerun `output_notebook()` to attempt to load from CDN again, or</li>\\n\"+\n",
       "     \"<li>use INLINE resources instead, as so:</li>\\n\"+\n",
       "     \"</ul>\\n\"+\n",
       "     \"<code>\\n\"+\n",
       "     \"from bokeh.resources import INLINE\\n\"+\n",
       "     \"output_notebook(resources=INLINE)\\n\"+\n",
       "     \"</code>\\n\"+\n",
       "     \"</div>\"}};\n",
       "\n",
       "  function display_loaded() {\n",
       "    var el = document.getElementById(null);\n",
       "    if (el != null) {\n",
       "      el.textContent = \"BokehJS is loading...\";\n",
       "    }\n",
       "    if (root.Bokeh !== undefined) {\n",
       "      if (el != null) {\n",
       "        el.textContent = \"BokehJS \" + root.Bokeh.version + \" successfully loaded.\";\n",
       "      }\n",
       "    } else if (Date.now() < root._bokeh_timeout) {\n",
       "      setTimeout(display_loaded, 100)\n",
       "    }\n",
       "  }\n",
       "\n",
       "\n",
       "  function run_callbacks() {\n",
       "    try {\n",
       "      root._bokeh_onload_callbacks.forEach(function(callback) {\n",
       "        if (callback != null)\n",
       "          callback();\n",
       "      });\n",
       "    } finally {\n",
       "      delete root._bokeh_onload_callbacks\n",
       "    }\n",
       "    console.debug(\"Bokeh: all callbacks have finished\");\n",
       "  }\n",
       "\n",
       "  function load_libs(css_urls, js_urls, callback) {\n",
       "    if (css_urls == null) css_urls = [];\n",
       "    if (js_urls == null) js_urls = [];\n",
       "\n",
       "    root._bokeh_onload_callbacks.push(callback);\n",
       "    if (root._bokeh_is_loading > 0) {\n",
       "      console.debug(\"Bokeh: BokehJS is being loaded, scheduling callback at\", now());\n",
       "      return null;\n",
       "    }\n",
       "    if (js_urls == null || js_urls.length === 0) {\n",
       "      run_callbacks();\n",
       "      return null;\n",
       "    }\n",
       "    console.debug(\"Bokeh: BokehJS not loaded, scheduling load and callback at\", now());\n",
       "    root._bokeh_is_loading = css_urls.length + js_urls.length;\n",
       "\n",
       "    function on_load() {\n",
       "      root._bokeh_is_loading--;\n",
       "      if (root._bokeh_is_loading === 0) {\n",
       "        console.debug(\"Bokeh: all BokehJS libraries/stylesheets loaded\");\n",
       "        run_callbacks()\n",
       "      }\n",
       "    }\n",
       "\n",
       "    function on_error() {\n",
       "      console.error(\"failed to load \" + url);\n",
       "    }\n",
       "\n",
       "    for (var i = 0; i < css_urls.length; i++) {\n",
       "      var url = css_urls[i];\n",
       "      const element = document.createElement(\"link\");\n",
       "      element.onload = on_load;\n",
       "      element.onerror = on_error;\n",
       "      element.rel = \"stylesheet\";\n",
       "      element.type = \"text/css\";\n",
       "      element.href = url;\n",
       "      console.debug(\"Bokeh: injecting link tag for BokehJS stylesheet: \", url);\n",
       "      document.body.appendChild(element);\n",
       "    }\n",
       "\n",
       "    for (var i = 0; i < js_urls.length; i++) {\n",
       "      var url = js_urls[i];\n",
       "      var element = document.createElement('script');\n",
       "      element.onload = on_load;\n",
       "      element.onerror = on_error;\n",
       "      element.async = false;\n",
       "      element.src = url;\n",
       "      console.debug(\"Bokeh: injecting script tag for BokehJS library: \", url);\n",
       "      document.head.appendChild(element);\n",
       "    }\n",
       "  };\n",
       "\n",
       "  function inject_raw_css(css) {\n",
       "    const element = document.createElement(\"style\");\n",
       "    element.appendChild(document.createTextNode(css));\n",
       "    document.body.appendChild(element);\n",
       "  }\n",
       "\n",
       "  \n",
       "  var js_urls = [\"https://cdn.pydata.org/bokeh/release/bokeh-1.4.0.min.js\", \"https://cdn.pydata.org/bokeh/release/bokeh-widgets-1.4.0.min.js\", \"https://cdn.pydata.org/bokeh/release/bokeh-tables-1.4.0.min.js\", \"https://cdn.pydata.org/bokeh/release/bokeh-gl-1.4.0.min.js\"];\n",
       "  var css_urls = [];\n",
       "  \n",
       "\n",
       "  var inline_js = [\n",
       "    function(Bokeh) {\n",
       "      Bokeh.set_log_level(\"info\");\n",
       "    },\n",
       "    function(Bokeh) {\n",
       "    \n",
       "    \n",
       "    }\n",
       "  ];\n",
       "\n",
       "  function run_inline_js() {\n",
       "    \n",
       "    if (root.Bokeh !== undefined || force === true) {\n",
       "      \n",
       "    for (var i = 0; i < inline_js.length; i++) {\n",
       "      inline_js[i].call(root, root.Bokeh);\n",
       "    }\n",
       "    } else if (Date.now() < root._bokeh_timeout) {\n",
       "      setTimeout(run_inline_js, 100);\n",
       "    } else if (!root._bokeh_failed_load) {\n",
       "      console.log(\"Bokeh: BokehJS failed to load within specified timeout.\");\n",
       "      root._bokeh_failed_load = true;\n",
       "    } else if (force !== true) {\n",
       "      var cell = $(document.getElementById(null)).parents('.cell').data().cell;\n",
       "      cell.output_area.append_execute_result(NB_LOAD_WARNING)\n",
       "    }\n",
       "\n",
       "  }\n",
       "\n",
       "  if (root._bokeh_is_loading === 0) {\n",
       "    console.debug(\"Bokeh: BokehJS loaded, going straight to plotting\");\n",
       "    run_inline_js();\n",
       "  } else {\n",
       "    load_libs(css_urls, js_urls, function() {\n",
       "      console.debug(\"Bokeh: BokehJS plotting callback run at\", now());\n",
       "      run_inline_js();\n",
       "    });\n",
       "  }\n",
       "}(window));"
      ],
      "application/vnd.bokehjs_load.v0+json": "\n(function(root) {\n  function now() {\n    return new Date();\n  }\n\n  var force = true;\n\n  if (typeof root._bokeh_onload_callbacks === \"undefined\" || force === true) {\n    root._bokeh_onload_callbacks = [];\n    root._bokeh_is_loading = undefined;\n  }\n\n  \n\n  \n  if (typeof (root._bokeh_timeout) === \"undefined\" || force === true) {\n    root._bokeh_timeout = Date.now() + 5000;\n    root._bokeh_failed_load = false;\n  }\n\n  var NB_LOAD_WARNING = {'data': {'text/html':\n     \"<div style='background-color: #fdd'>\\n\"+\n     \"<p>\\n\"+\n     \"BokehJS does not appear to have successfully loaded. If loading BokehJS from CDN, this \\n\"+\n     \"may be due to a slow or bad network connection. Possible fixes:\\n\"+\n     \"</p>\\n\"+\n     \"<ul>\\n\"+\n     \"<li>re-rerun `output_notebook()` to attempt to load from CDN again, or</li>\\n\"+\n     \"<li>use INLINE resources instead, as so:</li>\\n\"+\n     \"</ul>\\n\"+\n     \"<code>\\n\"+\n     \"from bokeh.resources import INLINE\\n\"+\n     \"output_notebook(resources=INLINE)\\n\"+\n     \"</code>\\n\"+\n     \"</div>\"}};\n\n  function display_loaded() {\n    var el = document.getElementById(null);\n    if (el != null) {\n      el.textContent = \"BokehJS is loading...\";\n    }\n    if (root.Bokeh !== undefined) {\n      if (el != null) {\n        el.textContent = \"BokehJS \" + root.Bokeh.version + \" successfully loaded.\";\n      }\n    } else if (Date.now() < root._bokeh_timeout) {\n      setTimeout(display_loaded, 100)\n    }\n  }\n\n\n  function run_callbacks() {\n    try {\n      root._bokeh_onload_callbacks.forEach(function(callback) {\n        if (callback != null)\n          callback();\n      });\n    } finally {\n      delete root._bokeh_onload_callbacks\n    }\n    console.debug(\"Bokeh: all callbacks have finished\");\n  }\n\n  function load_libs(css_urls, js_urls, callback) {\n    if (css_urls == null) css_urls = [];\n    if (js_urls == null) js_urls = [];\n\n    root._bokeh_onload_callbacks.push(callback);\n    if (root._bokeh_is_loading > 0) {\n      console.debug(\"Bokeh: BokehJS is being loaded, scheduling callback at\", now());\n      return null;\n    }\n    if (js_urls == null || js_urls.length === 0) {\n      run_callbacks();\n      return null;\n    }\n    console.debug(\"Bokeh: BokehJS not loaded, scheduling load and callback at\", now());\n    root._bokeh_is_loading = css_urls.length + js_urls.length;\n\n    function on_load() {\n      root._bokeh_is_loading--;\n      if (root._bokeh_is_loading === 0) {\n        console.debug(\"Bokeh: all BokehJS libraries/stylesheets loaded\");\n        run_callbacks()\n      }\n    }\n\n    function on_error() {\n      console.error(\"failed to load \" + url);\n    }\n\n    for (var i = 0; i < css_urls.length; i++) {\n      var url = css_urls[i];\n      const element = document.createElement(\"link\");\n      element.onload = on_load;\n      element.onerror = on_error;\n      element.rel = \"stylesheet\";\n      element.type = \"text/css\";\n      element.href = url;\n      console.debug(\"Bokeh: injecting link tag for BokehJS stylesheet: \", url);\n      document.body.appendChild(element);\n    }\n\n    for (var i = 0; i < js_urls.length; i++) {\n      var url = js_urls[i];\n      var element = document.createElement('script');\n      element.onload = on_load;\n      element.onerror = on_error;\n      element.async = false;\n      element.src = url;\n      console.debug(\"Bokeh: injecting script tag for BokehJS library: \", url);\n      document.head.appendChild(element);\n    }\n  };\n\n  function inject_raw_css(css) {\n    const element = document.createElement(\"style\");\n    element.appendChild(document.createTextNode(css));\n    document.body.appendChild(element);\n  }\n\n  \n  var js_urls = [\"https://cdn.pydata.org/bokeh/release/bokeh-1.4.0.min.js\", \"https://cdn.pydata.org/bokeh/release/bokeh-widgets-1.4.0.min.js\", \"https://cdn.pydata.org/bokeh/release/bokeh-tables-1.4.0.min.js\", \"https://cdn.pydata.org/bokeh/release/bokeh-gl-1.4.0.min.js\"];\n  var css_urls = [];\n  \n\n  var inline_js = [\n    function(Bokeh) {\n      Bokeh.set_log_level(\"info\");\n    },\n    function(Bokeh) {\n    \n    \n    }\n  ];\n\n  function run_inline_js() {\n    \n    if (root.Bokeh !== undefined || force === true) {\n      \n    for (var i = 0; i < inline_js.length; i++) {\n      inline_js[i].call(root, root.Bokeh);\n    }\n    } else if (Date.now() < root._bokeh_timeout) {\n      setTimeout(run_inline_js, 100);\n    } else if (!root._bokeh_failed_load) {\n      console.log(\"Bokeh: BokehJS failed to load within specified timeout.\");\n      root._bokeh_failed_load = true;\n    } else if (force !== true) {\n      var cell = $(document.getElementById(null)).parents('.cell').data().cell;\n      cell.output_area.append_execute_result(NB_LOAD_WARNING)\n    }\n\n  }\n\n  if (root._bokeh_is_loading === 0) {\n    console.debug(\"Bokeh: BokehJS loaded, going straight to plotting\");\n    run_inline_js();\n  } else {\n    load_libs(css_urls, js_urls, function() {\n      console.debug(\"Bokeh: BokehJS plotting callback run at\", now());\n      run_inline_js();\n    });\n  }\n}(window));"
     },
     "metadata": {},
     "output_type": "display_data"
    },
    {
     "data": {
      "text/html": [
       "\n",
       "\n",
       "\n",
       "\n",
       "\n",
       "\n",
       "  <div class=\"bk-root\" id=\"955da386-93e0-4c5a-be44-e5b0d09d679e\" data-root-id=\"1191\"></div>\n"
      ]
     },
     "metadata": {},
     "output_type": "display_data"
    },
    {
     "data": {
      "application/javascript": [
       "(function(root) {\n",
       "  function embed_document(root) {\n",
       "    \n",
       "  var docs_json = {\"dd078eab-50ef-46a9-bb11-2abea8c961df\":{\"roots\":{\"references\":[{\"attributes\":{\"children\":[[{\"id\":\"1001\",\"subtype\":\"Figure\",\"type\":\"Plot\"},0,0],[{\"id\":\"1032\",\"subtype\":\"Figure\",\"type\":\"Plot\"},0,1],[{\"id\":\"1063\",\"subtype\":\"Figure\",\"type\":\"Plot\"},0,2],[{\"id\":\"1094\",\"subtype\":\"Figure\",\"type\":\"Plot\"},1,0],[{\"id\":\"1125\",\"subtype\":\"Figure\",\"type\":\"Plot\"},1,1]]},\"id\":\"1191\",\"type\":\"GridBox\"},{\"attributes\":{\"axis_label\":\"Count\",\"formatter\":{\"id\":\"1185\",\"type\":\"BasicTickFormatter\"},\"major_label_text_font_size\":{\"value\":\"0pt\"},\"major_tick_line_color\":{\"value\":null},\"minor_tick_line_color\":{\"value\":null},\"ticker\":{\"id\":\"1141\",\"type\":\"BasicTicker\"}},\"id\":\"1140\",\"type\":\"LinearAxis\"},{\"attributes\":{},\"id\":\"1039\",\"type\":\"CategoricalScale\"},{\"attributes\":{\"callback\":null,\"tooltips\":[[\"profile\",\"@col\"],[\"Count\",\"@cnt\"],[\"Percent\",\"@pct{0.2f}%\"]]},\"id\":\"1114\",\"type\":\"HoverTool\"},{\"attributes\":{\"dimension\":1,\"grid_line_color\":null,\"ticker\":{\"id\":\"1017\",\"type\":\"BasicTicker\"}},\"id\":\"1020\",\"type\":\"Grid\"},{\"attributes\":{\"dimension\":1,\"grid_line_color\":null,\"ticker\":{\"id\":\"1110\",\"type\":\"BasicTicker\"}},\"id\":\"1113\",\"type\":\"Grid\"},{\"attributes\":{\"source\":{\"id\":\"1117\",\"type\":\"ColumnDataSource\"}},\"id\":\"1122\",\"type\":\"CDSView\"},{\"attributes\":{\"code\":\"\\n            if (tick.length > 15) return tick.substring(0, 15-2) + '...';\\n            else return tick;\\n        \"},\"id\":\"1030\",\"type\":\"FuncTickFormatter\"},{\"attributes\":{\"axis_label\":\"Count\",\"formatter\":{\"id\":\"1178\",\"type\":\"BasicTickFormatter\"},\"major_label_text_font_size\":{\"value\":\"0pt\"},\"major_tick_line_color\":{\"value\":null},\"minor_tick_line_color\":{\"value\":null},\"ticker\":{\"id\":\"1110\",\"type\":\"BasicTicker\"}},\"id\":\"1109\",\"type\":\"LinearAxis\"},{\"attributes\":{\"active_drag\":\"auto\",\"active_inspect\":\"auto\",\"active_multi\":null,\"active_scroll\":\"auto\",\"active_tap\":\"auto\",\"tools\":[{\"id\":\"1114\",\"type\":\"HoverTool\"}]},\"id\":\"1115\",\"type\":\"Toolbar\"},{\"attributes\":{\"text\":\"rank\",\"text_font_size\":{\"value\":\"10pt\"}},\"id\":\"1033\",\"type\":\"Title\"},{\"attributes\":{\"grid_line_color\":null,\"ticker\":{\"id\":\"1137\",\"type\":\"CategoricalTicker\"}},\"id\":\"1139\",\"type\":\"Grid\"},{\"attributes\":{},\"id\":\"1044\",\"type\":\"CategoricalTicker\"},{\"attributes\":{\"bottom\":{\"value\":0.01},\"fill_color\":{\"value\":\"#1f77b4\"},\"line_color\":{\"value\":\"#1f77b4\"},\"top\":{\"field\":\"cnt\"},\"width\":{\"value\":0.9},\"x\":{\"field\":\"col\"}},\"id\":\"1026\",\"type\":\"VBar\"},{\"attributes\":{},\"id\":\"1041\",\"type\":\"LinearScale\"},{\"attributes\":{\"data_source\":{\"id\":\"1117\",\"type\":\"ColumnDataSource\"},\"glyph\":{\"id\":\"1119\",\"type\":\"VBar\"},\"hover_glyph\":null,\"muted_glyph\":null,\"nonselection_glyph\":{\"id\":\"1120\",\"type\":\"VBar\"},\"selection_glyph\":null,\"view\":{\"id\":\"1122\",\"type\":\"CDSView\"}},\"id\":\"1121\",\"type\":\"GlyphRenderer\"},{\"attributes\":{\"bottom\":{\"value\":0.01},\"fill_alpha\":{\"value\":0.1},\"fill_color\":{\"value\":\"#1f77b4\"},\"line_alpha\":{\"value\":0.1},\"line_color\":{\"value\":\"#1f77b4\"},\"top\":{\"field\":\"cnt\"},\"width\":{\"value\":0.9},\"x\":{\"field\":\"col\"}},\"id\":\"1120\",\"type\":\"VBar\"},{\"attributes\":{\"text\":\"name\",\"text_font_size\":{\"value\":\"10pt\"}},\"id\":\"1002\",\"type\":\"Title\"},{\"attributes\":{\"data_source\":{\"id\":\"1024\",\"type\":\"ColumnDataSource\"},\"glyph\":{\"id\":\"1026\",\"type\":\"VBar\"},\"hover_glyph\":null,\"muted_glyph\":null,\"nonselection_glyph\":{\"id\":\"1027\",\"type\":\"VBar\"},\"selection_glyph\":null,\"view\":{\"id\":\"1029\",\"type\":\"CDSView\"}},\"id\":\"1028\",\"type\":\"GlyphRenderer\"},{\"attributes\":{\"axis_label\":\"Count\",\"formatter\":{\"id\":\"1157\",\"type\":\"BasicTickFormatter\"},\"major_label_text_font_size\":{\"value\":\"0pt\"},\"major_tick_line_color\":{\"value\":null},\"minor_tick_line_color\":{\"value\":null},\"ticker\":{\"id\":\"1017\",\"type\":\"BasicTicker\"}},\"id\":\"1016\",\"type\":\"LinearAxis\"},{\"attributes\":{\"grid_line_color\":null,\"ticker\":{\"id\":\"1044\",\"type\":\"CategoricalTicker\"}},\"id\":\"1046\",\"type\":\"Grid\"},{\"attributes\":{},\"id\":\"1110\",\"type\":\"BasicTicker\"},{\"attributes\":{},\"id\":\"1008\",\"type\":\"CategoricalScale\"},{\"attributes\":{},\"id\":\"1013\",\"type\":\"CategoricalTicker\"},{\"attributes\":{\"bottom\":{\"value\":0.01},\"fill_alpha\":{\"value\":0.1},\"fill_color\":{\"value\":\"#1f77b4\"},\"line_alpha\":{\"value\":0.1},\"line_color\":{\"value\":\"#1f77b4\"},\"top\":{\"field\":\"cnt\"},\"width\":{\"value\":0.9},\"x\":{\"field\":\"col\"}},\"id\":\"1027\",\"type\":\"VBar\"},{\"attributes\":{},\"id\":\"1164\",\"type\":\"BasicTickFormatter\"},{\"attributes\":{\"below\":[{\"id\":\"1043\",\"type\":\"CategoricalAxis\"}],\"center\":[{\"id\":\"1046\",\"type\":\"Grid\"},{\"id\":\"1051\",\"type\":\"Grid\"}],\"left\":[{\"id\":\"1047\",\"type\":\"LinearAxis\"}],\"plot_height\":300,\"plot_width\":324,\"renderers\":[{\"id\":\"1059\",\"type\":\"GlyphRenderer\"}],\"title\":{\"id\":\"1033\",\"type\":\"Title\"},\"toolbar\":{\"id\":\"1053\",\"type\":\"Toolbar\"},\"toolbar_location\":null,\"x_range\":{\"id\":\"1035\",\"type\":\"FactorRange\"},\"x_scale\":{\"id\":\"1039\",\"type\":\"CategoricalScale\"},\"y_range\":{\"id\":\"1037\",\"type\":\"DataRange1d\"},\"y_scale\":{\"id\":\"1041\",\"type\":\"LinearScale\"}},\"id\":\"1032\",\"subtype\":\"Figure\",\"type\":\"Plot\"},{\"attributes\":{},\"id\":\"1010\",\"type\":\"LinearScale\"},{\"attributes\":{\"source\":{\"id\":\"1024\",\"type\":\"ColumnDataSource\"}},\"id\":\"1029\",\"type\":\"CDSView\"},{\"attributes\":{\"axis_label\":\"Count\",\"formatter\":{\"id\":\"1164\",\"type\":\"BasicTickFormatter\"},\"major_label_text_font_size\":{\"value\":\"0pt\"},\"major_tick_line_color\":{\"value\":null},\"minor_tick_line_color\":{\"value\":null},\"ticker\":{\"id\":\"1048\",\"type\":\"BasicTicker\"}},\"id\":\"1047\",\"type\":\"LinearAxis\"},{\"attributes\":{\"callback\":null,\"tooltips\":[[\"name\",\"@col\"],[\"Count\",\"@cnt\"],[\"Percent\",\"@pct{0.2f}%\"]]},\"id\":\"1021\",\"type\":\"HoverTool\"},{\"attributes\":{\"callback\":null,\"data\":{\"cnt\":[29,13,9,8,3,2,1],\"col\":[\"Professor\",\"Assistant Professor\",\"Associate Professor\",\"Senior Lecturer\",\"Lecturer\",\"University Lecturer\",\"Assistant Professor Of Professional Practice\"],\"index\":[0,1,2,3,4,5,6],\"pct\":{\"__ndarray__\":\"7cRO7MRORkAAAAAAAAA0QBQ7sRM7sStA2Ymd2ImdKEBjJ3ZiJ3YSQNmJndiJnQhA2Ymd2Imd+D8=\",\"dtype\":\"float64\",\"shape\":[7]}},\"selected\":{\"id\":\"1167\",\"type\":\"Selection\"},\"selection_policy\":{\"id\":\"1168\",\"type\":\"UnionRenderers\"}},\"id\":\"1055\",\"type\":\"ColumnDataSource\"},{\"attributes\":{\"callback\":null,\"data\":{\"cnt\":[1,1,1,1,1,1,1,1,1,1],\"col\":[\"Andrei Bulatov\",\"Angel Chang\",\"Angelica Lim\",\"Anne Lavergne\",\"Anoop Sarkar\",\"Arrvindh Shriraman\",\"Binay Bhattacharya\",\"Bobby Chan\",\"Brad Bart\",\"Brian Fraser\"],\"index\":[0,1,2,3,4,5,6,7,8,9],\"pct\":{\"__ndarray__\":\"2Ymd2Imd+D/ZiZ3YiZ34P9mJndiJnfg/2Ymd2Imd+D/ZiZ3YiZ34P9mJndiJnfg/2Ymd2Imd+D/ZiZ3YiZ34P9mJndiJnfg/2Ymd2Imd+D8=\",\"dtype\":\"float64\",\"shape\":[10]}},\"selected\":{\"id\":\"1160\",\"type\":\"Selection\"},\"selection_policy\":{\"id\":\"1161\",\"type\":\"UnionRenderers\"}},\"id\":\"1024\",\"type\":\"ColumnDataSource\"},{\"attributes\":{\"callback\":null,\"factors\":[\"Professor\",\"Assistant Professor\",\"Associate Professor\",\"Senior Lecturer\",\"Lecturer\",\"University Lecturer\",\"Assistant Professor Of Professional Practice\"]},\"id\":\"1035\",\"type\":\"FactorRange\"},{\"attributes\":{\"callback\":null,\"factors\":[\"Andrei Bulatov\",\"Angel Chang\",\"Angelica Lim\",\"Anne Lavergne\",\"Anoop Sarkar\",\"Arrvindh Shriraman\",\"Binay Bhattacharya\",\"Bobby Chan\",\"Brad Bart\",\"Brian Fraser\"]},\"id\":\"1004\",\"type\":\"FactorRange\"},{\"attributes\":{\"formatter\":{\"id\":\"1061\",\"type\":\"FuncTickFormatter\"},\"major_label_orientation\":1.0471975511965976,\"major_label_text_font_size\":{\"value\":\"9pt\"},\"minor_tick_line_color\":{\"value\":null},\"ticker\":{\"id\":\"1044\",\"type\":\"CategoricalTicker\"}},\"id\":\"1043\",\"type\":\"CategoricalAxis\"},{\"attributes\":{\"callback\":null},\"id\":\"1006\",\"type\":\"DataRange1d\"},{\"attributes\":{},\"id\":\"1017\",\"type\":\"BasicTicker\"},{\"attributes\":{\"active_drag\":\"auto\",\"active_inspect\":\"auto\",\"active_multi\":null,\"active_scroll\":\"auto\",\"active_tap\":\"auto\",\"tools\":[{\"id\":\"1021\",\"type\":\"HoverTool\"}]},\"id\":\"1022\",\"type\":\"Toolbar\"},{\"attributes\":{\"grid_line_color\":null,\"ticker\":{\"id\":\"1013\",\"type\":\"CategoricalTicker\"}},\"id\":\"1015\",\"type\":\"Grid\"},{\"attributes\":{\"bottom\":{\"value\":0.01},\"fill_color\":{\"value\":\"#1f77b4\"},\"line_color\":{\"value\":\"#1f77b4\"},\"top\":{\"field\":\"cnt\"},\"width\":{\"value\":0.9},\"x\":{\"field\":\"col\"}},\"id\":\"1119\",\"type\":\"VBar\"},{\"attributes\":{\"callback\":null},\"id\":\"1037\",\"type\":\"DataRange1d\"},{\"attributes\":{\"axis_label\":\"Top 10 of 65 name\",\"axis_label_standoff\":0,\"formatter\":{\"id\":\"1030\",\"type\":\"FuncTickFormatter\"},\"major_label_orientation\":1.0471975511965976,\"major_label_text_font_size\":{\"value\":\"9pt\"},\"minor_tick_line_color\":{\"value\":null},\"ticker\":{\"id\":\"1013\",\"type\":\"CategoricalTicker\"}},\"id\":\"1012\",\"type\":\"CategoricalAxis\"},{\"attributes\":{\"below\":[{\"id\":\"1074\",\"type\":\"CategoricalAxis\"}],\"center\":[{\"id\":\"1077\",\"type\":\"Grid\"},{\"id\":\"1082\",\"type\":\"Grid\"}],\"left\":[{\"id\":\"1078\",\"type\":\"LinearAxis\"}],\"plot_height\":300,\"plot_width\":324,\"renderers\":[{\"id\":\"1090\",\"type\":\"GlyphRenderer\"}],\"title\":{\"id\":\"1064\",\"type\":\"Title\"},\"toolbar\":{\"id\":\"1084\",\"type\":\"Toolbar\"},\"toolbar_location\":null,\"x_range\":{\"id\":\"1066\",\"type\":\"FactorRange\"},\"x_scale\":{\"id\":\"1070\",\"type\":\"CategoricalScale\"},\"y_range\":{\"id\":\"1068\",\"type\":\"DataRange1d\"},\"y_scale\":{\"id\":\"1072\",\"type\":\"LinearScale\"}},\"id\":\"1063\",\"subtype\":\"Figure\",\"type\":\"Plot\"},{\"attributes\":{\"below\":[{\"id\":\"1105\",\"type\":\"CategoricalAxis\"}],\"center\":[{\"id\":\"1108\",\"type\":\"Grid\"},{\"id\":\"1113\",\"type\":\"Grid\"}],\"left\":[{\"id\":\"1109\",\"type\":\"LinearAxis\"}],\"plot_height\":300,\"plot_width\":324,\"renderers\":[{\"id\":\"1121\",\"type\":\"GlyphRenderer\"}],\"title\":{\"id\":\"1095\",\"type\":\"Title\"},\"toolbar\":{\"id\":\"1115\",\"type\":\"Toolbar\"},\"toolbar_location\":null,\"x_range\":{\"id\":\"1097\",\"type\":\"FactorRange\"},\"x_scale\":{\"id\":\"1101\",\"type\":\"CategoricalScale\"},\"y_range\":{\"id\":\"1099\",\"type\":\"DataRange1d\"},\"y_scale\":{\"id\":\"1103\",\"type\":\"LinearScale\"}},\"id\":\"1094\",\"subtype\":\"Figure\",\"type\":\"Plot\"},{\"attributes\":{\"bottom\":{\"value\":0.01},\"fill_color\":{\"value\":\"#1f77b4\"},\"line_color\":{\"value\":\"#1f77b4\"},\"top\":{\"field\":\"cnt\"},\"width\":{\"value\":0.9},\"x\":{\"field\":\"col\"}},\"id\":\"1150\",\"type\":\"VBar\"},{\"attributes\":{\"active_drag\":\"auto\",\"active_inspect\":\"auto\",\"active_multi\":null,\"active_scroll\":\"auto\",\"active_tap\":\"auto\",\"tools\":[{\"id\":\"1145\",\"type\":\"HoverTool\"}]},\"id\":\"1146\",\"type\":\"Toolbar\"},{\"attributes\":{},\"id\":\"1079\",\"type\":\"BasicTicker\"},{\"attributes\":{},\"id\":\"1175\",\"type\":\"UnionRenderers\"},{\"attributes\":{\"data_source\":{\"id\":\"1055\",\"type\":\"ColumnDataSource\"},\"glyph\":{\"id\":\"1057\",\"type\":\"VBar\"},\"hover_glyph\":null,\"muted_glyph\":null,\"nonselection_glyph\":{\"id\":\"1058\",\"type\":\"VBar\"},\"selection_glyph\":null,\"view\":{\"id\":\"1060\",\"type\":\"CDSView\"}},\"id\":\"1059\",\"type\":\"GlyphRenderer\"},{\"attributes\":{\"source\":{\"id\":\"1148\",\"type\":\"ColumnDataSource\"}},\"id\":\"1153\",\"type\":\"CDSView\"},{\"attributes\":{\"bottom\":{\"value\":0.01},\"fill_alpha\":{\"value\":0.1},\"fill_color\":{\"value\":\"#1f77b4\"},\"line_alpha\":{\"value\":0.1},\"line_color\":{\"value\":\"#1f77b4\"},\"top\":{\"field\":\"cnt\"},\"width\":{\"value\":0.9},\"x\":{\"field\":\"col\"}},\"id\":\"1151\",\"type\":\"VBar\"},{\"attributes\":{\"bottom\":{\"value\":0.01},\"fill_alpha\":{\"value\":0.1},\"fill_color\":{\"value\":\"#1f77b4\"},\"line_alpha\":{\"value\":0.1},\"line_color\":{\"value\":\"#1f77b4\"},\"top\":{\"field\":\"cnt\"},\"width\":{\"value\":0.9},\"x\":{\"field\":\"col\"}},\"id\":\"1089\",\"type\":\"VBar\"},{\"attributes\":{},\"id\":\"1182\",\"type\":\"UnionRenderers\"},{\"attributes\":{\"active_drag\":\"auto\",\"active_inspect\":\"auto\",\"active_multi\":null,\"active_scroll\":\"auto\",\"active_tap\":\"auto\",\"tools\":[{\"id\":\"1052\",\"type\":\"HoverTool\"}]},\"id\":\"1053\",\"type\":\"Toolbar\"},{\"attributes\":{\"code\":\"\\n            if (tick.length > 15) return tick.substring(0, 15-2) + '...';\\n            else return tick;\\n        \"},\"id\":\"1154\",\"type\":\"FuncTickFormatter\"},{\"attributes\":{},\"id\":\"1174\",\"type\":\"Selection\"},{\"attributes\":{},\"id\":\"1157\",\"type\":\"BasicTickFormatter\"},{\"attributes\":{\"code\":\"\\n            if (tick.length > 15) return tick.substring(0, 15-2) + '...';\\n            else return tick;\\n        \"},\"id\":\"1123\",\"type\":\"FuncTickFormatter\"},{\"attributes\":{},\"id\":\"1075\",\"type\":\"CategoricalTicker\"},{\"attributes\":{},\"id\":\"1072\",\"type\":\"LinearScale\"},{\"attributes\":{},\"id\":\"1188\",\"type\":\"Selection\"},{\"attributes\":{\"bottom\":{\"value\":0.01},\"fill_alpha\":{\"value\":0.1},\"fill_color\":{\"value\":\"#1f77b4\"},\"line_alpha\":{\"value\":0.1},\"line_color\":{\"value\":\"#1f77b4\"},\"top\":{\"field\":\"cnt\"},\"width\":{\"value\":0.9},\"x\":{\"field\":\"col\"}},\"id\":\"1058\",\"type\":\"VBar\"},{\"attributes\":{\"callback\":null,\"tooltips\":[[\"areas\",\"@col\"],[\"Count\",\"@cnt\"],[\"Percent\",\"@pct{0.2f}%\"]]},\"id\":\"1083\",\"type\":\"HoverTool\"},{\"attributes\":{},\"id\":\"1181\",\"type\":\"Selection\"},{\"attributes\":{\"data_source\":{\"id\":\"1086\",\"type\":\"ColumnDataSource\"},\"glyph\":{\"id\":\"1088\",\"type\":\"VBar\"},\"hover_glyph\":null,\"muted_glyph\":null,\"nonselection_glyph\":{\"id\":\"1089\",\"type\":\"VBar\"},\"selection_glyph\":null,\"view\":{\"id\":\"1091\",\"type\":\"CDSView\"}},\"id\":\"1090\",\"type\":\"GlyphRenderer\"},{\"attributes\":{},\"id\":\"1101\",\"type\":\"CategoricalScale\"},{\"attributes\":{},\"id\":\"1132\",\"type\":\"CategoricalScale\"},{\"attributes\":{},\"id\":\"1141\",\"type\":\"BasicTicker\"},{\"attributes\":{\"active_drag\":\"auto\",\"active_inspect\":\"auto\",\"active_multi\":null,\"active_scroll\":\"auto\",\"active_tap\":\"auto\",\"tools\":[{\"id\":\"1083\",\"type\":\"HoverTool\"}]},\"id\":\"1084\",\"type\":\"Toolbar\"},{\"attributes\":{\"text\":\"areas\",\"text_font_size\":{\"value\":\"10pt\"}},\"id\":\"1064\",\"type\":\"Title\"},{\"attributes\":{\"bottom\":{\"value\":0.01},\"fill_color\":{\"value\":\"#1f77b4\"},\"line_color\":{\"value\":\"#1f77b4\"},\"top\":{\"field\":\"cnt\"},\"width\":{\"value\":0.9},\"x\":{\"field\":\"col\"}},\"id\":\"1057\",\"type\":\"VBar\"},{\"attributes\":{\"callback\":null},\"id\":\"1099\",\"type\":\"DataRange1d\"},{\"attributes\":{\"axis_label\":\"Top 10 of 52 homepage\",\"axis_label_standoff\":0,\"formatter\":{\"id\":\"1154\",\"type\":\"FuncTickFormatter\"},\"major_label_orientation\":1.0471975511965976,\"major_label_text_font_size\":{\"value\":\"9pt\"},\"minor_tick_line_color\":{\"value\":null},\"ticker\":{\"id\":\"1137\",\"type\":\"CategoricalTicker\"}},\"id\":\"1136\",\"type\":\"CategoricalAxis\"},{\"attributes\":{},\"id\":\"1160\",\"type\":\"Selection\"},{\"attributes\":{},\"id\":\"1103\",\"type\":\"LinearScale\"},{\"attributes\":{},\"id\":\"1106\",\"type\":\"CategoricalTicker\"},{\"attributes\":{\"axis_label\":\"Count\",\"formatter\":{\"id\":\"1171\",\"type\":\"BasicTickFormatter\"},\"major_label_text_font_size\":{\"value\":\"0pt\"},\"major_tick_line_color\":{\"value\":null},\"minor_tick_line_color\":{\"value\":null},\"ticker\":{\"id\":\"1079\",\"type\":\"BasicTicker\"}},\"id\":\"1078\",\"type\":\"LinearAxis\"},{\"attributes\":{\"callback\":null,\"tooltips\":[[\"rank\",\"@col\"],[\"Count\",\"@cnt\"],[\"Percent\",\"@pct{0.2f}%\"]]},\"id\":\"1052\",\"type\":\"HoverTool\"},{\"attributes\":{},\"id\":\"1167\",\"type\":\"Selection\"},{\"attributes\":{\"callback\":null,\"data\":{\"cnt\":[14,1,1,1,1,1,1,1,1,1],\"col\":[\"nan\",\"/computing/people/faculty/bobbychan1.html#main_content_title\",\"/computing/people/faculty/sabaalimadadi.html\",\"http://hci.cs.sfu.ca/\",\"http://people.inf.ethz.ch/aksoyy/\",\"http://www.cs.sfu.ca/~abulatov/\",\"http://www.cs.sfu.ca/~alavergn/\",\"http://www.cs.sfu.ca/~anoop/\",\"http://www.cs.sfu.ca/~ashriram/\",\"http://www.cs.sfu.ca/~bbart/\"],\"index\":[0,1,2,3,4,5,6,7,8,9],\"pct\":{\"__ndarray__\":\"ntiJndiJNUDZiZ3YiZ34P9mJndiJnfg/2Ymd2Imd+D/ZiZ3YiZ34P9mJndiJnfg/2Ymd2Imd+D/ZiZ3YiZ34P9mJndiJnfg/2Ymd2Imd+D8=\",\"dtype\":\"float64\",\"shape\":[10]}},\"selected\":{\"id\":\"1188\",\"type\":\"Selection\"},\"selection_policy\":{\"id\":\"1189\",\"type\":\"UnionRenderers\"}},\"id\":\"1148\",\"type\":\"ColumnDataSource\"},{\"attributes\":{\"below\":[{\"id\":\"1012\",\"type\":\"CategoricalAxis\"}],\"center\":[{\"id\":\"1015\",\"type\":\"Grid\"},{\"id\":\"1020\",\"type\":\"Grid\"}],\"left\":[{\"id\":\"1016\",\"type\":\"LinearAxis\"}],\"plot_height\":300,\"plot_width\":324,\"renderers\":[{\"id\":\"1028\",\"type\":\"GlyphRenderer\"}],\"title\":{\"id\":\"1002\",\"type\":\"Title\"},\"toolbar\":{\"id\":\"1022\",\"type\":\"Toolbar\"},\"toolbar_location\":null,\"x_range\":{\"id\":\"1004\",\"type\":\"FactorRange\"},\"x_scale\":{\"id\":\"1008\",\"type\":\"CategoricalScale\"},\"y_range\":{\"id\":\"1006\",\"type\":\"DataRange1d\"},\"y_scale\":{\"id\":\"1010\",\"type\":\"LinearScale\"}},\"id\":\"1001\",\"subtype\":\"Figure\",\"type\":\"Plot\"},{\"attributes\":{\"text\":\"homepage\",\"text_font_size\":{\"value\":\"10pt\"}},\"id\":\"1126\",\"type\":\"Title\"},{\"attributes\":{\"callback\":null,\"factors\":[\"http://www.sfu.ca/computing/people/faculty/ArrvindhShriraman.html\",\"http://www.sfu.ca/computing/people/faculty/EugeniaTernovska.html\",\"http://www.sfu.ca/computing/people/faculty/JosephPeters.html\",\"http://www.sfu.ca/computing/people/faculty/NickSumner.html\",\"http://www.sfu.ca/computing/people/faculty/QianpingGu.html\",\"http://www.sfu.ca/computing/people/faculty/RameshKrishnamurti.html\",\"http://www.sfu.ca/computing/people/faculty/andreibulatov.html\",\"http://www.sfu.ca/computing/people/faculty/angelchang.html\",\"http://www.sfu.ca/computing/people/faculty/angelicalim.html\",\"http://www.sfu.ca/computing/people/faculty/annelavergne.html\"]},\"id\":\"1097\",\"type\":\"FactorRange\"},{\"attributes\":{},\"id\":\"1185\",\"type\":\"BasicTickFormatter\"},{\"attributes\":{\"below\":[{\"id\":\"1136\",\"type\":\"CategoricalAxis\"}],\"center\":[{\"id\":\"1139\",\"type\":\"Grid\"},{\"id\":\"1144\",\"type\":\"Grid\"}],\"left\":[{\"id\":\"1140\",\"type\":\"LinearAxis\"}],\"plot_height\":300,\"plot_width\":324,\"renderers\":[{\"id\":\"1152\",\"type\":\"GlyphRenderer\"}],\"title\":{\"id\":\"1126\",\"type\":\"Title\"},\"toolbar\":{\"id\":\"1146\",\"type\":\"Toolbar\"},\"toolbar_location\":null,\"x_range\":{\"id\":\"1128\",\"type\":\"FactorRange\"},\"x_scale\":{\"id\":\"1132\",\"type\":\"CategoricalScale\"},\"y_range\":{\"id\":\"1130\",\"type\":\"DataRange1d\"},\"y_scale\":{\"id\":\"1134\",\"type\":\"LinearScale\"}},\"id\":\"1125\",\"subtype\":\"Figure\",\"type\":\"Plot\"},{\"attributes\":{},\"id\":\"1189\",\"type\":\"UnionRenderers\"},{\"attributes\":{\"axis_label\":\"Top 10 of 54 areas\",\"axis_label_standoff\":0,\"formatter\":{\"id\":\"1092\",\"type\":\"FuncTickFormatter\"},\"major_label_orientation\":1.0471975511965976,\"major_label_text_font_size\":{\"value\":\"9pt\"},\"minor_tick_line_color\":{\"value\":null},\"ticker\":{\"id\":\"1075\",\"type\":\"CategoricalTicker\"}},\"id\":\"1074\",\"type\":\"CategoricalAxis\"},{\"attributes\":{\"callback\":null,\"factors\":[\"nan\",\"/computing/people/faculty/bobbychan1.html#main_content_title\",\"/computing/people/faculty/sabaalimadadi.html\",\"http://hci.cs.sfu.ca/\",\"http://people.inf.ethz.ch/aksoyy/\",\"http://www.cs.sfu.ca/~abulatov/\",\"http://www.cs.sfu.ca/~alavergn/\",\"http://www.cs.sfu.ca/~anoop/\",\"http://www.cs.sfu.ca/~ashriram/\",\"http://www.cs.sfu.ca/~bbart/\"]},\"id\":\"1128\",\"type\":\"FactorRange\"},{\"attributes\":{\"data_source\":{\"id\":\"1148\",\"type\":\"ColumnDataSource\"},\"glyph\":{\"id\":\"1150\",\"type\":\"VBar\"},\"hover_glyph\":null,\"muted_glyph\":null,\"nonselection_glyph\":{\"id\":\"1151\",\"type\":\"VBar\"},\"selection_glyph\":null,\"view\":{\"id\":\"1153\",\"type\":\"CDSView\"}},\"id\":\"1152\",\"type\":\"GlyphRenderer\"},{\"attributes\":{\"axis_label\":\"Top 10 of 65 profile\",\"axis_label_standoff\":0,\"formatter\":{\"id\":\"1123\",\"type\":\"FuncTickFormatter\"},\"major_label_orientation\":1.0471975511965976,\"major_label_text_font_size\":{\"value\":\"9pt\"},\"minor_tick_line_color\":{\"value\":null},\"ticker\":{\"id\":\"1106\",\"type\":\"CategoricalTicker\"}},\"id\":\"1105\",\"type\":\"CategoricalAxis\"},{\"attributes\":{},\"id\":\"1161\",\"type\":\"UnionRenderers\"},{\"attributes\":{\"callback\":null},\"id\":\"1068\",\"type\":\"DataRange1d\"},{\"attributes\":{},\"id\":\"1134\",\"type\":\"LinearScale\"},{\"attributes\":{\"callback\":null,\"factors\":[\"Instruction\",\"Databases And Data Mining\",\"Robotics And Autonomous Systems\",\"Artificial Intelligence, Robotics, Multi-Agent/Robot Systems, Machine Learning\",\"Automated Debugging, Debugging Tools, Concurrency & Parallelism, Program Analysis & Transformation\",\"Bioinformatics, Evolutionary Computation, Computational Intelligence, Visualization\",\"Combinatorial Optimization And Approximation Algorithms\",\"Computational Biology\",\"Computational Biology And Machine Learning\",\"Computational Color Vision\"]},\"id\":\"1066\",\"type\":\"FactorRange\"},{\"attributes\":{\"code\":\"\\n            if (tick.length > 15) return tick.substring(0, 15-2) + '...';\\n            else return tick;\\n        \"},\"id\":\"1061\",\"type\":\"FuncTickFormatter\"},{\"attributes\":{\"callback\":null},\"id\":\"1130\",\"type\":\"DataRange1d\"},{\"attributes\":{\"grid_line_color\":null,\"ticker\":{\"id\":\"1075\",\"type\":\"CategoricalTicker\"}},\"id\":\"1077\",\"type\":\"Grid\"},{\"attributes\":{\"code\":\"\\n            if (tick.length > 15) return tick.substring(0, 15-2) + '...';\\n            else return tick;\\n        \"},\"id\":\"1092\",\"type\":\"FuncTickFormatter\"},{\"attributes\":{\"dimension\":1,\"grid_line_color\":null,\"ticker\":{\"id\":\"1079\",\"type\":\"BasicTicker\"}},\"id\":\"1082\",\"type\":\"Grid\"},{\"attributes\":{\"grid_line_color\":null,\"ticker\":{\"id\":\"1106\",\"type\":\"CategoricalTicker\"}},\"id\":\"1108\",\"type\":\"Grid\"},{\"attributes\":{},\"id\":\"1070\",\"type\":\"CategoricalScale\"},{\"attributes\":{\"callback\":null,\"data\":{\"cnt\":[1,1,1,1,1,1,1,1,1,1],\"col\":[\"http://www.sfu.ca/computing/people/faculty/ArrvindhShriraman.html\",\"http://www.sfu.ca/computing/people/faculty/EugeniaTernovska.html\",\"http://www.sfu.ca/computing/people/faculty/JosephPeters.html\",\"http://www.sfu.ca/computing/people/faculty/NickSumner.html\",\"http://www.sfu.ca/computing/people/faculty/QianpingGu.html\",\"http://www.sfu.ca/computing/people/faculty/RameshKrishnamurti.html\",\"http://www.sfu.ca/computing/people/faculty/andreibulatov.html\",\"http://www.sfu.ca/computing/people/faculty/angelchang.html\",\"http://www.sfu.ca/computing/people/faculty/angelicalim.html\",\"http://www.sfu.ca/computing/people/faculty/annelavergne.html\"],\"index\":[0,1,2,3,4,5,6,7,8,9],\"pct\":{\"__ndarray__\":\"2Ymd2Imd+D/ZiZ3YiZ34P9mJndiJnfg/2Ymd2Imd+D/ZiZ3YiZ34P9mJndiJnfg/2Ymd2Imd+D/ZiZ3YiZ34P9mJndiJnfg/2Ymd2Imd+D8=\",\"dtype\":\"float64\",\"shape\":[10]}},\"selected\":{\"id\":\"1181\",\"type\":\"Selection\"},\"selection_policy\":{\"id\":\"1182\",\"type\":\"UnionRenderers\"}},\"id\":\"1117\",\"type\":\"ColumnDataSource\"},{\"attributes\":{\"callback\":null,\"tooltips\":[[\"homepage\",\"@col\"],[\"Count\",\"@cnt\"],[\"Percent\",\"@pct{0.2f}%\"]]},\"id\":\"1145\",\"type\":\"HoverTool\"},{\"attributes\":{\"dimension\":1,\"grid_line_color\":null,\"ticker\":{\"id\":\"1048\",\"type\":\"BasicTicker\"}},\"id\":\"1051\",\"type\":\"Grid\"},{\"attributes\":{},\"id\":\"1048\",\"type\":\"BasicTicker\"},{\"attributes\":{\"callback\":null,\"data\":{\"cnt\":[10,2,2,1,1,1,1,1,1,1],\"col\":[\"Instruction\",\"Databases And Data Mining\",\"Robotics And Autonomous Systems\",\"Artificial Intelligence, Robotics, Multi-Agent/Robot Systems, Machine Learning\",\"Automated Debugging, Debugging Tools, Concurrency & Parallelism, Program Analysis & Transformation\",\"Bioinformatics, Evolutionary Computation, Computational Intelligence, Visualization\",\"Combinatorial Optimization And Approximation Algorithms\",\"Computational Biology\",\"Computational Biology And Machine Learning\",\"Computational Color Vision\"],\"index\":[0,1,2,3,4,5,6,7,8,9],\"pct\":{\"__ndarray__\":\"T+zETuzELkDZiZ3YiZ0IQNmJndiJnQhA2Ymd2Imd+D/ZiZ3YiZ34P9mJndiJnfg/2Ymd2Imd+D/ZiZ3YiZ34P9mJndiJnfg/2Ymd2Imd+D8=\",\"dtype\":\"float64\",\"shape\":[10]}},\"selected\":{\"id\":\"1174\",\"type\":\"Selection\"},\"selection_policy\":{\"id\":\"1175\",\"type\":\"UnionRenderers\"}},\"id\":\"1086\",\"type\":\"ColumnDataSource\"},{\"attributes\":{\"source\":{\"id\":\"1086\",\"type\":\"ColumnDataSource\"}},\"id\":\"1091\",\"type\":\"CDSView\"},{\"attributes\":{},\"id\":\"1171\",\"type\":\"BasicTickFormatter\"},{\"attributes\":{},\"id\":\"1137\",\"type\":\"CategoricalTicker\"},{\"attributes\":{\"bottom\":{\"value\":0.01},\"fill_color\":{\"value\":\"#1f77b4\"},\"line_color\":{\"value\":\"#1f77b4\"},\"top\":{\"field\":\"cnt\"},\"width\":{\"value\":0.9},\"x\":{\"field\":\"col\"}},\"id\":\"1088\",\"type\":\"VBar\"},{\"attributes\":{\"text\":\"profile\",\"text_font_size\":{\"value\":\"10pt\"}},\"id\":\"1095\",\"type\":\"Title\"},{\"attributes\":{\"source\":{\"id\":\"1055\",\"type\":\"ColumnDataSource\"}},\"id\":\"1060\",\"type\":\"CDSView\"},{\"attributes\":{\"dimension\":1,\"grid_line_color\":null,\"ticker\":{\"id\":\"1141\",\"type\":\"BasicTicker\"}},\"id\":\"1144\",\"type\":\"Grid\"},{\"attributes\":{},\"id\":\"1178\",\"type\":\"BasicTickFormatter\"},{\"attributes\":{},\"id\":\"1168\",\"type\":\"UnionRenderers\"}],\"root_ids\":[\"1191\"]},\"title\":\"Bokeh Application\",\"version\":\"1.4.0\"}};\n",
       "  var render_items = [{\"docid\":\"dd078eab-50ef-46a9-bb11-2abea8c961df\",\"roots\":{\"1191\":\"955da386-93e0-4c5a-be44-e5b0d09d679e\"}}];\n",
       "  root.Bokeh.embed.embed_items_notebook(docs_json, render_items);\n",
       "\n",
       "  }\n",
       "  if (root.Bokeh !== undefined) {\n",
       "    embed_document(root);\n",
       "  } else {\n",
       "    var attempts = 0;\n",
       "    var timer = setInterval(function(root) {\n",
       "      if (root.Bokeh !== undefined) {\n",
       "        clearInterval(timer);\n",
       "        embed_document(root);\n",
       "      } else {\n",
       "        attempts++;\n",
       "        if (attempts > 100) {\n",
       "          clearInterval(timer);\n",
       "          console.log(\"Bokeh: ERROR: Unable to run BokehJS code because BokehJS library is missing\");\n",
       "        }\n",
       "      }\n",
       "    }, 10, root)\n",
       "  }\n",
       "})(window);"
      ],
      "application/vnd.bokehjs_exec.v0+json": ""
     },
     "metadata": {
      "application/vnd.bokehjs_exec.v0+json": {
       "id": "1191"
      }
     },
     "output_type": "display_data"
    },
    {
     "data": {
      "text/html": [
       "<div style=\"display: table;\"><div style=\"display: table-row;\"><div style=\"display: table-cell;\"><b title=\"bokeh.models.layouts.GridBox\">GridBox</b>(</div><div style=\"display: table-cell;\">id&nbsp;=&nbsp;'1191', <span id=\"1403\" style=\"cursor: pointer;\">&hellip;)</span></div></div><div class=\"1402\" style=\"display: none;\"><div style=\"display: table-cell;\"></div><div style=\"display: table-cell;\">align&nbsp;=&nbsp;'start',</div></div><div class=\"1402\" style=\"display: none;\"><div style=\"display: table-cell;\"></div><div style=\"display: table-cell;\">aspect_ratio&nbsp;=&nbsp;None,</div></div><div class=\"1402\" style=\"display: none;\"><div style=\"display: table-cell;\"></div><div style=\"display: table-cell;\">background&nbsp;=&nbsp;None,</div></div><div class=\"1402\" style=\"display: none;\"><div style=\"display: table-cell;\"></div><div style=\"display: table-cell;\">children&nbsp;=&nbsp;[(Figure(id='1001', ...), 0, 0), (Figure(id='1032', ...), 0, 1), (Figure(id='1063', ...), 0, 2), (Figure(id='1094', ...), 1, 0), (Figure(id='1125', ...), 1, 1)],</div></div><div class=\"1402\" style=\"display: none;\"><div style=\"display: table-cell;\"></div><div style=\"display: table-cell;\">cols&nbsp;=&nbsp;'auto',</div></div><div class=\"1402\" style=\"display: none;\"><div style=\"display: table-cell;\"></div><div style=\"display: table-cell;\">css_classes&nbsp;=&nbsp;[],</div></div><div class=\"1402\" style=\"display: none;\"><div style=\"display: table-cell;\"></div><div style=\"display: table-cell;\">disabled&nbsp;=&nbsp;False,</div></div><div class=\"1402\" style=\"display: none;\"><div style=\"display: table-cell;\"></div><div style=\"display: table-cell;\">height&nbsp;=&nbsp;None,</div></div><div class=\"1402\" style=\"display: none;\"><div style=\"display: table-cell;\"></div><div style=\"display: table-cell;\">height_policy&nbsp;=&nbsp;'auto',</div></div><div class=\"1402\" style=\"display: none;\"><div style=\"display: table-cell;\"></div><div style=\"display: table-cell;\">js_event_callbacks&nbsp;=&nbsp;{},</div></div><div class=\"1402\" style=\"display: none;\"><div style=\"display: table-cell;\"></div><div style=\"display: table-cell;\">js_property_callbacks&nbsp;=&nbsp;{},</div></div><div class=\"1402\" style=\"display: none;\"><div style=\"display: table-cell;\"></div><div style=\"display: table-cell;\">margin&nbsp;=&nbsp;(0, 0, 0, 0),</div></div><div class=\"1402\" style=\"display: none;\"><div style=\"display: table-cell;\"></div><div style=\"display: table-cell;\">max_height&nbsp;=&nbsp;None,</div></div><div class=\"1402\" style=\"display: none;\"><div style=\"display: table-cell;\"></div><div style=\"display: table-cell;\">max_width&nbsp;=&nbsp;None,</div></div><div class=\"1402\" style=\"display: none;\"><div style=\"display: table-cell;\"></div><div style=\"display: table-cell;\">min_height&nbsp;=&nbsp;None,</div></div><div class=\"1402\" style=\"display: none;\"><div style=\"display: table-cell;\"></div><div style=\"display: table-cell;\">min_width&nbsp;=&nbsp;None,</div></div><div class=\"1402\" style=\"display: none;\"><div style=\"display: table-cell;\"></div><div style=\"display: table-cell;\">name&nbsp;=&nbsp;None,</div></div><div class=\"1402\" style=\"display: none;\"><div style=\"display: table-cell;\"></div><div style=\"display: table-cell;\">rows&nbsp;=&nbsp;'auto',</div></div><div class=\"1402\" style=\"display: none;\"><div style=\"display: table-cell;\"></div><div style=\"display: table-cell;\">sizing_mode&nbsp;=&nbsp;None,</div></div><div class=\"1402\" style=\"display: none;\"><div style=\"display: table-cell;\"></div><div style=\"display: table-cell;\">spacing&nbsp;=&nbsp;0,</div></div><div class=\"1402\" style=\"display: none;\"><div style=\"display: table-cell;\"></div><div style=\"display: table-cell;\">subscribed_events&nbsp;=&nbsp;[],</div></div><div class=\"1402\" style=\"display: none;\"><div style=\"display: table-cell;\"></div><div style=\"display: table-cell;\">tags&nbsp;=&nbsp;[],</div></div><div class=\"1402\" style=\"display: none;\"><div style=\"display: table-cell;\"></div><div style=\"display: table-cell;\">visible&nbsp;=&nbsp;True,</div></div><div class=\"1402\" style=\"display: none;\"><div style=\"display: table-cell;\"></div><div style=\"display: table-cell;\">width&nbsp;=&nbsp;None,</div></div><div class=\"1402\" style=\"display: none;\"><div style=\"display: table-cell;\"></div><div style=\"display: table-cell;\">width_policy&nbsp;=&nbsp;'auto')</div></div></div>\n",
       "<script>\n",
       "(function() {\n",
       "  var expanded = false;\n",
       "  var ellipsis = document.getElementById(\"1403\");\n",
       "  ellipsis.addEventListener(\"click\", function() {\n",
       "    var rows = document.getElementsByClassName(\"1402\");\n",
       "    for (var i = 0; i < rows.length; i++) {\n",
       "      var el = rows[i];\n",
       "      el.style.display = expanded ? \"none\" : \"table-row\";\n",
       "    }\n",
       "    ellipsis.innerHTML = expanded ? \"&hellip;)\" : \"&lsaquo;&lsaquo;&lsaquo;\";\n",
       "    expanded = !expanded;\n",
       "  });\n",
       "})();\n",
       "</script>\n"
      ],
      "text/plain": [
       "GridBox(id='1191', ...)"
      ]
     },
     "execution_count": 3,
     "metadata": {},
     "output_type": "execute_result"
    }
   ],
   "source": [
    "from dataprep.eda import plot\n",
    "import pandas as pd\n",
    "\n",
    "df = pd.read_csv(\"faculty_table.csv\")\n",
    "\n",
    "plot(df)"
   ]
  },
  {
   "cell_type": "markdown",
   "metadata": {},
   "source": [
    "Below are some examples:\n",
    "\n",
    "**Finding 1:** Professor# (29) is more than 3x larger than Associate Professor# (9). \n",
    "\n",
    "**Questions:** Why did it happen? Is it common in all CS schools in Canada? Will the gap go larger or smaller in five years? What actions can be taken to enlarge/shrink the gap?\n",
    "\n",
    "\n",
    "**Finding 2:** Homepage has 20.3% missing values. \n",
    "\n",
    "**Questions:** Why are there so many missing values? Is it because many faculty do not have their own homepages or do not add their homepages to the school page? What actions can be taken to avoid this to happen in the future? "
   ]
  },
  {
   "cell_type": "markdown",
   "metadata": {},
   "source": [
    "## Task 2: Age Follows Normal Distribution?"
   ]
  },
  {
   "cell_type": "markdown",
   "metadata": {},
   "source": [
    "In this task, you start with a question and then figure out what data to collect.\n",
    "\n",
    "The question that you are intersted in is `Does SFU CS faculty age follow a normal distribution?`\n",
    "\n",
    "To estimate the age of a faculty member, you can collect the year in which s/he graduates from a university (`gradyear`) and then estimate `age` using the following equation:\n",
    "\n",
    "$$age \\approx 2020+23 - gradyear$$\n",
    "\n",
    "For example, if one graduates from a university in 1990, then the age is estimated as 2020+23-1990 = 53. \n",
    "\n"
   ]
  },
  {
   "cell_type": "markdown",
   "metadata": {},
   "source": [
    "### (a) Crawl Web Page"
   ]
  },
  {
   "cell_type": "markdown",
   "metadata": {},
   "source": [
    "You notice that faculty profile pages contain graduation information. For example, you can see that Dr. Jiannan Wang graduated from Harbin Institute of Technology in 2008 at [http://www.sfu.ca/computing/people/faculty/jiannanwang.html](http://www.sfu.ca/computing/people/faculty/jiannanwang.html). \n",
    "\n",
    "\n",
    "Please write code to download the 64 profile pages and save each page as a text file. "
   ]
  },
  {
   "cell_type": "code",
   "execution_count": 4,
   "metadata": {},
   "outputs": [
    {
     "name": "stdout",
     "output_type": "stream",
     "text": [
      "64 faculty pages saved successfully.\n",
      "faculty pages saved successfully.\n"
     ]
    }
   ],
   "source": [
    "from requests import get \n",
    "from time import sleep\n",
    "from random import randint\n",
    "from IPython.display import clear_output\n",
    "\n",
    "# read generated faculty data\n",
    "df_faculty = pd.read_csv('faculty_table.csv')\n",
    "\n",
    "\n",
    "# function to save file\n",
    "def write_to_file(response_text, file_name):\n",
    "    output_file = open(file_name, 'w')\n",
    "    output_file.write(response_text)\n",
    "\n",
    "    \n",
    "# iterate through faculties\n",
    "for index, faculty in df_faculty.iterrows():\n",
    "    \n",
    "    # check if faculty has profile link\n",
    "    if (not pd.isnull(faculty['profile'])):\n",
    "        \n",
    "        # get profile page\n",
    "        url = faculty['profile']\n",
    "        response = get(url)\n",
    "\n",
    "        # write to output\n",
    "        write_to_file(response.text, faculty['profile'][43:])\n",
    "        \n",
    "        clear_output()\n",
    "        print('%i faculty pages saved successfully.' % (index + 1))\n",
    "        \n",
    "        # sleep for some seconds until next request\n",
    "        sleep(randint(1, 4))\n",
    "        \n",
    "print('faculty pages saved successfully.')"
   ]
  },
  {
   "cell_type": "markdown",
   "metadata": {},
   "source": [
    "### (b) Extract Structured Data"
   ]
  },
  {
   "cell_type": "markdown",
   "metadata": {},
   "source": [
    "Please write code to extract the earliest graduation year (e.g., 2008 for Dr. Jiannan Wang) from each profile page, and create a csv file like [faculty_grad_year.csv](./faculty_grad_year.csv). "
   ]
  },
  {
   "cell_type": "code",
   "execution_count": 5,
   "metadata": {},
   "outputs": [
    {
     "name": "stdout",
     "output_type": "stream",
     "text": [
      "data saved to faculty_grad_year.csv\n"
     ]
    }
   ],
   "source": [
    "from time import sleep\n",
    "from random import randint \n",
    "from bs4 import BeautifulSoup\n",
    "from requests import get \n",
    "import pandas as pd \n",
    "\n",
    "\n",
    "# read generated faculty data\n",
    "df_faculty = pd.read_csv('faculty_table.csv')\n",
    "\n",
    "\n",
    "# this function finds the first graduation year from <li> tags\n",
    "def get_min_gradyear_from_li(educations_list):\n",
    "    grad_year_min = 9999\n",
    "    \n",
    "    # iterate through all graduations of prof. in <li> \n",
    "    for education in educations_list:\n",
    "        \n",
    "        # split parts using ','\n",
    "        split_education = education.text.split(',')\n",
    "        \n",
    "        # get last part after split which is graduation year\n",
    "        grad_year = split_education[len(split_education) - 1].strip()\n",
    "        \n",
    "        # get last 4 digits which is year\n",
    "        grad_year = grad_year[len(grad_year) - 4:]\n",
    "        \n",
    "        # check if it's for sure only digits\n",
    "        if (grad_year.isdigit()):\n",
    "            grad_year = int(grad_year)\n",
    "            \n",
    "            # check for minimum graduation date\n",
    "            if grad_year < grad_year_min:\n",
    "                grad_year_min = grad_year\n",
    "\n",
    "    # return value\n",
    "    return grad_year_min\n",
    "\n",
    "\n",
    "# this function finds the first graduation year from <p> tag\n",
    "def get_min_gradyear_from_p(educations_paragraph):\n",
    "    grad_year_min = 9999\n",
    "    \n",
    "    # split input paragraph by line breaks '\\n'\n",
    "    educations_list = educations_paragraph.text.lower().split('\\n')\n",
    "    \n",
    "    # iterate through graduations\n",
    "    for education in educations_list:\n",
    "        \n",
    "        # check if data is not empty\n",
    "        if (education != ''):\n",
    "            \n",
    "            # remove . from data [some cases]\n",
    "            education = education.replace('.', '')\n",
    "            \n",
    "            # split using ','\n",
    "            split_education = education.split(',')\n",
    "            \n",
    "            # last part after split is graduation year\n",
    "            grad_year = split_education[len(split_education) - 1].strip()\n",
    "            \n",
    "            # get last 4 digits which is year\n",
    "            grad_year = grad_year[len(grad_year) - 4:]\n",
    "            \n",
    "            # make sure its only digits\n",
    "            if (grad_year.isdigit()):\n",
    "                grad_year = int(grad_year)\n",
    "                \n",
    "                # find the minimum value\n",
    "                if grad_year < grad_year_min:\n",
    "                    grad_year_min = grad_year\n",
    "\n",
    "    # return value\n",
    "    return grad_year_min\n",
    "\n",
    "\n",
    "# arrays of data to generate\n",
    "faculty_names = []\n",
    "faculty_gradyears = []\n",
    "\n",
    "\n",
    "# iterate through faculties\n",
    "for index, row in df_faculty.iterrows():\n",
    "    \n",
    "    # add faculty name to array\n",
    "    faculty_names.append(row['name'])\n",
    "    \n",
    "    # set min grad year\n",
    "    grad_year_min = 9999\n",
    "    \n",
    "    # if faculty has profile page then start process\n",
    "    if (not pd.isnull(row.profile)):\n",
    "        \n",
    "        # open saved file\n",
    "        file_name = row['profile'][43:]\n",
    "        file = open(file_name, 'r')\n",
    "        file_content = file.read()\n",
    "\n",
    "        # parse html\n",
    "        html_soup = BeautifulSoup(file_content, 'html.parser')\n",
    "\n",
    "        # read all div s\n",
    "        sections = html_soup.find_all('div', 'text parbase section')\n",
    "        \n",
    "        # iterate through all divs\n",
    "        for section in sections:\n",
    "\n",
    "            # read <h2>\n",
    "            headers = section.find_all('h2')\n",
    "\n",
    "            # iterate through h2 to find Education title\n",
    "            for header in headers:\n",
    "\n",
    "                # if 'Education' found\n",
    "                if (header.text.strip().title() == 'Education'):\n",
    "\n",
    "                    # get parent element\n",
    "                    parent = section.h2.parent\n",
    "\n",
    "                    # find if there's any <li> tag [some eduation are <li> some are <p>]\n",
    "                    educations = parent.find_all('li')\n",
    "\n",
    "                    # if there's any <li>\n",
    "                    if (len(educations) > 0):\n",
    "                        grad_year_min = get_min_gradyear_from_li(educations)\n",
    "                    else: # otherwise, data is in a paragraph <p>\n",
    "                        grad_year_min = get_min_gradyear_from_p(parent.p)\n",
    "    \n",
    "    # add grad year to array\n",
    "    faculty_gradyears.append(grad_year_min)\n",
    "    \n",
    "\n",
    "# create pandas data frame\n",
    "df_gradyear = pd.DataFrame({'name': faculty_names, \n",
    "                            'gradyear': faculty_gradyears\n",
    "                           })\n",
    "\n",
    "# change 9999 to '' \n",
    "df_gradyear['gradyear'] = df_gradyear['gradyear'].apply(lambda year: year if year != 9999 else '')\n",
    "\n",
    "# save dataframe to output\n",
    "df_gradyear.to_csv('faculty_grad_year.csv')\n",
    "\n",
    "# print job completed\n",
    "print('data saved to faculty_grad_year.csv')"
   ]
  },
  {
   "cell_type": "markdown",
   "metadata": {},
   "source": [
    "### (c) Interesting Finding"
   ]
  },
  {
   "cell_type": "markdown",
   "metadata": {},
   "source": [
    "Similar to Task 1(c), you don't need to do anything here. Just look at different visualizations w.r.t. age and give yourself an answer to the question: `Does SFU CS faculty age follow a normal distribution?`"
   ]
  },
  {
   "cell_type": "code",
   "execution_count": 6,
   "metadata": {
    "scrolled": true
   },
   "outputs": [
    {
     "data": {
      "text/html": [
       "\n",
       "\n",
       "\n",
       "\n",
       "\n",
       "\n",
       "  <div class=\"bk-root\" id=\"2eded0a3-0756-4b35-8cdb-939dbf3233e8\" data-root-id=\"1574\"></div>\n"
      ]
     },
     "metadata": {},
     "output_type": "display_data"
    },
    {
     "data": {
      "application/javascript": [
       "(function(root) {\n",
       "  function embed_document(root) {\n",
       "    \n",
       "  var docs_json = {\"84c4d9bf-af7f-46ba-b9f3-7e710617e38e\":{\"roots\":{\"references\":[{\"attributes\":{\"callback\":null,\"tabs\":[{\"id\":\"1436\",\"type\":\"Panel\"},{\"id\":\"1476\",\"type\":\"Panel\"},{\"id\":\"1511\",\"type\":\"Panel\"},{\"id\":\"1573\",\"type\":\"Panel\"}]},\"id\":\"1574\",\"type\":\"Tabs\"},{\"attributes\":{},\"id\":\"1622\",\"type\":\"Selection\"},{\"attributes\":{\"active_drag\":\"auto\",\"active_inspect\":\"auto\",\"active_multi\":null,\"active_scroll\":\"auto\",\"active_tap\":\"auto\",\"tools\":[{\"id\":\"1498\",\"type\":\"HoverTool\"}]},\"id\":\"1499\",\"type\":\"Toolbar\"},{\"attributes\":{\"x0\":{\"field\":\"x0\"},\"x1\":{\"field\":\"x1\"},\"y0\":{\"field\":\"uw\"},\"y1\":{\"field\":\"uw\"}},\"id\":\"1565\",\"type\":\"Segment\"},{\"attributes\":{\"fill_color\":{\"value\":\"#1f77b4\"},\"line_color\":{\"value\":\"#1f77b4\"},\"size\":{\"units\":\"screen\",\"value\":3},\"x\":{\"field\":\"x\"},\"y\":{\"field\":\"y\"}},\"id\":\"1502\",\"type\":\"Circle\"},{\"attributes\":{\"callback\":null},\"id\":\"1407\",\"type\":\"DataRange1d\"},{\"attributes\":{\"line_alpha\":{\"value\":0.1},\"line_color\":{\"value\":\"#1f77b4\"},\"x0\":{\"field\":\"x0\"},\"x1\":{\"field\":\"x1\"},\"y0\":{\"field\":\"uw\"},\"y1\":{\"field\":\"uw\"}},\"id\":\"1566\",\"type\":\"Segment\"},{\"attributes\":{\"formatter\":{\"id\":\"1611\",\"type\":\"BasicTickFormatter\"},\"major_label_orientation\":1.0471975511965976,\"major_label_text_font_size\":{\"value\":\"9pt\"},\"minor_tick_line_color\":{\"value\":null},\"ticker\":{\"id\":\"1434\",\"type\":\"FixedTicker\"}},\"id\":\"1415\",\"type\":\"LinearAxis\"},{\"attributes\":{\"fill_alpha\":{\"value\":0.1},\"fill_color\":{\"value\":\"#1f77b4\"},\"line_alpha\":{\"value\":0.1},\"line_color\":{\"value\":\"#1f77b4\"},\"size\":{\"units\":\"screen\",\"value\":3},\"x\":{\"field\":\"x\"},\"y\":{\"field\":\"y\"}},\"id\":\"1503\",\"type\":\"Circle\"},{\"attributes\":{\"below\":[{\"id\":\"1448\",\"type\":\"LinearAxis\"}],\"center\":[{\"id\":\"1452\",\"type\":\"Grid\"},{\"id\":\"1457\",\"type\":\"Grid\"}],\"left\":[{\"id\":\"1453\",\"type\":\"LinearAxis\"}],\"plot_height\":400,\"plot_width\":450,\"renderers\":[{\"id\":\"1463\",\"type\":\"GlyphRenderer\"},{\"id\":\"1469\",\"type\":\"GlyphRenderer\"}],\"title\":{\"id\":\"1438\",\"type\":\"Title\"},\"toolbar\":{\"id\":\"1458\",\"type\":\"Toolbar\"},\"toolbar_location\":null,\"x_range\":{\"id\":\"1440\",\"type\":\"DataRange1d\"},\"x_scale\":{\"id\":\"1444\",\"type\":\"LinearScale\"},\"y_range\":{\"id\":\"1442\",\"type\":\"DataRange1d\"},\"y_scale\":{\"id\":\"1446\",\"type\":\"LinearScale\"}},\"id\":\"1437\",\"subtype\":\"Figure\",\"type\":\"Plot\"},{\"attributes\":{\"data_source\":{\"id\":\"1563\",\"type\":\"ColumnDataSource\"},\"glyph\":{\"id\":\"1565\",\"type\":\"Segment\"},\"hover_glyph\":null,\"muted_glyph\":null,\"nonselection_glyph\":{\"id\":\"1566\",\"type\":\"Segment\"},\"selection_glyph\":null,\"view\":{\"id\":\"1568\",\"type\":\"CDSView\"}},\"id\":\"1567\",\"type\":\"GlyphRenderer\"},{\"attributes\":{\"data_source\":{\"id\":\"1501\",\"type\":\"ColumnDataSource\"},\"glyph\":{\"id\":\"1502\",\"type\":\"Circle\"},\"hover_glyph\":null,\"muted_glyph\":null,\"nonselection_glyph\":{\"id\":\"1503\",\"type\":\"Circle\"},\"selection_glyph\":null,\"view\":{\"id\":\"1505\",\"type\":\"CDSView\"}},\"id\":\"1504\",\"type\":\"GlyphRenderer\"},{\"attributes\":{\"text\":\"age\",\"text_font_size\":{\"value\":\"10pt\"}},\"id\":\"1513\",\"type\":\"Title\"},{\"attributes\":{\"line_alpha\":0.1,\"line_color\":\"#1f77b4\",\"x\":{\"field\":\"x\"},\"y\":{\"field\":\"y\"}},\"id\":\"1508\",\"type\":\"Line\"},{\"attributes\":{\"source\":{\"id\":\"1563\",\"type\":\"ColumnDataSource\"}},\"id\":\"1568\",\"type\":\"CDSView\"},{\"attributes\":{\"callback\":null},\"id\":\"1409\",\"type\":\"DataRange1d\"},{\"attributes\":{\"source\":{\"id\":\"1501\",\"type\":\"ColumnDataSource\"}},\"id\":\"1505\",\"type\":\"CDSView\"},{\"attributes\":{\"callback\":null,\"point_policy\":\"follow_mouse\",\"renderers\":[{\"id\":\"1567\",\"type\":\"GlyphRenderer\"},{\"id\":\"1537\",\"type\":\"GlyphRenderer\"},{\"id\":\"1549\",\"type\":\"GlyphRenderer\"},{\"id\":\"1555\",\"type\":\"GlyphRenderer\"},{\"id\":\"1543\",\"type\":\"GlyphRenderer\"},{\"id\":\"1561\",\"type\":\"GlyphRenderer\"}],\"tooltips\":[[\"Upper Whisker\",\"@uw\"],[\"Upper Quartile\",\"@q3\"],[\"Median\",\"@q2\"],[\"Lower Quartile\",\"@q1\"],[\"Lower Whisker\",\"@lw\"]]},\"id\":\"1569\",\"type\":\"HoverTool\"},{\"attributes\":{},\"id\":\"1619\",\"type\":\"BasicTickFormatter\"},{\"attributes\":{\"code\":\"\\n            if (tick.length > 15) return tick.substring(0, 15-2) + '...';\\n            else return tick;\\n        \"},\"id\":\"1571\",\"type\":\"FuncTickFormatter\"},{\"attributes\":{\"child\":{\"id\":\"1512\",\"subtype\":\"Figure\",\"type\":\"Plot\"},\"title\":\"box plot\"},\"id\":\"1573\",\"type\":\"Panel\"},{\"attributes\":{},\"id\":\"1617\",\"type\":\"BasicTickFormatter\"},{\"attributes\":{\"child\":{\"id\":\"1404\",\"subtype\":\"Figure\",\"type\":\"Plot\"},\"title\":\"histogram\"},\"id\":\"1436\",\"type\":\"Panel\"},{\"attributes\":{\"x0\":{\"field\":\"grp\"},\"x1\":{\"field\":\"grp\"},\"y0\":{\"field\":\"uw\"},\"y1\":{\"field\":\"q3\"}},\"id\":\"1535\",\"type\":\"Segment\"},{\"attributes\":{},\"id\":\"1615\",\"type\":\"BasicTickFormatter\"},{\"attributes\":{\"callback\":null,\"data\":{\"grp\":[\"age\"],\"index\":[0],\"lw\":[26.0],\"otlrs\":[[]],\"q1\":[38.25],\"q2\":[48.5],\"q3\":[58.5],\"uw\":[75.0],\"x\":[1],\"x0\":[0.19999999999999996],\"x1\":[0.8]},\"selected\":{\"id\":\"1634\",\"type\":\"Selection\"},\"selection_policy\":{\"id\":\"1635\",\"type\":\"UnionRenderers\"}},\"id\":\"1539\",\"type\":\"ColumnDataSource\"},{\"attributes\":{},\"id\":\"1609\",\"type\":\"BasicTickFormatter\"},{\"attributes\":{\"child\":{\"id\":\"1477\",\"subtype\":\"Figure\",\"type\":\"Plot\"},\"title\":\"QQ normal plot\"},\"id\":\"1511\",\"type\":\"Panel\"},{\"attributes\":{},\"id\":\"1413\",\"type\":\"LinearScale\"},{\"attributes\":{\"source\":{\"id\":\"1533\",\"type\":\"ColumnDataSource\"}},\"id\":\"1538\",\"type\":\"CDSView\"},{\"attributes\":{},\"id\":\"1611\",\"type\":\"BasicTickFormatter\"},{\"attributes\":{\"dimension\":1,\"grid_line_color\":null,\"ticker\":{\"id\":\"1421\",\"type\":\"BasicTicker\"}},\"id\":\"1424\",\"type\":\"Grid\"},{\"attributes\":{\"data_source\":{\"id\":\"1533\",\"type\":\"ColumnDataSource\"},\"glyph\":{\"id\":\"1535\",\"type\":\"Segment\"},\"hover_glyph\":null,\"muted_glyph\":null,\"nonselection_glyph\":{\"id\":\"1536\",\"type\":\"Segment\"},\"selection_glyph\":null,\"view\":{\"id\":\"1538\",\"type\":\"CDSView\"}},\"id\":\"1537\",\"type\":\"GlyphRenderer\"},{\"attributes\":{},\"id\":\"1623\",\"type\":\"UnionRenderers\"},{\"attributes\":{\"line_alpha\":{\"value\":0.1},\"line_color\":{\"value\":\"#1f77b4\"},\"x0\":{\"field\":\"grp\"},\"x1\":{\"field\":\"grp\"},\"y0\":{\"field\":\"uw\"},\"y1\":{\"field\":\"q3\"}},\"id\":\"1536\",\"type\":\"Segment\"},{\"attributes\":{\"callback\":null,\"data\":{\"freq\":[5,7,5,8,9,9,7,6,3,3],\"index\":[0,1,2,3,4,5,6,7,8,9],\"intervals\":[\"[26.0,30.9)\",\"[30.9,35.8)\",\"[35.8,40.7)\",\"[40.7,45.6)\",\"[45.6,50.5)\",\"[50.5,55.4)\",\"[55.4,60.3)\",\"[60.3,65.2)\",\"[65.2,70.1)\",\"[70.1,75.0]\"],\"left\":{\"__ndarray__\":\"AAAAAAAAOkBmZmZmZuY+QGZmZmZm5kFAmpmZmZlZREDNzMzMzMxGQAAAAAAAQElANDMzMzOzS0BnZmZmZiZOQM3MzMzMTFBAZmZmZmaGUUA=\",\"dtype\":\"float64\",\"shape\":[10]},\"pct\":{\"__ndarray__\":\"T+zETuzEHkCe2Imd2IklQE/sxE7sxB5A2Ymd2ImdKEAUO7ETO7ErQBQ7sRM7sStAntiJndiJJUBjJ3ZiJ3YiQGMndmIndhJAYyd2Yid2EkA=\",\"dtype\":\"float64\",\"shape\":[10]},\"right\":{\"__ndarray__\":\"ZmZmZmbmPkBmZmZmZuZBQJqZmZmZWURAzczMzMzMRkAAAAAAAEBJQDQzMzMzs0tAZ2ZmZmYmTkDNzMzMzExQQGZmZmZmhlFAAAAAAADAUkA=\",\"dtype\":\"float64\",\"shape\":[10]}},\"selected\":{\"id\":\"1622\",\"type\":\"Selection\"},\"selection_policy\":{\"id\":\"1623\",\"type\":\"UnionRenderers\"}},\"id\":\"1426\",\"type\":\"ColumnDataSource\"},{\"attributes\":{},\"id\":\"1624\",\"type\":\"Selection\"},{\"attributes\":{\"bottom\":{\"value\":0.01},\"fill_alpha\":{\"value\":0.5},\"fill_color\":{\"value\":\"#6baed6\"},\"left\":{\"field\":\"left\"},\"line_alpha\":{\"value\":0.5},\"line_color\":{\"value\":\"#1f77b4\"},\"right\":{\"field\":\"right\"},\"top\":{\"field\":\"freq\"}},\"id\":\"1428\",\"type\":\"Quad\"},{\"attributes\":{\"x0\":{\"field\":\"grp\"},\"x1\":{\"field\":\"grp\"},\"y0\":{\"field\":\"lw\"},\"y1\":{\"field\":\"q1\"}},\"id\":\"1541\",\"type\":\"Segment\"},{\"attributes\":{},\"id\":\"1625\",\"type\":\"UnionRenderers\"},{\"attributes\":{},\"id\":\"1411\",\"type\":\"LinearScale\"},{\"attributes\":{\"axis_label\":\"Frequency\",\"formatter\":{\"id\":\"1609\",\"type\":\"BasicTickFormatter\"},\"major_label_text_font_size\":{\"value\":\"9pt\"},\"minor_tick_line_color\":{\"value\":null},\"ticker\":{\"id\":\"1421\",\"type\":\"BasicTicker\"}},\"id\":\"1420\",\"type\":\"LinearAxis\"},{\"attributes\":{},\"id\":\"1614\",\"type\":\"BasicTickFormatter\"},{\"attributes\":{\"callback\":null,\"data\":{\"grp\":[\"age\"],\"index\":[0],\"lw\":[26.0],\"otlrs\":[[]],\"q1\":[38.25],\"q2\":[48.5],\"q3\":[58.5],\"uw\":[75.0],\"x\":[1],\"x0\":[0.19999999999999996],\"x1\":[0.8]},\"selected\":{\"id\":\"1636\",\"type\":\"Selection\"},\"selection_policy\":{\"id\":\"1637\",\"type\":\"UnionRenderers\"}},\"id\":\"1545\",\"type\":\"ColumnDataSource\"},{\"attributes\":{},\"id\":\"1626\",\"type\":\"Selection\"},{\"attributes\":{\"dimension\":1,\"grid_line_color\":null,\"ticker\":{\"id\":\"1528\",\"type\":\"BasicTicker\"}},\"id\":\"1531\",\"type\":\"Grid\"},{\"attributes\":{},\"id\":\"1627\",\"type\":\"UnionRenderers\"},{\"attributes\":{\"source\":{\"id\":\"1539\",\"type\":\"ColumnDataSource\"}},\"id\":\"1544\",\"type\":\"CDSView\"},{\"attributes\":{},\"id\":\"1628\",\"type\":\"Selection\"},{\"attributes\":{\"bottom\":{\"value\":0.01},\"fill_alpha\":{\"value\":0.1},\"fill_color\":{\"value\":\"#1f77b4\"},\"left\":{\"field\":\"left\"},\"line_alpha\":{\"value\":0.1},\"line_color\":{\"value\":\"#1f77b4\"},\"right\":{\"field\":\"right\"},\"top\":{\"field\":\"freq\"}},\"id\":\"1429\",\"type\":\"Quad\"},{\"attributes\":{\"data_source\":{\"id\":\"1539\",\"type\":\"ColumnDataSource\"},\"glyph\":{\"id\":\"1541\",\"type\":\"Segment\"},\"hover_glyph\":null,\"muted_glyph\":null,\"nonselection_glyph\":{\"id\":\"1542\",\"type\":\"Segment\"},\"selection_glyph\":null,\"view\":{\"id\":\"1544\",\"type\":\"CDSView\"}},\"id\":\"1543\",\"type\":\"GlyphRenderer\"},{\"attributes\":{},\"id\":\"1629\",\"type\":\"UnionRenderers\"},{\"attributes\":{\"line_alpha\":{\"value\":0.1},\"line_color\":{\"value\":\"#1f77b4\"},\"x0\":{\"field\":\"grp\"},\"x1\":{\"field\":\"grp\"},\"y0\":{\"field\":\"lw\"},\"y1\":{\"field\":\"q1\"}},\"id\":\"1542\",\"type\":\"Segment\"},{\"attributes\":{},\"id\":\"1630\",\"type\":\"Selection\"},{\"attributes\":{},\"id\":\"1421\",\"type\":\"BasicTicker\"},{\"attributes\":{\"bottom\":{\"field\":\"q2\"},\"fill_color\":{\"value\":\"#1f77b4\"},\"top\":{\"field\":\"q3\"},\"width\":{\"value\":0.7},\"x\":{\"field\":\"grp\"}},\"id\":\"1547\",\"type\":\"VBar\"},{\"attributes\":{},\"id\":\"1631\",\"type\":\"UnionRenderers\"},{\"attributes\":{\"grid_line_color\":null,\"ticker\":{\"id\":\"1524\",\"type\":\"CategoricalTicker\"}},\"id\":\"1526\",\"type\":\"Grid\"},{\"attributes\":{},\"id\":\"1612\",\"type\":\"BasicTickFormatter\"},{\"attributes\":{\"grid_line_color\":null,\"ticker\":{\"id\":\"1416\",\"type\":\"BasicTicker\"}},\"id\":\"1419\",\"type\":\"Grid\"},{\"attributes\":{\"line_color\":\"red\",\"x\":{\"field\":\"x\"},\"y\":{\"field\":\"y\"}},\"id\":\"1507\",\"type\":\"Line\"},{\"attributes\":{\"callback\":null,\"data\":{\"grp\":[\"age\"],\"index\":[0],\"lw\":[26.0],\"otlrs\":[[]],\"q1\":[38.25],\"q2\":[48.5],\"q3\":[58.5],\"uw\":[75.0],\"x\":[1],\"x0\":[0.19999999999999996],\"x1\":[0.8]},\"selected\":{\"id\":\"1638\",\"type\":\"Selection\"},\"selection_policy\":{\"id\":\"1639\",\"type\":\"UnionRenderers\"}},\"id\":\"1551\",\"type\":\"ColumnDataSource\"},{\"attributes\":{\"source\":{\"id\":\"1426\",\"type\":\"ColumnDataSource\"}},\"id\":\"1431\",\"type\":\"CDSView\"},{\"attributes\":{},\"id\":\"1632\",\"type\":\"Selection\"},{\"attributes\":{},\"id\":\"1633\",\"type\":\"UnionRenderers\"},{\"attributes\":{\"source\":{\"id\":\"1545\",\"type\":\"ColumnDataSource\"}},\"id\":\"1550\",\"type\":\"CDSView\"},{\"attributes\":{\"text\":\"age (4.6% missing)\",\"text_font_size\":{\"value\":\"10pt\"}},\"id\":\"1405\",\"type\":\"Title\"},{\"attributes\":{},\"id\":\"1634\",\"type\":\"Selection\"},{\"attributes\":{\"data_source\":{\"id\":\"1545\",\"type\":\"ColumnDataSource\"},\"glyph\":{\"id\":\"1547\",\"type\":\"VBar\"},\"hover_glyph\":null,\"muted_glyph\":null,\"nonselection_glyph\":{\"id\":\"1548\",\"type\":\"VBar\"},\"selection_glyph\":null,\"view\":{\"id\":\"1550\",\"type\":\"CDSView\"}},\"id\":\"1549\",\"type\":\"GlyphRenderer\"},{\"attributes\":{\"callback\":null},\"id\":\"1517\",\"type\":\"DataRange1d\"},{\"attributes\":{},\"id\":\"1635\",\"type\":\"UnionRenderers\"},{\"attributes\":{\"bottom\":{\"field\":\"q2\"},\"fill_alpha\":{\"value\":0.1},\"fill_color\":{\"value\":\"#1f77b4\"},\"line_alpha\":{\"value\":0.1},\"line_color\":{\"value\":\"#1f77b4\"},\"top\":{\"field\":\"q3\"},\"width\":{\"value\":0.7},\"x\":{\"field\":\"grp\"}},\"id\":\"1548\",\"type\":\"VBar\"},{\"attributes\":{},\"id\":\"1528\",\"type\":\"BasicTicker\"},{\"attributes\":{},\"id\":\"1636\",\"type\":\"Selection\"},{\"attributes\":{\"callback\":null,\"mode\":\"vline\",\"tooltips\":[[\"Bin\",\"@intervals\"],[\"Frequency\",\"@freq\"],[\"Percent\",\"@pct{0.2f}%\"]]},\"id\":\"1432\",\"type\":\"HoverTool\"},{\"attributes\":{\"source\":{\"id\":\"1506\",\"type\":\"ColumnDataSource\"}},\"id\":\"1510\",\"type\":\"CDSView\"},{\"attributes\":{\"bottom\":{\"field\":\"q1\"},\"fill_color\":{\"value\":\"#1f77b4\"},\"top\":{\"field\":\"q2\"},\"width\":{\"value\":0.7},\"x\":{\"field\":\"grp\"}},\"id\":\"1553\",\"type\":\"VBar\"},{\"attributes\":{},\"id\":\"1637\",\"type\":\"UnionRenderers\"},{\"attributes\":{\"callback\":null,\"data\":{\"grp\":[\"age\"],\"index\":[0],\"lw\":[26.0],\"otlrs\":[[]],\"q1\":[38.25],\"q2\":[48.5],\"q3\":[58.5],\"uw\":[75.0],\"x\":[1],\"x0\":[0.19999999999999996],\"x1\":[0.8]},\"selected\":{\"id\":\"1640\",\"type\":\"Selection\"},\"selection_policy\":{\"id\":\"1641\",\"type\":\"UnionRenderers\"}},\"id\":\"1557\",\"type\":\"ColumnDataSource\"},{\"attributes\":{},\"id\":\"1638\",\"type\":\"Selection\"},{\"attributes\":{\"source\":{\"id\":\"1557\",\"type\":\"ColumnDataSource\"}},\"id\":\"1562\",\"type\":\"CDSView\"},{\"attributes\":{\"data_source\":{\"id\":\"1426\",\"type\":\"ColumnDataSource\"},\"glyph\":{\"id\":\"1428\",\"type\":\"Quad\"},\"hover_glyph\":null,\"muted_glyph\":null,\"nonselection_glyph\":{\"id\":\"1429\",\"type\":\"Quad\"},\"selection_glyph\":null,\"view\":{\"id\":\"1431\",\"type\":\"CDSView\"}},\"id\":\"1430\",\"type\":\"GlyphRenderer\"},{\"attributes\":{},\"id\":\"1639\",\"type\":\"UnionRenderers\"},{\"attributes\":{\"active_drag\":\"auto\",\"active_inspect\":\"auto\",\"active_multi\":null,\"active_scroll\":\"auto\",\"active_tap\":\"auto\",\"tools\":[{\"id\":\"1432\",\"type\":\"HoverTool\"}]},\"id\":\"1425\",\"type\":\"Toolbar\"},{\"attributes\":{},\"id\":\"1416\",\"type\":\"BasicTicker\"},{\"attributes\":{\"source\":{\"id\":\"1551\",\"type\":\"ColumnDataSource\"}},\"id\":\"1556\",\"type\":\"CDSView\"},{\"attributes\":{\"axis_label\":\"age\",\"formatter\":{\"id\":\"1619\",\"type\":\"BasicTickFormatter\"},\"major_label_text_font_size\":{\"value\":\"9pt\"},\"minor_tick_line_color\":{\"value\":null},\"ticker\":{\"id\":\"1528\",\"type\":\"BasicTicker\"}},\"id\":\"1527\",\"type\":\"LinearAxis\"},{\"attributes\":{},\"id\":\"1640\",\"type\":\"Selection\"},{\"attributes\":{\"data_source\":{\"id\":\"1551\",\"type\":\"ColumnDataSource\"},\"glyph\":{\"id\":\"1553\",\"type\":\"VBar\"},\"hover_glyph\":null,\"muted_glyph\":null,\"nonselection_glyph\":{\"id\":\"1554\",\"type\":\"VBar\"},\"selection_glyph\":null,\"view\":{\"id\":\"1556\",\"type\":\"CDSView\"}},\"id\":\"1555\",\"type\":\"GlyphRenderer\"},{\"attributes\":{},\"id\":\"1641\",\"type\":\"UnionRenderers\"},{\"attributes\":{\"bottom\":{\"field\":\"q1\"},\"fill_alpha\":{\"value\":0.1},\"fill_color\":{\"value\":\"#1f77b4\"},\"line_alpha\":{\"value\":0.1},\"line_color\":{\"value\":\"#1f77b4\"},\"top\":{\"field\":\"q2\"},\"width\":{\"value\":0.7},\"x\":{\"field\":\"grp\"}},\"id\":\"1554\",\"type\":\"VBar\"},{\"attributes\":{},\"id\":\"1642\",\"type\":\"Selection\"},{\"attributes\":{\"callback\":null,\"data\":{\"grp\":[\"age\"],\"index\":[0],\"lw\":[26.0],\"otlrs\":[[]],\"q1\":[38.25],\"q2\":[48.5],\"q3\":[58.5],\"uw\":[75.0],\"x\":[1],\"x0\":[0.19999999999999996],\"x1\":[0.8]},\"selected\":{\"id\":\"1632\",\"type\":\"Selection\"},\"selection_policy\":{\"id\":\"1633\",\"type\":\"UnionRenderers\"}},\"id\":\"1533\",\"type\":\"ColumnDataSource\"},{\"attributes\":{\"active_drag\":\"auto\",\"active_inspect\":\"auto\",\"active_multi\":null,\"active_scroll\":\"auto\",\"active_tap\":\"auto\",\"tools\":[{\"id\":\"1569\",\"type\":\"HoverTool\"}]},\"id\":\"1532\",\"type\":\"Toolbar\"},{\"attributes\":{},\"id\":\"1643\",\"type\":\"UnionRenderers\"},{\"attributes\":{},\"id\":\"1521\",\"type\":\"LinearScale\"},{\"attributes\":{\"line_alpha\":0.1,\"line_color\":\"#1f77b4\",\"line_width\":2,\"x\":{\"field\":\"x\"},\"y\":{\"field\":\"y\"}},\"id\":\"1468\",\"type\":\"Line\"},{\"attributes\":{\"callback\":null,\"data\":{\"grp\":[\"age\"],\"index\":[0],\"lw\":[26.0],\"otlrs\":[[]],\"q1\":[38.25],\"q2\":[48.5],\"q3\":[58.5],\"uw\":[75.0],\"x\":[1],\"x0\":[0.19999999999999996],\"x1\":[0.8]},\"selected\":{\"id\":\"1642\",\"type\":\"Selection\"},\"selection_policy\":{\"id\":\"1643\",\"type\":\"UnionRenderers\"}},\"id\":\"1563\",\"type\":\"ColumnDataSource\"},{\"attributes\":{\"below\":[{\"id\":\"1523\",\"type\":\"CategoricalAxis\"}],\"center\":[{\"id\":\"1526\",\"type\":\"Grid\"},{\"id\":\"1531\",\"type\":\"Grid\"}],\"left\":[{\"id\":\"1527\",\"type\":\"LinearAxis\"}],\"plot_height\":400,\"plot_width\":450,\"renderers\":[{\"id\":\"1537\",\"type\":\"GlyphRenderer\"},{\"id\":\"1543\",\"type\":\"GlyphRenderer\"},{\"id\":\"1549\",\"type\":\"GlyphRenderer\"},{\"id\":\"1555\",\"type\":\"GlyphRenderer\"},{\"id\":\"1561\",\"type\":\"GlyphRenderer\"},{\"id\":\"1567\",\"type\":\"GlyphRenderer\"}],\"title\":{\"id\":\"1513\",\"type\":\"Title\"},\"toolbar\":{\"id\":\"1532\",\"type\":\"Toolbar\"},\"toolbar_location\":null,\"x_range\":{\"id\":\"1515\",\"type\":\"FactorRange\"},\"x_scale\":{\"id\":\"1519\",\"type\":\"CategoricalScale\"},\"y_range\":{\"id\":\"1517\",\"type\":\"DataRange1d\"},\"y_scale\":{\"id\":\"1521\",\"type\":\"LinearScale\"}},\"id\":\"1512\",\"subtype\":\"Figure\",\"type\":\"Plot\"},{\"attributes\":{\"axis_label\":null,\"formatter\":{\"id\":\"1571\",\"type\":\"FuncTickFormatter\"},\"major_label_orientation\":1.0471975511965976,\"major_label_text_font_size\":{\"value\":\"0pt\"},\"major_tick_line_color\":{\"value\":null},\"minor_tick_line_color\":{\"value\":null},\"ticker\":{\"id\":\"1524\",\"type\":\"CategoricalTicker\"}},\"id\":\"1523\",\"type\":\"CategoricalAxis\"},{\"attributes\":{\"data_source\":{\"id\":\"1506\",\"type\":\"ColumnDataSource\"},\"glyph\":{\"id\":\"1507\",\"type\":\"Line\"},\"hover_glyph\":null,\"muted_glyph\":null,\"nonselection_glyph\":{\"id\":\"1508\",\"type\":\"Line\"},\"selection_glyph\":null,\"view\":{\"id\":\"1510\",\"type\":\"CDSView\"}},\"id\":\"1509\",\"type\":\"GlyphRenderer\"},{\"attributes\":{},\"id\":\"1519\",\"type\":\"CategoricalScale\"},{\"attributes\":{\"data_source\":{\"id\":\"1557\",\"type\":\"ColumnDataSource\"},\"glyph\":{\"id\":\"1559\",\"type\":\"Segment\"},\"hover_glyph\":null,\"muted_glyph\":null,\"nonselection_glyph\":{\"id\":\"1560\",\"type\":\"Segment\"},\"selection_glyph\":null,\"view\":{\"id\":\"1562\",\"type\":\"CDSView\"}},\"id\":\"1561\",\"type\":\"GlyphRenderer\"},{\"attributes\":{},\"id\":\"1524\",\"type\":\"CategoricalTicker\"},{\"attributes\":{\"line_alpha\":{\"value\":0.1},\"line_color\":{\"value\":\"#1f77b4\"},\"x0\":{\"field\":\"x0\"},\"x1\":{\"field\":\"x1\"},\"y0\":{\"field\":\"lw\"},\"y1\":{\"field\":\"lw\"}},\"id\":\"1560\",\"type\":\"Segment\"},{\"attributes\":{\"callback\":null,\"factors\":[\"age\"]},\"id\":\"1515\",\"type\":\"FactorRange\"},{\"attributes\":{\"x0\":{\"field\":\"x0\"},\"x1\":{\"field\":\"x1\"},\"y0\":{\"field\":\"lw\"},\"y1\":{\"field\":\"lw\"}},\"id\":\"1559\",\"type\":\"Segment\"},{\"attributes\":{\"axis_label\":\"Density\",\"formatter\":{\"id\":\"1612\",\"type\":\"BasicTickFormatter\"},\"major_label_text_font_size\":{\"value\":\"9pt\"},\"minor_tick_line_color\":{\"value\":null},\"ticker\":{\"id\":\"1454\",\"type\":\"BasicTicker\"}},\"id\":\"1453\",\"type\":\"LinearAxis\"},{\"attributes\":{},\"id\":\"1449\",\"type\":\"BasicTicker\"},{\"attributes\":{\"callback\":null,\"data\":{\"x\":[19.244036392556556,77.49789909131441],\"y\":[19.244036392556556,77.49789909131441]},\"selected\":{\"id\":\"1630\",\"type\":\"Selection\"},\"selection_policy\":{\"id\":\"1631\",\"type\":\"UnionRenderers\"}},\"id\":\"1506\",\"type\":\"ColumnDataSource\"},{\"attributes\":{},\"id\":\"1454\",\"type\":\"BasicTicker\"},{\"attributes\":{\"data_source\":{\"id\":\"1459\",\"type\":\"ColumnDataSource\"},\"glyph\":{\"id\":\"1461\",\"type\":\"Quad\"},\"hover_glyph\":null,\"muted_glyph\":null,\"nonselection_glyph\":{\"id\":\"1462\",\"type\":\"Quad\"},\"selection_glyph\":null,\"view\":{\"id\":\"1464\",\"type\":\"CDSView\"}},\"id\":\"1463\",\"type\":\"GlyphRenderer\"},{\"attributes\":{\"callback\":null,\"mode\":\"vline\",\"renderers\":[{\"id\":\"1463\",\"type\":\"GlyphRenderer\"}],\"tooltips\":[[\"Bin\",\"@intervals\"],[\"Density\",\"@freq\"]]},\"id\":\"1465\",\"type\":\"HoverTool\"},{\"attributes\":{\"dimension\":1,\"grid_line_color\":null,\"ticker\":{\"id\":\"1454\",\"type\":\"BasicTicker\"}},\"id\":\"1457\",\"type\":\"Grid\"},{\"attributes\":{\"bottom\":{\"value\":0},\"fill_alpha\":{\"value\":0.5},\"fill_color\":{\"value\":\"#6baed6\"},\"left\":{\"field\":\"left\"},\"line_alpha\":{\"value\":0.5},\"line_color\":{\"value\":\"#1f77b4\"},\"right\":{\"field\":\"right\"},\"top\":{\"field\":\"freq\"}},\"id\":\"1461\",\"type\":\"Quad\"},{\"attributes\":{\"bottom\":{\"value\":0},\"fill_alpha\":{\"value\":0.1},\"fill_color\":{\"value\":\"#1f77b4\"},\"left\":{\"field\":\"left\"},\"line_alpha\":{\"value\":0.1},\"line_color\":{\"value\":\"#1f77b4\"},\"right\":{\"field\":\"right\"},\"top\":{\"field\":\"freq\"}},\"id\":\"1462\",\"type\":\"Quad\"},{\"attributes\":{\"source\":{\"id\":\"1459\",\"type\":\"ColumnDataSource\"}},\"id\":\"1464\",\"type\":\"CDSView\"},{\"attributes\":{\"formatter\":{\"id\":\"1614\",\"type\":\"BasicTickFormatter\"},\"major_label_orientation\":1.0471975511965976,\"major_label_text_font_size\":{\"value\":\"9pt\"},\"minor_tick_line_color\":{\"value\":null},\"ticker\":{\"id\":\"1474\",\"type\":\"FixedTicker\"}},\"id\":\"1448\",\"type\":\"LinearAxis\"},{\"attributes\":{\"active_drag\":\"auto\",\"active_inspect\":\"auto\",\"active_multi\":null,\"active_scroll\":\"auto\",\"active_tap\":\"auto\",\"tools\":[{\"id\":\"1465\",\"type\":\"HoverTool\"},{\"id\":\"1471\",\"type\":\"HoverTool\"}]},\"id\":\"1458\",\"type\":\"Toolbar\"},{\"attributes\":{\"grid_line_color\":null,\"ticker\":{\"id\":\"1449\",\"type\":\"BasicTicker\"}},\"id\":\"1452\",\"type\":\"Grid\"},{\"attributes\":{\"callback\":null,\"data\":{\"x\":{\"__ndarray__\":\"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\",\"dtype\":\"float64\",\"shape\":[1000]},\"y\":{\"__ndarray__\":\"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\",\"dtype\":\"float64\",\"shape\":[1000]}},\"selected\":{\"id\":\"1626\",\"type\":\"Selection\"},\"selection_policy\":{\"id\":\"1627\",\"type\":\"UnionRenderers\"}},\"id\":\"1466\",\"type\":\"ColumnDataSource\"},{\"attributes\":{\"line_alpha\":0.5,\"line_color\":\"#9467bd\",\"line_width\":2,\"x\":{\"field\":\"x\"},\"y\":{\"field\":\"y\"}},\"id\":\"1467\",\"type\":\"Line\"},{\"attributes\":{\"data_source\":{\"id\":\"1466\",\"type\":\"ColumnDataSource\"},\"glyph\":{\"id\":\"1467\",\"type\":\"Line\"},\"hover_glyph\":null,\"muted_glyph\":null,\"nonselection_glyph\":{\"id\":\"1468\",\"type\":\"Line\"},\"selection_glyph\":null,\"view\":{\"id\":\"1470\",\"type\":\"CDSView\"}},\"id\":\"1469\",\"type\":\"GlyphRenderer\"},{\"attributes\":{\"callback\":null,\"data\":{\"freq\":{\"__ndarray__\":\"9vtn2WrakD+/YF4wL5iXP+/7Z9lq2pA/I5PZWxH3mj+HxVSH81WeP3vFVIfzVZ4/v2BeMC+Ylz9aLuMETTmUP2Iu4wRNOYQ/Ui7jBE05hD8=\",\"dtype\":\"float64\",\"shape\":[10]},\"index\":[0,1,2,3,4,5,6,7,8,9],\"intervals\":[\"[26.0,30.9)\",\"[30.9,35.8)\",\"[35.8,40.7)\",\"[40.7,45.6)\",\"[45.6,50.5)\",\"[50.5,55.4)\",\"[55.4,60.3)\",\"[60.3,65.2)\",\"[65.2,70.1)\",\"[70.1,75.0]\"],\"left\":{\"__ndarray__\":\"AAAAAAAAOkBmZmZmZuY+QGZmZmZm5kFAmpmZmZlZREDNzMzMzMxGQAAAAAAAQElANDMzMzOzS0BnZmZmZiZOQM3MzMzMTFBAZmZmZmaGUUA=\",\"dtype\":\"float64\",\"shape\":[10]},\"right\":{\"__ndarray__\":\"ZmZmZmbmPkBmZmZmZuZBQJqZmZmZWURAzczMzMzMRkAAAAAAAEBJQDQzMzMzs0tAZ2ZmZmYmTkDNzMzMzExQQGZmZmZmhlFAAAAAAADAUkA=\",\"dtype\":\"float64\",\"shape\":[10]}},\"selected\":{\"id\":\"1624\",\"type\":\"Selection\"},\"selection_policy\":{\"id\":\"1625\",\"type\":\"UnionRenderers\"}},\"id\":\"1459\",\"type\":\"ColumnDataSource\"},{\"attributes\":{\"source\":{\"id\":\"1466\",\"type\":\"ColumnDataSource\"}},\"id\":\"1470\",\"type\":\"CDSView\"},{\"attributes\":{\"callback\":null,\"renderers\":[{\"id\":\"1469\",\"type\":\"GlyphRenderer\"}],\"tooltips\":[[\"x\",\"@x\"],[\"y\",\"@y\"]]},\"id\":\"1471\",\"type\":\"HoverTool\"},{\"attributes\":{\"child\":{\"id\":\"1437\",\"subtype\":\"Figure\",\"type\":\"Plot\"},\"title\":\"KDE plot\"},\"id\":\"1476\",\"type\":\"Panel\"},{\"attributes\":{\"callback\":null},\"id\":\"1440\",\"type\":\"DataRange1d\"},{\"attributes\":{\"below\":[{\"id\":\"1488\",\"type\":\"LinearAxis\"}],\"center\":[{\"id\":\"1492\",\"type\":\"Grid\"},{\"id\":\"1497\",\"type\":\"Grid\"}],\"left\":[{\"id\":\"1493\",\"type\":\"LinearAxis\"}],\"plot_height\":400,\"plot_width\":450,\"renderers\":[{\"id\":\"1504\",\"type\":\"GlyphRenderer\"},{\"id\":\"1509\",\"type\":\"GlyphRenderer\"}],\"title\":{\"id\":\"1478\",\"type\":\"Title\"},\"toolbar\":{\"id\":\"1499\",\"type\":\"Toolbar\"},\"toolbar_location\":null,\"x_range\":{\"id\":\"1480\",\"type\":\"DataRange1d\"},\"x_scale\":{\"id\":\"1484\",\"type\":\"LinearScale\"},\"y_range\":{\"id\":\"1482\",\"type\":\"DataRange1d\"},\"y_scale\":{\"id\":\"1486\",\"type\":\"LinearScale\"}},\"id\":\"1477\",\"subtype\":\"Figure\",\"type\":\"Plot\"},{\"attributes\":{\"ticks\":[26.0,30.9,35.8,40.7,45.6,50.5,55.400000000000006,60.300000000000004,65.2,70.1,75.0]},\"id\":\"1474\",\"type\":\"FixedTicker\"},{\"attributes\":{\"below\":[{\"id\":\"1415\",\"type\":\"LinearAxis\"}],\"center\":[{\"id\":\"1419\",\"type\":\"Grid\"},{\"id\":\"1424\",\"type\":\"Grid\"}],\"left\":[{\"id\":\"1420\",\"type\":\"LinearAxis\"}],\"plot_height\":400,\"plot_width\":450,\"renderers\":[{\"id\":\"1430\",\"type\":\"GlyphRenderer\"}],\"title\":{\"id\":\"1405\",\"type\":\"Title\"},\"toolbar\":{\"id\":\"1425\",\"type\":\"Toolbar\"},\"toolbar_location\":null,\"x_range\":{\"id\":\"1407\",\"type\":\"DataRange1d\"},\"x_scale\":{\"id\":\"1411\",\"type\":\"LinearScale\"},\"y_range\":{\"id\":\"1409\",\"type\":\"DataRange1d\"},\"y_scale\":{\"id\":\"1413\",\"type\":\"LinearScale\"}},\"id\":\"1404\",\"subtype\":\"Figure\",\"type\":\"Plot\"},{\"attributes\":{},\"id\":\"1446\",\"type\":\"LinearScale\"},{\"attributes\":{\"callback\":null},\"id\":\"1442\",\"type\":\"DataRange1d\"},{\"attributes\":{\"callback\":null,\"data\":{\"x\":{\"__ndarray__\":\"cRBFK3k+M0DM9QgohKE2QLzzOWoJyThASQrrnUxoOkA7ryLZObo7QGoH2a7q2TxAPF0STzHWPUBgDCj8Fbg+QK0DASWHhT9AnGzWF1EhQEAob5OsMHlAQHLNb3d/y0BAfkuFsxgZQUATMFrHqGJBQHbdduK5qEFAtHZHm7zrQUC7DLL8DSxCQDi0T+H7aUJA1dAkJ8ilQkBjbWwVq99CQKmo0C/VF0NAFBFUn3BOQ0AuldFMooNDQBwwxcCKt0NAxjaC1kbqQ0Bs5ydN8BtEQAg29T2eTERAw+myfWV8REAuJIntWKtEQKVMkr6J2URAfmS9qgcHRUAK/wEl4TNFQE5Ie4IjYEVAWWSsHduLRUAcX/B0E7dFQOYb5kTX4UVAOLmBnzAMRkDSIk4AKTZGQNApUV7JX0ZAxgXxOxqJRkBXhiq1I7JGQGCqWozt2kZANCjUNX8DR0BMNnHi3ytHQFA2S4kWVEdAHHu88Cl8R0ACBMy2IKRHQHOHH1kBzEdAOGKNPNLzR0CT3GW0mRtIQEufiQleQ0hAphligSVrSEBr9M9k9pJIQNx3IwfXukhAwgAzzc3iSECNRaQ04QpJQJJFftsXM0lAqlMbiHhbSUB+0ZQxCoRJQIf1xAjUrElAF3b+gd3VSUAOUp5fLv9JQAtZob3OKEpApsJtHsdSSkD4Xwl5IH1KQMIc/0jkp0pAhRdDoBzTSkCPM3Q71P5KQNR87ZgWK0tAXxcyE/BXS0A5L13/bYVLQLBXZtCes0tAG5I8QJLiS0DWRfp/WRJMQHKUx3AHQ0xAGEVt57B0TEDCSyr9bKdMQLDmHXFV20xAymqbHocQTUA00x6OIkdNQHsOg6hMf01ACKvKli+5TUCmx5/c+/RNQCNvPcHpMk5AKQWoIjtzTkBonnjbPbZOQMpLlfZO/E5AYDBqCt9FT0Bsrn9GeJNPQLcMXBHH5U9AoYcMU9MeUEADfbcVGk5QQNe67V92gVBAoCYzi++5UEAUfEEzAflQQCASr2jtQFFAXPt8t2iVUUD/QGmEOf1RQHuA9dQah1JA03kmlN1fU0A=\",\"dtype\":\"float64\",\"shape\":[100]},\"y\":{\"__ndarray__\":\"AAAAAAAAOkAAAAAAAAA6QAAAAAAAADpAWA191dDXOkBxLr2RfQY8QDbWu7gSoTxA9vt0v093PUCBS3INeqw+QIbNty3ScD9AAAAAAAAAQEAAAAAAAABAQAAAAAAAAEBAAAAAAAAAQEAAAAAAAABAQBPe14soCEFA9jFXH3NVQUAAAAAAAIBBQAAAAAAAgEFAAAAAAACAQUA6W6qzpfpBQICBVG2dikJAY9XTAOjXQkAAAAAAAABDQAAAAAAAAENAAAAAAAAAQ0DtJNFOEg1DQNB4UOJcWkNAZZmf607PQ0AqQZ4S5GlEQAAAAAAAgERAWshNMIePREA8HM3D0dxEQCBwTFccKkVAAsTL6mZ3RUDkF0t+scRFQAAAAAAAAEZAAAAAAAAARkBvZ0jM23lGQAAAAAAAgEZANQ9H83CURkAXY8aGu+FGQAAAAAAAAEdAAAAAAAAAR0C+XkRBm0lHQAAAAAAAgEdAAAAAAACAR0BnWsL7erFHQEquQY/F/kdAAAAAAAAASEAPVkC2WhlIQPGpv0mlZkhA1P0+3e+zSEAAAAAAAABJQAAAAAAAAElAfPm8l88bSUBeTTwrGmlJQAAAAAAAgElAJPU6Uq+DSUAGSbrl+dBJQAAAAAAAAEpAAAAAAAAASkAAAAAAAABKQAAAAAAAAEpAAAAAAAAASkAAAAAAAABKQAAAAAAAAEpANtBpA512SkAAAAAAAABLQAAAAAAAAEtAhsdleFxGS0BMb2Sf8eBLQAAAAAAAAExAat+w9g0LTEBNMzCKWFhMQGAOXztGy0xAJrZdYttlTUAAAAAAAIBNQAAAAAAAgE1AAAAAAACATUAAAAAAAIBNQAAAAAAAgE1AxKRVTFoFTkAAAAAAAIBOQAAAAAAAgE5AAAAAAACATkAAAAAAAIBOQAAAAAAAgE5Az3WnByLFTkAAAAAAAABPQAAAAAAAAE9A8OJKhANaT0C0ikmrmPRPQDwZJOmWR1BAAAAAAACAUEAAAAAAAIBQQFgfc/Uxx1BAKx2y0iE7UUD+GvGvEa9RQEYIEC+rC1JAN7LPeFAyUkA=\",\"dtype\":\"float64\",\"shape\":[100]}},\"selected\":{\"id\":\"1628\",\"type\":\"Selection\"},\"selection_policy\":{\"id\":\"1629\",\"type\":\"UnionRenderers\"}},\"id\":\"1501\",\"type\":\"ColumnDataSource\"},{\"attributes\":{\"text\":\"age\",\"text_font_size\":{\"value\":\"10pt\"}},\"id\":\"1478\",\"type\":\"Title\"},{\"attributes\":{\"callback\":null},\"id\":\"1480\",\"type\":\"DataRange1d\"},{\"attributes\":{},\"id\":\"1444\",\"type\":\"LinearScale\"},{\"attributes\":{\"callback\":null},\"id\":\"1482\",\"type\":\"DataRange1d\"},{\"attributes\":{},\"id\":\"1484\",\"type\":\"LinearScale\"},{\"attributes\":{},\"id\":\"1486\",\"type\":\"LinearScale\"},{\"attributes\":{\"axis_label\":\"Normal Quantiles\",\"formatter\":{\"id\":\"1617\",\"type\":\"BasicTickFormatter\"},\"major_label_orientation\":1.0471975511965976,\"major_label_text_font_size\":{\"value\":\"9pt\"},\"minor_tick_line_color\":{\"value\":null},\"ticker\":{\"id\":\"1489\",\"type\":\"BasicTicker\"}},\"id\":\"1488\",\"type\":\"LinearAxis\"},{\"attributes\":{},\"id\":\"1489\",\"type\":\"BasicTicker\"},{\"attributes\":{\"ticks\":[26.0,30.9,35.8,40.7,45.6,50.5,55.400000000000006,60.300000000000004,65.2,70.1,75.0]},\"id\":\"1434\",\"type\":\"FixedTicker\"},{\"attributes\":{\"grid_line_color\":null,\"ticker\":{\"id\":\"1489\",\"type\":\"BasicTicker\"}},\"id\":\"1492\",\"type\":\"Grid\"},{\"attributes\":{\"text\":\"age\",\"text_font_size\":{\"value\":\"10pt\"}},\"id\":\"1438\",\"type\":\"Title\"},{\"attributes\":{\"axis_label\":\"Quantiles of age\",\"formatter\":{\"id\":\"1615\",\"type\":\"BasicTickFormatter\"},\"major_label_text_font_size\":{\"value\":\"9pt\"},\"minor_tick_line_color\":{\"value\":null},\"ticker\":{\"id\":\"1494\",\"type\":\"BasicTicker\"}},\"id\":\"1493\",\"type\":\"LinearAxis\"},{\"attributes\":{},\"id\":\"1494\",\"type\":\"BasicTicker\"},{\"attributes\":{\"dimension\":1,\"grid_line_color\":null,\"ticker\":{\"id\":\"1494\",\"type\":\"BasicTicker\"}},\"id\":\"1497\",\"type\":\"Grid\"},{\"attributes\":{\"callback\":null,\"tooltips\":[[\"x\",\"@x\"],[\"y\",\"@y\"]]},\"id\":\"1498\",\"type\":\"HoverTool\"}],\"root_ids\":[\"1574\"]},\"title\":\"Bokeh Application\",\"version\":\"1.4.0\"}};\n",
       "  var render_items = [{\"docid\":\"84c4d9bf-af7f-46ba-b9f3-7e710617e38e\",\"roots\":{\"1574\":\"2eded0a3-0756-4b35-8cdb-939dbf3233e8\"}}];\n",
       "  root.Bokeh.embed.embed_items_notebook(docs_json, render_items);\n",
       "\n",
       "  }\n",
       "  if (root.Bokeh !== undefined) {\n",
       "    embed_document(root);\n",
       "  } else {\n",
       "    var attempts = 0;\n",
       "    var timer = setInterval(function(root) {\n",
       "      if (root.Bokeh !== undefined) {\n",
       "        clearInterval(timer);\n",
       "        embed_document(root);\n",
       "      } else {\n",
       "        attempts++;\n",
       "        if (attempts > 100) {\n",
       "          clearInterval(timer);\n",
       "          console.log(\"Bokeh: ERROR: Unable to run BokehJS code because BokehJS library is missing\");\n",
       "        }\n",
       "      }\n",
       "    }, 10, root)\n",
       "  }\n",
       "})(window);"
      ],
      "application/vnd.bokehjs_exec.v0+json": ""
     },
     "metadata": {
      "application/vnd.bokehjs_exec.v0+json": {
       "id": "1574"
      }
     },
     "output_type": "display_data"
    },
    {
     "data": {
      "text/html": [
       "<div style=\"display: table;\"><div style=\"display: table-row;\"><div style=\"display: table-cell;\"><b title=\"bokeh.models.layouts.Tabs\">Tabs</b>(</div><div style=\"display: table-cell;\">id&nbsp;=&nbsp;'1574', <span id=\"1879\" style=\"cursor: pointer;\">&hellip;)</span></div></div><div class=\"1878\" style=\"display: none;\"><div style=\"display: table-cell;\"></div><div style=\"display: table-cell;\">active&nbsp;=&nbsp;0,</div></div><div class=\"1878\" style=\"display: none;\"><div style=\"display: table-cell;\"></div><div style=\"display: table-cell;\">align&nbsp;=&nbsp;'start',</div></div><div class=\"1878\" style=\"display: none;\"><div style=\"display: table-cell;\"></div><div style=\"display: table-cell;\">aspect_ratio&nbsp;=&nbsp;None,</div></div><div class=\"1878\" style=\"display: none;\"><div style=\"display: table-cell;\"></div><div style=\"display: table-cell;\">background&nbsp;=&nbsp;None,</div></div><div class=\"1878\" style=\"display: none;\"><div style=\"display: table-cell;\"></div><div style=\"display: table-cell;\">callback&nbsp;=&nbsp;None,</div></div><div class=\"1878\" style=\"display: none;\"><div style=\"display: table-cell;\"></div><div style=\"display: table-cell;\">css_classes&nbsp;=&nbsp;[],</div></div><div class=\"1878\" style=\"display: none;\"><div style=\"display: table-cell;\"></div><div style=\"display: table-cell;\">disabled&nbsp;=&nbsp;False,</div></div><div class=\"1878\" style=\"display: none;\"><div style=\"display: table-cell;\"></div><div style=\"display: table-cell;\">height&nbsp;=&nbsp;None,</div></div><div class=\"1878\" style=\"display: none;\"><div style=\"display: table-cell;\"></div><div style=\"display: table-cell;\">height_policy&nbsp;=&nbsp;'auto',</div></div><div class=\"1878\" style=\"display: none;\"><div style=\"display: table-cell;\"></div><div style=\"display: table-cell;\">js_event_callbacks&nbsp;=&nbsp;{},</div></div><div class=\"1878\" style=\"display: none;\"><div style=\"display: table-cell;\"></div><div style=\"display: table-cell;\">js_property_callbacks&nbsp;=&nbsp;{},</div></div><div class=\"1878\" style=\"display: none;\"><div style=\"display: table-cell;\"></div><div style=\"display: table-cell;\">margin&nbsp;=&nbsp;(0, 0, 0, 0),</div></div><div class=\"1878\" style=\"display: none;\"><div style=\"display: table-cell;\"></div><div style=\"display: table-cell;\">max_height&nbsp;=&nbsp;None,</div></div><div class=\"1878\" style=\"display: none;\"><div style=\"display: table-cell;\"></div><div style=\"display: table-cell;\">max_width&nbsp;=&nbsp;None,</div></div><div class=\"1878\" style=\"display: none;\"><div style=\"display: table-cell;\"></div><div style=\"display: table-cell;\">min_height&nbsp;=&nbsp;None,</div></div><div class=\"1878\" style=\"display: none;\"><div style=\"display: table-cell;\"></div><div style=\"display: table-cell;\">min_width&nbsp;=&nbsp;None,</div></div><div class=\"1878\" style=\"display: none;\"><div style=\"display: table-cell;\"></div><div style=\"display: table-cell;\">name&nbsp;=&nbsp;None,</div></div><div class=\"1878\" style=\"display: none;\"><div style=\"display: table-cell;\"></div><div style=\"display: table-cell;\">sizing_mode&nbsp;=&nbsp;None,</div></div><div class=\"1878\" style=\"display: none;\"><div style=\"display: table-cell;\"></div><div style=\"display: table-cell;\">subscribed_events&nbsp;=&nbsp;[],</div></div><div class=\"1878\" style=\"display: none;\"><div style=\"display: table-cell;\"></div><div style=\"display: table-cell;\">tabs&nbsp;=&nbsp;[Panel(id='1436', ...), Panel(id='1476', ...), Panel(id='1511', ...), Panel(id='1573', ...)],</div></div><div class=\"1878\" style=\"display: none;\"><div style=\"display: table-cell;\"></div><div style=\"display: table-cell;\">tabs_location&nbsp;=&nbsp;'above',</div></div><div class=\"1878\" style=\"display: none;\"><div style=\"display: table-cell;\"></div><div style=\"display: table-cell;\">tags&nbsp;=&nbsp;[],</div></div><div class=\"1878\" style=\"display: none;\"><div style=\"display: table-cell;\"></div><div style=\"display: table-cell;\">visible&nbsp;=&nbsp;True,</div></div><div class=\"1878\" style=\"display: none;\"><div style=\"display: table-cell;\"></div><div style=\"display: table-cell;\">width&nbsp;=&nbsp;None,</div></div><div class=\"1878\" style=\"display: none;\"><div style=\"display: table-cell;\"></div><div style=\"display: table-cell;\">width_policy&nbsp;=&nbsp;'auto')</div></div></div>\n",
       "<script>\n",
       "(function() {\n",
       "  var expanded = false;\n",
       "  var ellipsis = document.getElementById(\"1879\");\n",
       "  ellipsis.addEventListener(\"click\", function() {\n",
       "    var rows = document.getElementsByClassName(\"1878\");\n",
       "    for (var i = 0; i < rows.length; i++) {\n",
       "      var el = rows[i];\n",
       "      el.style.display = expanded ? \"none\" : \"table-row\";\n",
       "    }\n",
       "    ellipsis.innerHTML = expanded ? \"&hellip;)\" : \"&lsaquo;&lsaquo;&lsaquo;\";\n",
       "    expanded = !expanded;\n",
       "  });\n",
       "})();\n",
       "</script>\n"
      ],
      "text/plain": [
       "Tabs(id='1574', ...)"
      ]
     },
     "execution_count": 6,
     "metadata": {},
     "output_type": "execute_result"
    }
   ],
   "source": [
    "from dataprep.eda import plot\n",
    "import pandas as pd\n",
    "\n",
    "df = pd.read_csv(\"faculty_grad_year.csv\")\n",
    "df[\"age\"] = 2020+23-df[\"gradyear\"]\n",
    "\n",
    "plot(df, \"age\")"
   ]
  },
  {
   "cell_type": "markdown",
   "metadata": {},
   "source": [
    "## Submission"
   ]
  },
  {
   "cell_type": "markdown",
   "metadata": {},
   "source": [
    "Complete the code in this [notebook](https://github.com/sfu-db/bigdata-cmpt733/blob/master/Assignments/A1/A1.ipynb), and submit it to the CourSys activity `Assignment 1`."
   ]
  },
  {
   "cell_type": "markdown",
   "metadata": {},
   "source": [
    "<hr/>\n",
    "## <span style=\"color:red\">Bonus: Contribute to dataprep</span>"
   ]
  },
  {
   "cell_type": "markdown",
   "metadata": {},
   "source": [
    "**Total Bonus: 0.2 + 0.3 = 0.5**\n",
    "\n",
    "1. If you create an issue (i.e., report a bug or request a feature) at [link1](https://github.com/sfu-db/dataprep/issues) or [link2](https://github.com/sfu-db/DataConnectorConfigs/issues), you will get **0.2** bonus points.\n",
    "\n",
    "2.  Creating more issues will *not* give you more bonus points, but you are encouraged to do so for learning more.\n",
    "\n",
    "2. If you send a pull request (i.e., fix a bug or implement a feature or add data connector for a new website) at [link1](https://github.com/sfu-db/dataprep/pulls) or [link2](https://github.com/sfu-db/DataConnectorConfigs/pulls) and the pull request gets merged into the repo, you will get **0.3** bonus points. \n",
    "\n",
    "4.  Sending more pull requests will *not* give you more bonus points, but you are encouraged to do so for learning more.\n",
    "\n",
    "5. These bonus points will be directly added to your final grade.\n",
    "\n",
    "\n",
    "\n",
    "\n",
    "\n",
    "\n",
    "**How to Submit**\n",
    "* Submit github link(s) to the CourSys activity `Bonus`.\n",
    "* Due on `March 15, 2020`\n",
    "\n",
    "If you love dataprep, please support it by simply clicking the **<span style=\"color:red\">Star</span>** on [Github](https://github.com/sfu-db/dataprep).\n",
    "<img src=\"dataprep-star.png\" width=\"1000\">"
   ]
  }
 ],
 "metadata": {
  "kernelspec": {
   "display_name": "Python 3",
   "language": "python",
   "name": "python3"
  },
  "language_info": {
   "codemirror_mode": {
    "name": "ipython",
    "version": 3
   },
   "file_extension": ".py",
   "mimetype": "text/x-python",
   "name": "python",
   "nbconvert_exporter": "python",
   "pygments_lexer": "ipython3",
   "version": "3.6.9"
  }
 },
 "nbformat": 4,
 "nbformat_minor": 1
}
